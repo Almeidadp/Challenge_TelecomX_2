{
 "cells": [
  {
   "cell_type": "markdown",
   "metadata": {
    "id": "aHJqIZuF6XlY"
   },
   "source": [
    "<center>\n",
    "<b><font size=\"10\">Telecom X - Etapa 2</font></b>\n",
    "</center>\n",
    "\n",
    "<br/>\n",
    "<center>\n",
    "<b><font color=\"#FA8072\" size=\"6\">Modelagem Preditiva de Evasão de Clientes</font></b>\n",
    "</center>"
   ]
  },
  {
   "cell_type": "markdown",
   "metadata": {
    "id": "HN-SjMPHzgEh"
   },
   "source": [
    "🎯 <b><font color=\"#FA8072\">OBJETIVO GERAL:</font></b>\n",
    "\n",
    "- Desenvolver **modelos preditivos supervisionados** com a finalidade de identificar clientes com maior propensão à descontinuidade dos serviços contratados.\n",
    "\n",
    "- Visando **mitigar a evasão de clientes**, será implementado um pipeline de ciência de dados robusto para esta etapa exploratória de modelagem."
   ]
  },
  {
   "cell_type": "markdown",
   "metadata": {
    "id": "D07MID_1zhXk"
   },
   "source": [
    "🧠 <b><font color=\"#FA8072\">OBJETIVOS ESPECÍFICOS:</font></b>\n",
    "\n",
    "- Realizar a preparação dos dados para fins de **modelagem preditiva**, incluindo etapas de limpeza, codificação e normalização das variáveis.\n",
    "\n",
    "- Conduzir **análise exploratória de correlação** e aplicar técnicas de **seleção de atributos** relevantes.\n",
    "\n",
    "- Treinar múltiplos **algoritmos de classificação** com validação de desempenho.\n",
    "\n",
    "- Avaliar a performance dos modelos preditivos utilizando **métricas estatísticas apropriadas**.\n",
    "\n",
    "- **Interpretar os resultados** com foco na análise da importância dos preditores.\n",
    "\n",
    "- Formular uma **síntese estratégica** destacando os principais determinantes da evasão de clientes."
   ]
  },
  {
   "cell_type": "markdown",
   "metadata": {
    "id": "cds767N5x7R3"
   },
   "source": [
    "🧰 <b><font color=\"#FA8072\">ESCOPO DO DESAFIO:</font></b>\n",
    "\n",
    "- ✅ Aplicação de técnicas de pré-processamento voltadas à modelagem com algoritmos de aprendizado de máquina.\n",
    "\n",
    "- ✅ Construção, treinamento e validação de modelos de previsão.\n",
    "\n",
    "- ✅ Análise interpretativa dos resultados e extração de **insights estratégicos** baseados em dados.\n",
    "\n",
    "- ✅ Produção de uma comunicação técnica com foco na **tomada de decisão gerencial**."
   ]
  },
  {
   "cell_type": "markdown",
   "metadata": {
    "id": "4foVEKhrlqcH"
   },
   "source": [
    "# 📌 <b><font color=\"#FA8072\" size=\"6\">ETAPA 1: EXTRAÇÃO DE DADOS</font></b>\n",
    "\n",
    "---"
   ]
  },
  {
   "cell_type": "markdown",
   "metadata": {
    "id": "wPg7kFsa9_6v"
   },
   "source": [
    "Para iniciar análise, importado os [dados da API da Telecom X](https://drive.google.com/file/d/1Dul9YDaHCzXo8jFJKceEhzarRkjwLYnK/view?usp=drive_link). Esses dados estão disponíveis no formato `CSV` e contêm as informações já tratadas."
   ]
  },
  {
   "cell_type": "code",
   "execution_count": 2,
   "metadata": {},
   "outputs": [],
   "source": [
    "# Importação de bibliotecas essenciais para análise de dados e visualização\n",
    "import pandas as pd\n",
    "import numpy as np\n",
    "import seaborn as sns\n",
    "import matplotlib.pyplot as plt\n",
    "\n",
    "# Configurações estéticas globais\n",
    "sns.set_palette(\"pastel\")\n",
    "plt.style.use(\"seaborn-v0_8-darkgrid\")\n",
    "plt.rcParams[\"axes.facecolor\"] = \"#FA8072\"  # salmão\n",
    "plt.rcParams[\"figure.facecolor\"] = \"#FA8072\"\n",
    "plt.rcParams[\"axes.edgecolor\"] = \"black\"\n",
    "plt.rcParams[\"axes.labelcolor\"] = \"black\"\n",
    "plt.rcParams[\"xtick.color\"] = \"black\"\n",
    "plt.rcParams[\"ytick.color\"] = \"black\"\n",
    "plt.rcParams[\"text.color\"] = \"black\"\n"
   ]
  },
  {
   "cell_type": "code",
   "execution_count": 3,
   "id": "f4503077",
   "metadata": {},
   "outputs": [
    {
     "data": {
      "text/html": [
       "<strong style='font-size: 15px;'> ID_CLIENTE</strong>"
      ],
      "text/plain": [
       "<IPython.core.display.HTML object>"
      ]
     },
     "metadata": {},
     "output_type": "display_data"
    },
    {
     "data": {
      "application/vnd.microsoft.datawrangler.viewer.v0+json": {
       "columns": [
        {
         "name": "ID_Cliente",
         "rawType": "object",
         "type": "string"
        },
        {
         "name": "Frequência",
         "rawType": "int64",
         "type": "integer"
        }
       ],
       "ref": "2b3586e3-526f-454f-8496-6f2d00d8bc2c",
       "rows": [
        [
         "9995-HOTOH",
         "1"
        ],
        [
         "0002-ORFBO",
         "1"
        ],
        [
         "0003-MKNFE",
         "1"
        ]
       ],
       "shape": {
        "columns": 1,
        "rows": 3
       }
      },
      "text/html": [
       "<div>\n",
       "<style scoped>\n",
       "    .dataframe tbody tr th:only-of-type {\n",
       "        vertical-align: middle;\n",
       "    }\n",
       "\n",
       "    .dataframe tbody tr th {\n",
       "        vertical-align: top;\n",
       "    }\n",
       "\n",
       "    .dataframe thead th {\n",
       "        text-align: right;\n",
       "    }\n",
       "</style>\n",
       "<table border=\"1\" class=\"dataframe\">\n",
       "  <thead>\n",
       "    <tr style=\"text-align: right;\">\n",
       "      <th></th>\n",
       "      <th>Frequência</th>\n",
       "    </tr>\n",
       "    <tr>\n",
       "      <th>ID_Cliente</th>\n",
       "      <th></th>\n",
       "    </tr>\n",
       "  </thead>\n",
       "  <tbody>\n",
       "    <tr>\n",
       "      <th>9995-HOTOH</th>\n",
       "      <td>1</td>\n",
       "    </tr>\n",
       "    <tr>\n",
       "      <th>0002-ORFBO</th>\n",
       "      <td>1</td>\n",
       "    </tr>\n",
       "    <tr>\n",
       "      <th>0003-MKNFE</th>\n",
       "      <td>1</td>\n",
       "    </tr>\n",
       "  </tbody>\n",
       "</table>\n",
       "</div>"
      ],
      "text/plain": [
       "            Frequência\n",
       "ID_Cliente            \n",
       "9995-HOTOH           1\n",
       "0002-ORFBO           1\n",
       "0003-MKNFE           1"
      ]
     },
     "metadata": {},
     "output_type": "display_data"
    },
    {
     "name": "stdout",
     "output_type": "stream",
     "text": [
      "----------------------------------------\n"
     ]
    },
    {
     "data": {
      "text/html": [
       "<strong style='font-size: 15px;'> CANCELAMENTO</strong>"
      ],
      "text/plain": [
       "<IPython.core.display.HTML object>"
      ]
     },
     "metadata": {},
     "output_type": "display_data"
    },
    {
     "data": {
      "application/vnd.microsoft.datawrangler.viewer.v0+json": {
       "columns": [
        {
         "name": "Cancelamento",
         "rawType": "object",
         "type": "string"
        },
        {
         "name": "Frequência",
         "rawType": "int64",
         "type": "integer"
        }
       ],
       "ref": "f38dfcfe-386c-42d5-9328-50f74301ae4b",
       "rows": [
        [
         "No",
         "5163"
        ],
        [
         "Yes",
         "1869"
        ],
        [
         "Não informado",
         "224"
        ]
       ],
       "shape": {
        "columns": 1,
        "rows": 3
       }
      },
      "text/html": [
       "<div>\n",
       "<style scoped>\n",
       "    .dataframe tbody tr th:only-of-type {\n",
       "        vertical-align: middle;\n",
       "    }\n",
       "\n",
       "    .dataframe tbody tr th {\n",
       "        vertical-align: top;\n",
       "    }\n",
       "\n",
       "    .dataframe thead th {\n",
       "        text-align: right;\n",
       "    }\n",
       "</style>\n",
       "<table border=\"1\" class=\"dataframe\">\n",
       "  <thead>\n",
       "    <tr style=\"text-align: right;\">\n",
       "      <th></th>\n",
       "      <th>Frequência</th>\n",
       "    </tr>\n",
       "    <tr>\n",
       "      <th>Cancelamento</th>\n",
       "      <th></th>\n",
       "    </tr>\n",
       "  </thead>\n",
       "  <tbody>\n",
       "    <tr>\n",
       "      <th>No</th>\n",
       "      <td>5163</td>\n",
       "    </tr>\n",
       "    <tr>\n",
       "      <th>Yes</th>\n",
       "      <td>1869</td>\n",
       "    </tr>\n",
       "    <tr>\n",
       "      <th>Não informado</th>\n",
       "      <td>224</td>\n",
       "    </tr>\n",
       "  </tbody>\n",
       "</table>\n",
       "</div>"
      ],
      "text/plain": [
       "               Frequência\n",
       "Cancelamento             \n",
       "No                   5163\n",
       "Yes                  1869\n",
       "Não informado         224"
      ]
     },
     "metadata": {},
     "output_type": "display_data"
    },
    {
     "name": "stdout",
     "output_type": "stream",
     "text": [
      "----------------------------------------\n"
     ]
    },
    {
     "data": {
      "text/html": [
       "<strong style='font-size: 15px;'> GÊNERO</strong>"
      ],
      "text/plain": [
       "<IPython.core.display.HTML object>"
      ]
     },
     "metadata": {},
     "output_type": "display_data"
    },
    {
     "data": {
      "application/vnd.microsoft.datawrangler.viewer.v0+json": {
       "columns": [
        {
         "name": "Gênero",
         "rawType": "object",
         "type": "string"
        },
        {
         "name": "Frequência",
         "rawType": "int64",
         "type": "integer"
        }
       ],
       "ref": "e3e9deee-41ce-418a-bffe-125f0311a587",
       "rows": [
        [
         "Male",
         "3669"
        ],
        [
         "Female",
         "3587"
        ]
       ],
       "shape": {
        "columns": 1,
        "rows": 2
       }
      },
      "text/html": [
       "<div>\n",
       "<style scoped>\n",
       "    .dataframe tbody tr th:only-of-type {\n",
       "        vertical-align: middle;\n",
       "    }\n",
       "\n",
       "    .dataframe tbody tr th {\n",
       "        vertical-align: top;\n",
       "    }\n",
       "\n",
       "    .dataframe thead th {\n",
       "        text-align: right;\n",
       "    }\n",
       "</style>\n",
       "<table border=\"1\" class=\"dataframe\">\n",
       "  <thead>\n",
       "    <tr style=\"text-align: right;\">\n",
       "      <th></th>\n",
       "      <th>Frequência</th>\n",
       "    </tr>\n",
       "    <tr>\n",
       "      <th>Gênero</th>\n",
       "      <th></th>\n",
       "    </tr>\n",
       "  </thead>\n",
       "  <tbody>\n",
       "    <tr>\n",
       "      <th>Male</th>\n",
       "      <td>3669</td>\n",
       "    </tr>\n",
       "    <tr>\n",
       "      <th>Female</th>\n",
       "      <td>3587</td>\n",
       "    </tr>\n",
       "  </tbody>\n",
       "</table>\n",
       "</div>"
      ],
      "text/plain": [
       "        Frequência\n",
       "Gênero            \n",
       "Male          3669\n",
       "Female        3587"
      ]
     },
     "metadata": {},
     "output_type": "display_data"
    },
    {
     "name": "stdout",
     "output_type": "stream",
     "text": [
      "----------------------------------------\n"
     ]
    },
    {
     "data": {
      "text/html": [
       "<strong style='font-size: 15px;'> POSSUI_COMPANHEIRO</strong>"
      ],
      "text/plain": [
       "<IPython.core.display.HTML object>"
      ]
     },
     "metadata": {},
     "output_type": "display_data"
    },
    {
     "data": {
      "application/vnd.microsoft.datawrangler.viewer.v0+json": {
       "columns": [
        {
         "name": "Possui_Companheiro",
         "rawType": "object",
         "type": "string"
        },
        {
         "name": "Frequência",
         "rawType": "int64",
         "type": "integer"
        }
       ],
       "ref": "65885e12-bfea-40a3-a6f8-18e7a4bfdcdd",
       "rows": [
        [
         "No",
         "3747"
        ],
        [
         "Yes",
         "3509"
        ]
       ],
       "shape": {
        "columns": 1,
        "rows": 2
       }
      },
      "text/html": [
       "<div>\n",
       "<style scoped>\n",
       "    .dataframe tbody tr th:only-of-type {\n",
       "        vertical-align: middle;\n",
       "    }\n",
       "\n",
       "    .dataframe tbody tr th {\n",
       "        vertical-align: top;\n",
       "    }\n",
       "\n",
       "    .dataframe thead th {\n",
       "        text-align: right;\n",
       "    }\n",
       "</style>\n",
       "<table border=\"1\" class=\"dataframe\">\n",
       "  <thead>\n",
       "    <tr style=\"text-align: right;\">\n",
       "      <th></th>\n",
       "      <th>Frequência</th>\n",
       "    </tr>\n",
       "    <tr>\n",
       "      <th>Possui_Companheiro</th>\n",
       "      <th></th>\n",
       "    </tr>\n",
       "  </thead>\n",
       "  <tbody>\n",
       "    <tr>\n",
       "      <th>No</th>\n",
       "      <td>3747</td>\n",
       "    </tr>\n",
       "    <tr>\n",
       "      <th>Yes</th>\n",
       "      <td>3509</td>\n",
       "    </tr>\n",
       "  </tbody>\n",
       "</table>\n",
       "</div>"
      ],
      "text/plain": [
       "                    Frequência\n",
       "Possui_Companheiro            \n",
       "No                        3747\n",
       "Yes                       3509"
      ]
     },
     "metadata": {},
     "output_type": "display_data"
    },
    {
     "name": "stdout",
     "output_type": "stream",
     "text": [
      "----------------------------------------\n"
     ]
    },
    {
     "data": {
      "text/html": [
       "<strong style='font-size: 15px;'> POSSUI_DEPENDENTES</strong>"
      ],
      "text/plain": [
       "<IPython.core.display.HTML object>"
      ]
     },
     "metadata": {},
     "output_type": "display_data"
    },
    {
     "data": {
      "application/vnd.microsoft.datawrangler.viewer.v0+json": {
       "columns": [
        {
         "name": "Possui_Dependentes",
         "rawType": "object",
         "type": "string"
        },
        {
         "name": "Frequência",
         "rawType": "int64",
         "type": "integer"
        }
       ],
       "ref": "77a154e5-b28a-4920-aee0-8ccfbe14d498",
       "rows": [
        [
         "No",
         "5086"
        ],
        [
         "Yes",
         "2170"
        ]
       ],
       "shape": {
        "columns": 1,
        "rows": 2
       }
      },
      "text/html": [
       "<div>\n",
       "<style scoped>\n",
       "    .dataframe tbody tr th:only-of-type {\n",
       "        vertical-align: middle;\n",
       "    }\n",
       "\n",
       "    .dataframe tbody tr th {\n",
       "        vertical-align: top;\n",
       "    }\n",
       "\n",
       "    .dataframe thead th {\n",
       "        text-align: right;\n",
       "    }\n",
       "</style>\n",
       "<table border=\"1\" class=\"dataframe\">\n",
       "  <thead>\n",
       "    <tr style=\"text-align: right;\">\n",
       "      <th></th>\n",
       "      <th>Frequência</th>\n",
       "    </tr>\n",
       "    <tr>\n",
       "      <th>Possui_Dependentes</th>\n",
       "      <th></th>\n",
       "    </tr>\n",
       "  </thead>\n",
       "  <tbody>\n",
       "    <tr>\n",
       "      <th>No</th>\n",
       "      <td>5086</td>\n",
       "    </tr>\n",
       "    <tr>\n",
       "      <th>Yes</th>\n",
       "      <td>2170</td>\n",
       "    </tr>\n",
       "  </tbody>\n",
       "</table>\n",
       "</div>"
      ],
      "text/plain": [
       "                    Frequência\n",
       "Possui_Dependentes            \n",
       "No                        5086\n",
       "Yes                       2170"
      ]
     },
     "metadata": {},
     "output_type": "display_data"
    },
    {
     "name": "stdout",
     "output_type": "stream",
     "text": [
      "----------------------------------------\n"
     ]
    },
    {
     "data": {
      "text/html": [
       "<strong style='font-size: 15px;'> TELEFONE_ATIVO</strong>"
      ],
      "text/plain": [
       "<IPython.core.display.HTML object>"
      ]
     },
     "metadata": {},
     "output_type": "display_data"
    },
    {
     "data": {
      "application/vnd.microsoft.datawrangler.viewer.v0+json": {
       "columns": [
        {
         "name": "Telefone_Ativo",
         "rawType": "object",
         "type": "string"
        },
        {
         "name": "Frequência",
         "rawType": "int64",
         "type": "integer"
        }
       ],
       "ref": "2194f661-3373-486e-8f9f-1e4d8a609b26",
       "rows": [
        [
         "Yes",
         "6551"
        ],
        [
         "No",
         "705"
        ]
       ],
       "shape": {
        "columns": 1,
        "rows": 2
       }
      },
      "text/html": [
       "<div>\n",
       "<style scoped>\n",
       "    .dataframe tbody tr th:only-of-type {\n",
       "        vertical-align: middle;\n",
       "    }\n",
       "\n",
       "    .dataframe tbody tr th {\n",
       "        vertical-align: top;\n",
       "    }\n",
       "\n",
       "    .dataframe thead th {\n",
       "        text-align: right;\n",
       "    }\n",
       "</style>\n",
       "<table border=\"1\" class=\"dataframe\">\n",
       "  <thead>\n",
       "    <tr style=\"text-align: right;\">\n",
       "      <th></th>\n",
       "      <th>Frequência</th>\n",
       "    </tr>\n",
       "    <tr>\n",
       "      <th>Telefone_Ativo</th>\n",
       "      <th></th>\n",
       "    </tr>\n",
       "  </thead>\n",
       "  <tbody>\n",
       "    <tr>\n",
       "      <th>Yes</th>\n",
       "      <td>6551</td>\n",
       "    </tr>\n",
       "    <tr>\n",
       "      <th>No</th>\n",
       "      <td>705</td>\n",
       "    </tr>\n",
       "  </tbody>\n",
       "</table>\n",
       "</div>"
      ],
      "text/plain": [
       "                Frequência\n",
       "Telefone_Ativo            \n",
       "Yes                   6551\n",
       "No                     705"
      ]
     },
     "metadata": {},
     "output_type": "display_data"
    },
    {
     "name": "stdout",
     "output_type": "stream",
     "text": [
      "----------------------------------------\n"
     ]
    },
    {
     "data": {
      "text/html": [
       "<strong style='font-size: 15px;'> MULTIPLAS_LINHAS</strong>"
      ],
      "text/plain": [
       "<IPython.core.display.HTML object>"
      ]
     },
     "metadata": {},
     "output_type": "display_data"
    },
    {
     "data": {
      "application/vnd.microsoft.datawrangler.viewer.v0+json": {
       "columns": [
        {
         "name": "Multiplas_Linhas",
         "rawType": "object",
         "type": "string"
        },
        {
         "name": "Frequência",
         "rawType": "int64",
         "type": "integer"
        }
       ],
       "ref": "e26f053f-dbec-4a18-b9c6-f2a6946ff53a",
       "rows": [
        [
         "No",
         "3490"
        ],
        [
         "Yes",
         "3061"
        ],
        [
         "No phone service",
         "705"
        ]
       ],
       "shape": {
        "columns": 1,
        "rows": 3
       }
      },
      "text/html": [
       "<div>\n",
       "<style scoped>\n",
       "    .dataframe tbody tr th:only-of-type {\n",
       "        vertical-align: middle;\n",
       "    }\n",
       "\n",
       "    .dataframe tbody tr th {\n",
       "        vertical-align: top;\n",
       "    }\n",
       "\n",
       "    .dataframe thead th {\n",
       "        text-align: right;\n",
       "    }\n",
       "</style>\n",
       "<table border=\"1\" class=\"dataframe\">\n",
       "  <thead>\n",
       "    <tr style=\"text-align: right;\">\n",
       "      <th></th>\n",
       "      <th>Frequência</th>\n",
       "    </tr>\n",
       "    <tr>\n",
       "      <th>Multiplas_Linhas</th>\n",
       "      <th></th>\n",
       "    </tr>\n",
       "  </thead>\n",
       "  <tbody>\n",
       "    <tr>\n",
       "      <th>No</th>\n",
       "      <td>3490</td>\n",
       "    </tr>\n",
       "    <tr>\n",
       "      <th>Yes</th>\n",
       "      <td>3061</td>\n",
       "    </tr>\n",
       "    <tr>\n",
       "      <th>No phone service</th>\n",
       "      <td>705</td>\n",
       "    </tr>\n",
       "  </tbody>\n",
       "</table>\n",
       "</div>"
      ],
      "text/plain": [
       "                  Frequência\n",
       "Multiplas_Linhas            \n",
       "No                      3490\n",
       "Yes                     3061\n",
       "No phone service         705"
      ]
     },
     "metadata": {},
     "output_type": "display_data"
    },
    {
     "name": "stdout",
     "output_type": "stream",
     "text": [
      "----------------------------------------\n"
     ]
    },
    {
     "data": {
      "text/html": [
       "<strong style='font-size: 15px;'> TIPO_INTERNET</strong>"
      ],
      "text/plain": [
       "<IPython.core.display.HTML object>"
      ]
     },
     "metadata": {},
     "output_type": "display_data"
    },
    {
     "data": {
      "application/vnd.microsoft.datawrangler.viewer.v0+json": {
       "columns": [
        {
         "name": "Tipo_Internet",
         "rawType": "object",
         "type": "string"
        },
        {
         "name": "Frequência",
         "rawType": "int64",
         "type": "integer"
        }
       ],
       "ref": "e4b041a8-f55b-4904-96c9-a3191f8307aa",
       "rows": [
        [
         "Fiber optic",
         "3198"
        ],
        [
         "DSL",
         "2483"
        ],
        [
         "No",
         "1575"
        ]
       ],
       "shape": {
        "columns": 1,
        "rows": 3
       }
      },
      "text/html": [
       "<div>\n",
       "<style scoped>\n",
       "    .dataframe tbody tr th:only-of-type {\n",
       "        vertical-align: middle;\n",
       "    }\n",
       "\n",
       "    .dataframe tbody tr th {\n",
       "        vertical-align: top;\n",
       "    }\n",
       "\n",
       "    .dataframe thead th {\n",
       "        text-align: right;\n",
       "    }\n",
       "</style>\n",
       "<table border=\"1\" class=\"dataframe\">\n",
       "  <thead>\n",
       "    <tr style=\"text-align: right;\">\n",
       "      <th></th>\n",
       "      <th>Frequência</th>\n",
       "    </tr>\n",
       "    <tr>\n",
       "      <th>Tipo_Internet</th>\n",
       "      <th></th>\n",
       "    </tr>\n",
       "  </thead>\n",
       "  <tbody>\n",
       "    <tr>\n",
       "      <th>Fiber optic</th>\n",
       "      <td>3198</td>\n",
       "    </tr>\n",
       "    <tr>\n",
       "      <th>DSL</th>\n",
       "      <td>2483</td>\n",
       "    </tr>\n",
       "    <tr>\n",
       "      <th>No</th>\n",
       "      <td>1575</td>\n",
       "    </tr>\n",
       "  </tbody>\n",
       "</table>\n",
       "</div>"
      ],
      "text/plain": [
       "               Frequência\n",
       "Tipo_Internet            \n",
       "Fiber optic          3198\n",
       "DSL                  2483\n",
       "No                   1575"
      ]
     },
     "metadata": {},
     "output_type": "display_data"
    },
    {
     "name": "stdout",
     "output_type": "stream",
     "text": [
      "----------------------------------------\n"
     ]
    },
    {
     "data": {
      "text/html": [
       "<strong style='font-size: 15px;'> SEGURANCA_ONLINE</strong>"
      ],
      "text/plain": [
       "<IPython.core.display.HTML object>"
      ]
     },
     "metadata": {},
     "output_type": "display_data"
    },
    {
     "data": {
      "application/vnd.microsoft.datawrangler.viewer.v0+json": {
       "columns": [
        {
         "name": "Seguranca_Online",
         "rawType": "object",
         "type": "string"
        },
        {
         "name": "Frequência",
         "rawType": "int64",
         "type": "integer"
        }
       ],
       "ref": "c3761e31-4bdb-4374-a86c-a85a86b05be2",
       "rows": [
        [
         "No",
         "3607"
        ],
        [
         "Yes",
         "2074"
        ],
        [
         "No internet service",
         "1575"
        ]
       ],
       "shape": {
        "columns": 1,
        "rows": 3
       }
      },
      "text/html": [
       "<div>\n",
       "<style scoped>\n",
       "    .dataframe tbody tr th:only-of-type {\n",
       "        vertical-align: middle;\n",
       "    }\n",
       "\n",
       "    .dataframe tbody tr th {\n",
       "        vertical-align: top;\n",
       "    }\n",
       "\n",
       "    .dataframe thead th {\n",
       "        text-align: right;\n",
       "    }\n",
       "</style>\n",
       "<table border=\"1\" class=\"dataframe\">\n",
       "  <thead>\n",
       "    <tr style=\"text-align: right;\">\n",
       "      <th></th>\n",
       "      <th>Frequência</th>\n",
       "    </tr>\n",
       "    <tr>\n",
       "      <th>Seguranca_Online</th>\n",
       "      <th></th>\n",
       "    </tr>\n",
       "  </thead>\n",
       "  <tbody>\n",
       "    <tr>\n",
       "      <th>No</th>\n",
       "      <td>3607</td>\n",
       "    </tr>\n",
       "    <tr>\n",
       "      <th>Yes</th>\n",
       "      <td>2074</td>\n",
       "    </tr>\n",
       "    <tr>\n",
       "      <th>No internet service</th>\n",
       "      <td>1575</td>\n",
       "    </tr>\n",
       "  </tbody>\n",
       "</table>\n",
       "</div>"
      ],
      "text/plain": [
       "                     Frequência\n",
       "Seguranca_Online               \n",
       "No                         3607\n",
       "Yes                        2074\n",
       "No internet service        1575"
      ]
     },
     "metadata": {},
     "output_type": "display_data"
    },
    {
     "name": "stdout",
     "output_type": "stream",
     "text": [
      "----------------------------------------\n"
     ]
    },
    {
     "data": {
      "text/html": [
       "<strong style='font-size: 15px;'> BACKUP_ONLINE</strong>"
      ],
      "text/plain": [
       "<IPython.core.display.HTML object>"
      ]
     },
     "metadata": {},
     "output_type": "display_data"
    },
    {
     "data": {
      "application/vnd.microsoft.datawrangler.viewer.v0+json": {
       "columns": [
        {
         "name": "Backup_Online",
         "rawType": "object",
         "type": "string"
        },
        {
         "name": "Frequência",
         "rawType": "int64",
         "type": "integer"
        }
       ],
       "ref": "856aeb2f-f108-4505-a141-c54061d99e6c",
       "rows": [
        [
         "No",
         "3181"
        ],
        [
         "Yes",
         "2500"
        ],
        [
         "No internet service",
         "1575"
        ]
       ],
       "shape": {
        "columns": 1,
        "rows": 3
       }
      },
      "text/html": [
       "<div>\n",
       "<style scoped>\n",
       "    .dataframe tbody tr th:only-of-type {\n",
       "        vertical-align: middle;\n",
       "    }\n",
       "\n",
       "    .dataframe tbody tr th {\n",
       "        vertical-align: top;\n",
       "    }\n",
       "\n",
       "    .dataframe thead th {\n",
       "        text-align: right;\n",
       "    }\n",
       "</style>\n",
       "<table border=\"1\" class=\"dataframe\">\n",
       "  <thead>\n",
       "    <tr style=\"text-align: right;\">\n",
       "      <th></th>\n",
       "      <th>Frequência</th>\n",
       "    </tr>\n",
       "    <tr>\n",
       "      <th>Backup_Online</th>\n",
       "      <th></th>\n",
       "    </tr>\n",
       "  </thead>\n",
       "  <tbody>\n",
       "    <tr>\n",
       "      <th>No</th>\n",
       "      <td>3181</td>\n",
       "    </tr>\n",
       "    <tr>\n",
       "      <th>Yes</th>\n",
       "      <td>2500</td>\n",
       "    </tr>\n",
       "    <tr>\n",
       "      <th>No internet service</th>\n",
       "      <td>1575</td>\n",
       "    </tr>\n",
       "  </tbody>\n",
       "</table>\n",
       "</div>"
      ],
      "text/plain": [
       "                     Frequência\n",
       "Backup_Online                  \n",
       "No                         3181\n",
       "Yes                        2500\n",
       "No internet service        1575"
      ]
     },
     "metadata": {},
     "output_type": "display_data"
    },
    {
     "name": "stdout",
     "output_type": "stream",
     "text": [
      "----------------------------------------\n"
     ]
    },
    {
     "data": {
      "text/html": [
       "<strong style='font-size: 15px;'> PROTECAO_DISPOSITIVO</strong>"
      ],
      "text/plain": [
       "<IPython.core.display.HTML object>"
      ]
     },
     "metadata": {},
     "output_type": "display_data"
    },
    {
     "data": {
      "application/vnd.microsoft.datawrangler.viewer.v0+json": {
       "columns": [
        {
         "name": "Protecao_Dispositivo",
         "rawType": "object",
         "type": "string"
        },
        {
         "name": "Frequência",
         "rawType": "int64",
         "type": "integer"
        }
       ],
       "ref": "d8ad4ad6-bf9a-488e-8f44-095938b732f4",
       "rows": [
        [
         "No",
         "3194"
        ],
        [
         "Yes",
         "2487"
        ],
        [
         "No internet service",
         "1575"
        ]
       ],
       "shape": {
        "columns": 1,
        "rows": 3
       }
      },
      "text/html": [
       "<div>\n",
       "<style scoped>\n",
       "    .dataframe tbody tr th:only-of-type {\n",
       "        vertical-align: middle;\n",
       "    }\n",
       "\n",
       "    .dataframe tbody tr th {\n",
       "        vertical-align: top;\n",
       "    }\n",
       "\n",
       "    .dataframe thead th {\n",
       "        text-align: right;\n",
       "    }\n",
       "</style>\n",
       "<table border=\"1\" class=\"dataframe\">\n",
       "  <thead>\n",
       "    <tr style=\"text-align: right;\">\n",
       "      <th></th>\n",
       "      <th>Frequência</th>\n",
       "    </tr>\n",
       "    <tr>\n",
       "      <th>Protecao_Dispositivo</th>\n",
       "      <th></th>\n",
       "    </tr>\n",
       "  </thead>\n",
       "  <tbody>\n",
       "    <tr>\n",
       "      <th>No</th>\n",
       "      <td>3194</td>\n",
       "    </tr>\n",
       "    <tr>\n",
       "      <th>Yes</th>\n",
       "      <td>2487</td>\n",
       "    </tr>\n",
       "    <tr>\n",
       "      <th>No internet service</th>\n",
       "      <td>1575</td>\n",
       "    </tr>\n",
       "  </tbody>\n",
       "</table>\n",
       "</div>"
      ],
      "text/plain": [
       "                      Frequência\n",
       "Protecao_Dispositivo            \n",
       "No                          3194\n",
       "Yes                         2487\n",
       "No internet service         1575"
      ]
     },
     "metadata": {},
     "output_type": "display_data"
    },
    {
     "name": "stdout",
     "output_type": "stream",
     "text": [
      "----------------------------------------\n"
     ]
    },
    {
     "data": {
      "text/html": [
       "<strong style='font-size: 15px;'> SUPORTE_TECNICO</strong>"
      ],
      "text/plain": [
       "<IPython.core.display.HTML object>"
      ]
     },
     "metadata": {},
     "output_type": "display_data"
    },
    {
     "data": {
      "application/vnd.microsoft.datawrangler.viewer.v0+json": {
       "columns": [
        {
         "name": "Suporte_Tecnico",
         "rawType": "object",
         "type": "string"
        },
        {
         "name": "Frequência",
         "rawType": "int64",
         "type": "integer"
        }
       ],
       "ref": "12b2eea5-c3cd-4336-bc90-98821501a291",
       "rows": [
        [
         "No",
         "3581"
        ],
        [
         "Yes",
         "2100"
        ],
        [
         "No internet service",
         "1575"
        ]
       ],
       "shape": {
        "columns": 1,
        "rows": 3
       }
      },
      "text/html": [
       "<div>\n",
       "<style scoped>\n",
       "    .dataframe tbody tr th:only-of-type {\n",
       "        vertical-align: middle;\n",
       "    }\n",
       "\n",
       "    .dataframe tbody tr th {\n",
       "        vertical-align: top;\n",
       "    }\n",
       "\n",
       "    .dataframe thead th {\n",
       "        text-align: right;\n",
       "    }\n",
       "</style>\n",
       "<table border=\"1\" class=\"dataframe\">\n",
       "  <thead>\n",
       "    <tr style=\"text-align: right;\">\n",
       "      <th></th>\n",
       "      <th>Frequência</th>\n",
       "    </tr>\n",
       "    <tr>\n",
       "      <th>Suporte_Tecnico</th>\n",
       "      <th></th>\n",
       "    </tr>\n",
       "  </thead>\n",
       "  <tbody>\n",
       "    <tr>\n",
       "      <th>No</th>\n",
       "      <td>3581</td>\n",
       "    </tr>\n",
       "    <tr>\n",
       "      <th>Yes</th>\n",
       "      <td>2100</td>\n",
       "    </tr>\n",
       "    <tr>\n",
       "      <th>No internet service</th>\n",
       "      <td>1575</td>\n",
       "    </tr>\n",
       "  </tbody>\n",
       "</table>\n",
       "</div>"
      ],
      "text/plain": [
       "                     Frequência\n",
       "Suporte_Tecnico                \n",
       "No                         3581\n",
       "Yes                        2100\n",
       "No internet service        1575"
      ]
     },
     "metadata": {},
     "output_type": "display_data"
    },
    {
     "name": "stdout",
     "output_type": "stream",
     "text": [
      "----------------------------------------\n"
     ]
    },
    {
     "data": {
      "text/html": [
       "<strong style='font-size: 15px;'> STREAMING_TV</strong>"
      ],
      "text/plain": [
       "<IPython.core.display.HTML object>"
      ]
     },
     "metadata": {},
     "output_type": "display_data"
    },
    {
     "data": {
      "application/vnd.microsoft.datawrangler.viewer.v0+json": {
       "columns": [
        {
         "name": "Streaming_TV",
         "rawType": "object",
         "type": "string"
        },
        {
         "name": "Frequência",
         "rawType": "int64",
         "type": "integer"
        }
       ],
       "ref": "14b9689a-01d7-4f12-8541-f1e48e0d7853",
       "rows": [
        [
         "No",
         "2895"
        ],
        [
         "Yes",
         "2786"
        ],
        [
         "No internet service",
         "1575"
        ]
       ],
       "shape": {
        "columns": 1,
        "rows": 3
       }
      },
      "text/html": [
       "<div>\n",
       "<style scoped>\n",
       "    .dataframe tbody tr th:only-of-type {\n",
       "        vertical-align: middle;\n",
       "    }\n",
       "\n",
       "    .dataframe tbody tr th {\n",
       "        vertical-align: top;\n",
       "    }\n",
       "\n",
       "    .dataframe thead th {\n",
       "        text-align: right;\n",
       "    }\n",
       "</style>\n",
       "<table border=\"1\" class=\"dataframe\">\n",
       "  <thead>\n",
       "    <tr style=\"text-align: right;\">\n",
       "      <th></th>\n",
       "      <th>Frequência</th>\n",
       "    </tr>\n",
       "    <tr>\n",
       "      <th>Streaming_TV</th>\n",
       "      <th></th>\n",
       "    </tr>\n",
       "  </thead>\n",
       "  <tbody>\n",
       "    <tr>\n",
       "      <th>No</th>\n",
       "      <td>2895</td>\n",
       "    </tr>\n",
       "    <tr>\n",
       "      <th>Yes</th>\n",
       "      <td>2786</td>\n",
       "    </tr>\n",
       "    <tr>\n",
       "      <th>No internet service</th>\n",
       "      <td>1575</td>\n",
       "    </tr>\n",
       "  </tbody>\n",
       "</table>\n",
       "</div>"
      ],
      "text/plain": [
       "                     Frequência\n",
       "Streaming_TV                   \n",
       "No                         2895\n",
       "Yes                        2786\n",
       "No internet service        1575"
      ]
     },
     "metadata": {},
     "output_type": "display_data"
    },
    {
     "name": "stdout",
     "output_type": "stream",
     "text": [
      "----------------------------------------\n"
     ]
    },
    {
     "data": {
      "text/html": [
       "<strong style='font-size: 15px;'> STREAMING_FILMES</strong>"
      ],
      "text/plain": [
       "<IPython.core.display.HTML object>"
      ]
     },
     "metadata": {},
     "output_type": "display_data"
    },
    {
     "data": {
      "application/vnd.microsoft.datawrangler.viewer.v0+json": {
       "columns": [
        {
         "name": "Streaming_Filmes",
         "rawType": "object",
         "type": "string"
        },
        {
         "name": "Frequência",
         "rawType": "int64",
         "type": "integer"
        }
       ],
       "ref": "b7ff34aa-118b-4a11-b22f-e7b7b05ed1a7",
       "rows": [
        [
         "No",
         "2866"
        ],
        [
         "Yes",
         "2815"
        ],
        [
         "No internet service",
         "1575"
        ]
       ],
       "shape": {
        "columns": 1,
        "rows": 3
       }
      },
      "text/html": [
       "<div>\n",
       "<style scoped>\n",
       "    .dataframe tbody tr th:only-of-type {\n",
       "        vertical-align: middle;\n",
       "    }\n",
       "\n",
       "    .dataframe tbody tr th {\n",
       "        vertical-align: top;\n",
       "    }\n",
       "\n",
       "    .dataframe thead th {\n",
       "        text-align: right;\n",
       "    }\n",
       "</style>\n",
       "<table border=\"1\" class=\"dataframe\">\n",
       "  <thead>\n",
       "    <tr style=\"text-align: right;\">\n",
       "      <th></th>\n",
       "      <th>Frequência</th>\n",
       "    </tr>\n",
       "    <tr>\n",
       "      <th>Streaming_Filmes</th>\n",
       "      <th></th>\n",
       "    </tr>\n",
       "  </thead>\n",
       "  <tbody>\n",
       "    <tr>\n",
       "      <th>No</th>\n",
       "      <td>2866</td>\n",
       "    </tr>\n",
       "    <tr>\n",
       "      <th>Yes</th>\n",
       "      <td>2815</td>\n",
       "    </tr>\n",
       "    <tr>\n",
       "      <th>No internet service</th>\n",
       "      <td>1575</td>\n",
       "    </tr>\n",
       "  </tbody>\n",
       "</table>\n",
       "</div>"
      ],
      "text/plain": [
       "                     Frequência\n",
       "Streaming_Filmes               \n",
       "No                         2866\n",
       "Yes                        2815\n",
       "No internet service        1575"
      ]
     },
     "metadata": {},
     "output_type": "display_data"
    },
    {
     "name": "stdout",
     "output_type": "stream",
     "text": [
      "----------------------------------------\n"
     ]
    },
    {
     "data": {
      "text/html": [
       "<strong style='font-size: 15px;'> TIPO_CONTRATO</strong>"
      ],
      "text/plain": [
       "<IPython.core.display.HTML object>"
      ]
     },
     "metadata": {},
     "output_type": "display_data"
    },
    {
     "data": {
      "application/vnd.microsoft.datawrangler.viewer.v0+json": {
       "columns": [
        {
         "name": "Tipo_Contrato",
         "rawType": "object",
         "type": "string"
        },
        {
         "name": "Frequência",
         "rawType": "int64",
         "type": "integer"
        }
       ],
       "ref": "3dff49a1-0485-404c-9dc6-55c0d9f31a4c",
       "rows": [
        [
         "Month-to-month",
         "4005"
        ],
        [
         "Two year",
         "1733"
        ],
        [
         "One year",
         "1518"
        ]
       ],
       "shape": {
        "columns": 1,
        "rows": 3
       }
      },
      "text/html": [
       "<div>\n",
       "<style scoped>\n",
       "    .dataframe tbody tr th:only-of-type {\n",
       "        vertical-align: middle;\n",
       "    }\n",
       "\n",
       "    .dataframe tbody tr th {\n",
       "        vertical-align: top;\n",
       "    }\n",
       "\n",
       "    .dataframe thead th {\n",
       "        text-align: right;\n",
       "    }\n",
       "</style>\n",
       "<table border=\"1\" class=\"dataframe\">\n",
       "  <thead>\n",
       "    <tr style=\"text-align: right;\">\n",
       "      <th></th>\n",
       "      <th>Frequência</th>\n",
       "    </tr>\n",
       "    <tr>\n",
       "      <th>Tipo_Contrato</th>\n",
       "      <th></th>\n",
       "    </tr>\n",
       "  </thead>\n",
       "  <tbody>\n",
       "    <tr>\n",
       "      <th>Month-to-month</th>\n",
       "      <td>4005</td>\n",
       "    </tr>\n",
       "    <tr>\n",
       "      <th>Two year</th>\n",
       "      <td>1733</td>\n",
       "    </tr>\n",
       "    <tr>\n",
       "      <th>One year</th>\n",
       "      <td>1518</td>\n",
       "    </tr>\n",
       "  </tbody>\n",
       "</table>\n",
       "</div>"
      ],
      "text/plain": [
       "                Frequência\n",
       "Tipo_Contrato             \n",
       "Month-to-month        4005\n",
       "Two year              1733\n",
       "One year              1518"
      ]
     },
     "metadata": {},
     "output_type": "display_data"
    },
    {
     "name": "stdout",
     "output_type": "stream",
     "text": [
      "----------------------------------------\n"
     ]
    },
    {
     "data": {
      "text/html": [
       "<strong style='font-size: 15px;'> FATURA_DIGITAL</strong>"
      ],
      "text/plain": [
       "<IPython.core.display.HTML object>"
      ]
     },
     "metadata": {},
     "output_type": "display_data"
    },
    {
     "data": {
      "application/vnd.microsoft.datawrangler.viewer.v0+json": {
       "columns": [
        {
         "name": "Fatura_Digital",
         "rawType": "object",
         "type": "string"
        },
        {
         "name": "Frequência",
         "rawType": "int64",
         "type": "integer"
        }
       ],
       "ref": "4f207994-d3d1-4671-9064-5282363fde0a",
       "rows": [
        [
         "Yes",
         "4308"
        ],
        [
         "No",
         "2948"
        ]
       ],
       "shape": {
        "columns": 1,
        "rows": 2
       }
      },
      "text/html": [
       "<div>\n",
       "<style scoped>\n",
       "    .dataframe tbody tr th:only-of-type {\n",
       "        vertical-align: middle;\n",
       "    }\n",
       "\n",
       "    .dataframe tbody tr th {\n",
       "        vertical-align: top;\n",
       "    }\n",
       "\n",
       "    .dataframe thead th {\n",
       "        text-align: right;\n",
       "    }\n",
       "</style>\n",
       "<table border=\"1\" class=\"dataframe\">\n",
       "  <thead>\n",
       "    <tr style=\"text-align: right;\">\n",
       "      <th></th>\n",
       "      <th>Frequência</th>\n",
       "    </tr>\n",
       "    <tr>\n",
       "      <th>Fatura_Digital</th>\n",
       "      <th></th>\n",
       "    </tr>\n",
       "  </thead>\n",
       "  <tbody>\n",
       "    <tr>\n",
       "      <th>Yes</th>\n",
       "      <td>4308</td>\n",
       "    </tr>\n",
       "    <tr>\n",
       "      <th>No</th>\n",
       "      <td>2948</td>\n",
       "    </tr>\n",
       "  </tbody>\n",
       "</table>\n",
       "</div>"
      ],
      "text/plain": [
       "                Frequência\n",
       "Fatura_Digital            \n",
       "Yes                   4308\n",
       "No                    2948"
      ]
     },
     "metadata": {},
     "output_type": "display_data"
    },
    {
     "name": "stdout",
     "output_type": "stream",
     "text": [
      "----------------------------------------\n"
     ]
    },
    {
     "data": {
      "text/html": [
       "<strong style='font-size: 15px;'> FORMA_PAGAMENTO</strong>"
      ],
      "text/plain": [
       "<IPython.core.display.HTML object>"
      ]
     },
     "metadata": {},
     "output_type": "display_data"
    },
    {
     "data": {
      "application/vnd.microsoft.datawrangler.viewer.v0+json": {
       "columns": [
        {
         "name": "Forma_Pagamento",
         "rawType": "object",
         "type": "string"
        },
        {
         "name": "Frequência",
         "rawType": "int64",
         "type": "integer"
        }
       ],
       "ref": "7507c673-a511-4c21-8bbc-8032b7f7e7f0",
       "rows": [
        [
         "Electronic check",
         "2445"
        ],
        [
         "Mailed check",
         "1657"
        ],
        [
         "Bank transfer (automatic)",
         "1587"
        ]
       ],
       "shape": {
        "columns": 1,
        "rows": 3
       }
      },
      "text/html": [
       "<div>\n",
       "<style scoped>\n",
       "    .dataframe tbody tr th:only-of-type {\n",
       "        vertical-align: middle;\n",
       "    }\n",
       "\n",
       "    .dataframe tbody tr th {\n",
       "        vertical-align: top;\n",
       "    }\n",
       "\n",
       "    .dataframe thead th {\n",
       "        text-align: right;\n",
       "    }\n",
       "</style>\n",
       "<table border=\"1\" class=\"dataframe\">\n",
       "  <thead>\n",
       "    <tr style=\"text-align: right;\">\n",
       "      <th></th>\n",
       "      <th>Frequência</th>\n",
       "    </tr>\n",
       "    <tr>\n",
       "      <th>Forma_Pagamento</th>\n",
       "      <th></th>\n",
       "    </tr>\n",
       "  </thead>\n",
       "  <tbody>\n",
       "    <tr>\n",
       "      <th>Electronic check</th>\n",
       "      <td>2445</td>\n",
       "    </tr>\n",
       "    <tr>\n",
       "      <th>Mailed check</th>\n",
       "      <td>1657</td>\n",
       "    </tr>\n",
       "    <tr>\n",
       "      <th>Bank transfer (automatic)</th>\n",
       "      <td>1587</td>\n",
       "    </tr>\n",
       "  </tbody>\n",
       "</table>\n",
       "</div>"
      ],
      "text/plain": [
       "                           Frequência\n",
       "Forma_Pagamento                      \n",
       "Electronic check                 2445\n",
       "Mailed check                     1657\n",
       "Bank transfer (automatic)        1587"
      ]
     },
     "metadata": {},
     "output_type": "display_data"
    },
    {
     "name": "stdout",
     "output_type": "stream",
     "text": [
      "----------------------------------------\n"
     ]
    }
   ],
   "source": [
    "from typing import List\n",
    "import pandas as pd\n",
    "from IPython.display import display, HTML\n",
    "\n",
    "def exibir_top_valores_variaveis_categoricas(df: pd.DataFrame, max_exibir: int = 3) -> None:\n",
    "    \"\"\"\n",
    "    Apresenta os principais valores de frequência das variáveis categóricas de um DataFrame.\n",
    "\n",
    "    Parâmetros:\n",
    "    - df: Conjunto de dados a ser analisado\n",
    "    - max_exibir: Número máximo de categorias mais frequentes a serem exibidas\n",
    "    \"\"\"\n",
    "    variaveis_categoricas: List[str] = df.select_dtypes(include='object').columns.tolist()\n",
    "\n",
    "    for variavel in variaveis_categoricas:\n",
    "        titulo_html = f\"<strong style='font-size: 15px;'> {variavel.upper()}</strong>\"\n",
    "        display(HTML(titulo_html))\n",
    "\n",
    "        frequencia = (\n",
    "            df[variavel]\n",
    "            .value_counts(dropna=False)\n",
    "            .head(max_exibir)\n",
    "            .to_frame(name='Frequência')\n",
    "        )\n",
    "        display(frequencia)\n",
    "        print(\"-\" * 40)\n",
    "\n",
    "dados = pd.read_csv(r'C:\\Users\\danil\\OneDrive\\Área de Trabalho\\Curso-AluraONE-DS\\Estatística e Machine Learning\\Challenge_TelecomX_parte2\\Outros\\dados_tratados.csv')\n",
    "\n",
    "# Execução da função\n",
    "if 'dados' in globals():\n",
    "    exibir_top_valores_variaveis_categoricas(dados)\n",
    "else:\n",
    "    print(\"A variável 'dados' não está definida. Execute a célula que carrega os dados antes.\")"
   ]
  },
  {
   "cell_type": "code",
   "execution_count": 4,
   "metadata": {},
   "outputs": [
    {
     "data": {
      "application/vnd.microsoft.datawrangler.viewer.v0+json": {
       "columns": [
        {
         "name": "index",
         "rawType": "int64",
         "type": "integer"
        },
        {
         "name": "ID_Cliente",
         "rawType": "object",
         "type": "string"
        },
        {
         "name": "Cancelamento",
         "rawType": "object",
         "type": "string"
        },
        {
         "name": "Gênero",
         "rawType": "object",
         "type": "string"
        },
        {
         "name": "Idoso",
         "rawType": "int64",
         "type": "integer"
        },
        {
         "name": "Possui_Companheiro",
         "rawType": "object",
         "type": "string"
        },
        {
         "name": "Possui_Dependentes",
         "rawType": "object",
         "type": "string"
        },
        {
         "name": "Meses_de_Contrato",
         "rawType": "int64",
         "type": "integer"
        },
        {
         "name": "Telefone_Ativo",
         "rawType": "object",
         "type": "string"
        },
        {
         "name": "Multiplas_Linhas",
         "rawType": "object",
         "type": "string"
        },
        {
         "name": "Tipo_Internet",
         "rawType": "object",
         "type": "string"
        },
        {
         "name": "Seguranca_Online",
         "rawType": "object",
         "type": "string"
        },
        {
         "name": "Backup_Online",
         "rawType": "object",
         "type": "string"
        },
        {
         "name": "Protecao_Dispositivo",
         "rawType": "object",
         "type": "string"
        },
        {
         "name": "Suporte_Tecnico",
         "rawType": "object",
         "type": "string"
        },
        {
         "name": "Streaming_TV",
         "rawType": "object",
         "type": "string"
        },
        {
         "name": "Streaming_Filmes",
         "rawType": "object",
         "type": "string"
        },
        {
         "name": "Tipo_Contrato",
         "rawType": "object",
         "type": "string"
        },
        {
         "name": "Fatura_Digital",
         "rawType": "object",
         "type": "string"
        },
        {
         "name": "Forma_Pagamento",
         "rawType": "object",
         "type": "string"
        },
        {
         "name": "Valor_Mensal",
         "rawType": "float64",
         "type": "float"
        },
        {
         "name": "Valor_Total",
         "rawType": "float64",
         "type": "float"
        },
        {
         "name": "tempo_estimado_meses",
         "rawType": "float64",
         "type": "float"
        },
        {
         "name": "Conta_Diarias",
         "rawType": "float64",
         "type": "float"
        }
       ],
       "ref": "0e3f3629-2098-4484-a532-e1b804214276",
       "rows": [
        [
         "0",
         "0002-ORFBO",
         "No",
         "Female",
         "0",
         "Yes",
         "Yes",
         "9",
         "Yes",
         "No",
         "DSL",
         "No",
         "Yes",
         "No",
         "Yes",
         "Yes",
         "No",
         "One year",
         "Yes",
         "Mailed check",
         "65.6",
         "593.3",
         "9.044207317073171",
         "2.1866666666666665"
        ],
        [
         "1",
         "0003-MKNFE",
         "No",
         "Male",
         "0",
         "No",
         "No",
         "9",
         "Yes",
         "Yes",
         "DSL",
         "No",
         "No",
         "No",
         "No",
         "No",
         "Yes",
         "Month-to-month",
         "No",
         "Mailed check",
         "59.9",
         "542.4",
         "9.0550918196995",
         "1.9966666666666664"
        ],
        [
         "2",
         "0004-TLHLJ",
         "Yes",
         "Male",
         "0",
         "No",
         "No",
         "4",
         "Yes",
         "No",
         "Fiber optic",
         "No",
         "No",
         "Yes",
         "No",
         "No",
         "No",
         "Month-to-month",
         "Yes",
         "Electronic check",
         "73.9",
         "280.85",
         "3.800405953991881",
         "2.4633333333333334"
        ],
        [
         "3",
         "0011-IGKFF",
         "Yes",
         "Male",
         "1",
         "Yes",
         "No",
         "13",
         "Yes",
         "No",
         "Fiber optic",
         "No",
         "Yes",
         "Yes",
         "No",
         "Yes",
         "Yes",
         "Month-to-month",
         "Yes",
         "Electronic check",
         "98.0",
         "1237.85",
         "12.63112244897959",
         "3.2666666666666666"
        ],
        [
         "4",
         "0013-EXCHZ",
         "Yes",
         "Female",
         "1",
         "Yes",
         "No",
         "3",
         "Yes",
         "No",
         "Fiber optic",
         "No",
         "No",
         "No",
         "Yes",
         "Yes",
         "No",
         "Month-to-month",
         "Yes",
         "Mailed check",
         "83.9",
         "267.4",
         "3.187127532777115",
         "2.796666666666667"
        ]
       ],
       "shape": {
        "columns": 23,
        "rows": 5
       }
      },
      "text/html": [
       "<div>\n",
       "<style scoped>\n",
       "    .dataframe tbody tr th:only-of-type {\n",
       "        vertical-align: middle;\n",
       "    }\n",
       "\n",
       "    .dataframe tbody tr th {\n",
       "        vertical-align: top;\n",
       "    }\n",
       "\n",
       "    .dataframe thead th {\n",
       "        text-align: right;\n",
       "    }\n",
       "</style>\n",
       "<table border=\"1\" class=\"dataframe\">\n",
       "  <thead>\n",
       "    <tr style=\"text-align: right;\">\n",
       "      <th></th>\n",
       "      <th>ID_Cliente</th>\n",
       "      <th>Cancelamento</th>\n",
       "      <th>Gênero</th>\n",
       "      <th>Idoso</th>\n",
       "      <th>Possui_Companheiro</th>\n",
       "      <th>Possui_Dependentes</th>\n",
       "      <th>Meses_de_Contrato</th>\n",
       "      <th>Telefone_Ativo</th>\n",
       "      <th>Multiplas_Linhas</th>\n",
       "      <th>Tipo_Internet</th>\n",
       "      <th>...</th>\n",
       "      <th>Suporte_Tecnico</th>\n",
       "      <th>Streaming_TV</th>\n",
       "      <th>Streaming_Filmes</th>\n",
       "      <th>Tipo_Contrato</th>\n",
       "      <th>Fatura_Digital</th>\n",
       "      <th>Forma_Pagamento</th>\n",
       "      <th>Valor_Mensal</th>\n",
       "      <th>Valor_Total</th>\n",
       "      <th>tempo_estimado_meses</th>\n",
       "      <th>Conta_Diarias</th>\n",
       "    </tr>\n",
       "  </thead>\n",
       "  <tbody>\n",
       "    <tr>\n",
       "      <th>0</th>\n",
       "      <td>0002-ORFBO</td>\n",
       "      <td>No</td>\n",
       "      <td>Female</td>\n",
       "      <td>0</td>\n",
       "      <td>Yes</td>\n",
       "      <td>Yes</td>\n",
       "      <td>9</td>\n",
       "      <td>Yes</td>\n",
       "      <td>No</td>\n",
       "      <td>DSL</td>\n",
       "      <td>...</td>\n",
       "      <td>Yes</td>\n",
       "      <td>Yes</td>\n",
       "      <td>No</td>\n",
       "      <td>One year</td>\n",
       "      <td>Yes</td>\n",
       "      <td>Mailed check</td>\n",
       "      <td>65.6</td>\n",
       "      <td>593.30</td>\n",
       "      <td>9.044207</td>\n",
       "      <td>2.186667</td>\n",
       "    </tr>\n",
       "    <tr>\n",
       "      <th>1</th>\n",
       "      <td>0003-MKNFE</td>\n",
       "      <td>No</td>\n",
       "      <td>Male</td>\n",
       "      <td>0</td>\n",
       "      <td>No</td>\n",
       "      <td>No</td>\n",
       "      <td>9</td>\n",
       "      <td>Yes</td>\n",
       "      <td>Yes</td>\n",
       "      <td>DSL</td>\n",
       "      <td>...</td>\n",
       "      <td>No</td>\n",
       "      <td>No</td>\n",
       "      <td>Yes</td>\n",
       "      <td>Month-to-month</td>\n",
       "      <td>No</td>\n",
       "      <td>Mailed check</td>\n",
       "      <td>59.9</td>\n",
       "      <td>542.40</td>\n",
       "      <td>9.055092</td>\n",
       "      <td>1.996667</td>\n",
       "    </tr>\n",
       "    <tr>\n",
       "      <th>2</th>\n",
       "      <td>0004-TLHLJ</td>\n",
       "      <td>Yes</td>\n",
       "      <td>Male</td>\n",
       "      <td>0</td>\n",
       "      <td>No</td>\n",
       "      <td>No</td>\n",
       "      <td>4</td>\n",
       "      <td>Yes</td>\n",
       "      <td>No</td>\n",
       "      <td>Fiber optic</td>\n",
       "      <td>...</td>\n",
       "      <td>No</td>\n",
       "      <td>No</td>\n",
       "      <td>No</td>\n",
       "      <td>Month-to-month</td>\n",
       "      <td>Yes</td>\n",
       "      <td>Electronic check</td>\n",
       "      <td>73.9</td>\n",
       "      <td>280.85</td>\n",
       "      <td>3.800406</td>\n",
       "      <td>2.463333</td>\n",
       "    </tr>\n",
       "    <tr>\n",
       "      <th>3</th>\n",
       "      <td>0011-IGKFF</td>\n",
       "      <td>Yes</td>\n",
       "      <td>Male</td>\n",
       "      <td>1</td>\n",
       "      <td>Yes</td>\n",
       "      <td>No</td>\n",
       "      <td>13</td>\n",
       "      <td>Yes</td>\n",
       "      <td>No</td>\n",
       "      <td>Fiber optic</td>\n",
       "      <td>...</td>\n",
       "      <td>No</td>\n",
       "      <td>Yes</td>\n",
       "      <td>Yes</td>\n",
       "      <td>Month-to-month</td>\n",
       "      <td>Yes</td>\n",
       "      <td>Electronic check</td>\n",
       "      <td>98.0</td>\n",
       "      <td>1237.85</td>\n",
       "      <td>12.631122</td>\n",
       "      <td>3.266667</td>\n",
       "    </tr>\n",
       "    <tr>\n",
       "      <th>4</th>\n",
       "      <td>0013-EXCHZ</td>\n",
       "      <td>Yes</td>\n",
       "      <td>Female</td>\n",
       "      <td>1</td>\n",
       "      <td>Yes</td>\n",
       "      <td>No</td>\n",
       "      <td>3</td>\n",
       "      <td>Yes</td>\n",
       "      <td>No</td>\n",
       "      <td>Fiber optic</td>\n",
       "      <td>...</td>\n",
       "      <td>Yes</td>\n",
       "      <td>Yes</td>\n",
       "      <td>No</td>\n",
       "      <td>Month-to-month</td>\n",
       "      <td>Yes</td>\n",
       "      <td>Mailed check</td>\n",
       "      <td>83.9</td>\n",
       "      <td>267.40</td>\n",
       "      <td>3.187128</td>\n",
       "      <td>2.796667</td>\n",
       "    </tr>\n",
       "  </tbody>\n",
       "</table>\n",
       "<p>5 rows × 23 columns</p>\n",
       "</div>"
      ],
      "text/plain": [
       "   ID_Cliente Cancelamento  Gênero  Idoso Possui_Companheiro  \\\n",
       "0  0002-ORFBO           No  Female      0                Yes   \n",
       "1  0003-MKNFE           No    Male      0                 No   \n",
       "2  0004-TLHLJ          Yes    Male      0                 No   \n",
       "3  0011-IGKFF          Yes    Male      1                Yes   \n",
       "4  0013-EXCHZ          Yes  Female      1                Yes   \n",
       "\n",
       "  Possui_Dependentes  Meses_de_Contrato Telefone_Ativo Multiplas_Linhas  \\\n",
       "0                Yes                  9            Yes               No   \n",
       "1                 No                  9            Yes              Yes   \n",
       "2                 No                  4            Yes               No   \n",
       "3                 No                 13            Yes               No   \n",
       "4                 No                  3            Yes               No   \n",
       "\n",
       "  Tipo_Internet  ... Suporte_Tecnico Streaming_TV Streaming_Filmes  \\\n",
       "0           DSL  ...             Yes          Yes               No   \n",
       "1           DSL  ...              No           No              Yes   \n",
       "2   Fiber optic  ...              No           No               No   \n",
       "3   Fiber optic  ...              No          Yes              Yes   \n",
       "4   Fiber optic  ...             Yes          Yes               No   \n",
       "\n",
       "    Tipo_Contrato Fatura_Digital   Forma_Pagamento Valor_Mensal Valor_Total  \\\n",
       "0        One year            Yes      Mailed check         65.6      593.30   \n",
       "1  Month-to-month             No      Mailed check         59.9      542.40   \n",
       "2  Month-to-month            Yes  Electronic check         73.9      280.85   \n",
       "3  Month-to-month            Yes  Electronic check         98.0     1237.85   \n",
       "4  Month-to-month            Yes      Mailed check         83.9      267.40   \n",
       "\n",
       "  tempo_estimado_meses  Conta_Diarias  \n",
       "0             9.044207       2.186667  \n",
       "1             9.055092       1.996667  \n",
       "2             3.800406       2.463333  \n",
       "3            12.631122       3.266667  \n",
       "4             3.187128       2.796667  \n",
       "\n",
       "[5 rows x 23 columns]"
      ]
     },
     "execution_count": 4,
     "metadata": {},
     "output_type": "execute_result"
    }
   ],
   "source": [
    "# Carregamento da base de dados e visualização inicial de sua estrutura\n",
    "arquivo_csv = r\"C:\\Users\\danil\\OneDrive\\Área de Trabalho\\Curso-AluraONE-DS\\Estatística e Machine Learning\\Challenge_TelecomX_parte2\\Outros\\dados_tratados.csv\"\n",
    "dados = pd.read_csv(arquivo_csv)\n",
    "\n",
    "# Exibir as primeiras entradas do dataset\n",
    "dados.head()\n",
    "\n"
   ]
  },
  {
   "cell_type": "code",
   "execution_count": 5,
   "metadata": {},
   "outputs": [
    {
     "data": {
      "application/vnd.microsoft.datawrangler.viewer.v0+json": {
       "columns": [
        {
         "name": "index",
         "rawType": "object",
         "type": "string"
        },
        {
         "name": "Variável",
         "rawType": "object",
         "type": "string"
        },
        {
         "name": "Tipo de Dado",
         "rawType": "object",
         "type": "unknown"
        },
        {
         "name": "Porcentagem Nulos (%)",
         "rawType": "float64",
         "type": "float"
        }
       ],
       "ref": "1331dd59-860a-4d05-b47e-4b0d713f9c70",
       "rows": [
        [
         "ID_Cliente",
         "ID_Cliente",
         "object",
         "0.0"
        ],
        [
         "Cancelamento",
         "Cancelamento",
         "object",
         "0.0"
        ],
        [
         "Gênero",
         "Gênero",
         "object",
         "0.0"
        ],
        [
         "Idoso",
         "Idoso",
         "int64",
         "0.0"
        ],
        [
         "Possui_Companheiro",
         "Possui_Companheiro",
         "object",
         "0.0"
        ],
        [
         "Possui_Dependentes",
         "Possui_Dependentes",
         "object",
         "0.0"
        ],
        [
         "Meses_de_Contrato",
         "Meses_de_Contrato",
         "int64",
         "0.0"
        ],
        [
         "Telefone_Ativo",
         "Telefone_Ativo",
         "object",
         "0.0"
        ],
        [
         "Multiplas_Linhas",
         "Multiplas_Linhas",
         "object",
         "0.0"
        ],
        [
         "Tipo_Internet",
         "Tipo_Internet",
         "object",
         "0.0"
        ],
        [
         "Seguranca_Online",
         "Seguranca_Online",
         "object",
         "0.0"
        ],
        [
         "Backup_Online",
         "Backup_Online",
         "object",
         "0.0"
        ],
        [
         "Protecao_Dispositivo",
         "Protecao_Dispositivo",
         "object",
         "0.0"
        ],
        [
         "Suporte_Tecnico",
         "Suporte_Tecnico",
         "object",
         "0.0"
        ],
        [
         "Streaming_TV",
         "Streaming_TV",
         "object",
         "0.0"
        ],
        [
         "Streaming_Filmes",
         "Streaming_Filmes",
         "object",
         "0.0"
        ],
        [
         "Tipo_Contrato",
         "Tipo_Contrato",
         "object",
         "0.0"
        ],
        [
         "Fatura_Digital",
         "Fatura_Digital",
         "object",
         "0.0"
        ],
        [
         "Forma_Pagamento",
         "Forma_Pagamento",
         "object",
         "0.0"
        ],
        [
         "Valor_Mensal",
         "Valor_Mensal",
         "float64",
         "0.0"
        ],
        [
         "Valor_Total",
         "Valor_Total",
         "float64",
         "0.0"
        ],
        [
         "tempo_estimado_meses",
         "tempo_estimado_meses",
         "float64",
         "0.0"
        ],
        [
         "Conta_Diarias",
         "Conta_Diarias",
         "float64",
         "0.0"
        ]
       ],
       "shape": {
        "columns": 3,
        "rows": 23
       }
      },
      "text/html": [
       "<div>\n",
       "<style scoped>\n",
       "    .dataframe tbody tr th:only-of-type {\n",
       "        vertical-align: middle;\n",
       "    }\n",
       "\n",
       "    .dataframe tbody tr th {\n",
       "        vertical-align: top;\n",
       "    }\n",
       "\n",
       "    .dataframe thead th {\n",
       "        text-align: right;\n",
       "    }\n",
       "</style>\n",
       "<table border=\"1\" class=\"dataframe\">\n",
       "  <thead>\n",
       "    <tr style=\"text-align: right;\">\n",
       "      <th></th>\n",
       "      <th>Variável</th>\n",
       "      <th>Tipo de Dado</th>\n",
       "      <th>Porcentagem Nulos (%)</th>\n",
       "    </tr>\n",
       "  </thead>\n",
       "  <tbody>\n",
       "    <tr>\n",
       "      <th>ID_Cliente</th>\n",
       "      <td>ID_Cliente</td>\n",
       "      <td>object</td>\n",
       "      <td>0.0</td>\n",
       "    </tr>\n",
       "    <tr>\n",
       "      <th>Cancelamento</th>\n",
       "      <td>Cancelamento</td>\n",
       "      <td>object</td>\n",
       "      <td>0.0</td>\n",
       "    </tr>\n",
       "    <tr>\n",
       "      <th>Gênero</th>\n",
       "      <td>Gênero</td>\n",
       "      <td>object</td>\n",
       "      <td>0.0</td>\n",
       "    </tr>\n",
       "    <tr>\n",
       "      <th>Idoso</th>\n",
       "      <td>Idoso</td>\n",
       "      <td>int64</td>\n",
       "      <td>0.0</td>\n",
       "    </tr>\n",
       "    <tr>\n",
       "      <th>Possui_Companheiro</th>\n",
       "      <td>Possui_Companheiro</td>\n",
       "      <td>object</td>\n",
       "      <td>0.0</td>\n",
       "    </tr>\n",
       "    <tr>\n",
       "      <th>Possui_Dependentes</th>\n",
       "      <td>Possui_Dependentes</td>\n",
       "      <td>object</td>\n",
       "      <td>0.0</td>\n",
       "    </tr>\n",
       "    <tr>\n",
       "      <th>Meses_de_Contrato</th>\n",
       "      <td>Meses_de_Contrato</td>\n",
       "      <td>int64</td>\n",
       "      <td>0.0</td>\n",
       "    </tr>\n",
       "    <tr>\n",
       "      <th>Telefone_Ativo</th>\n",
       "      <td>Telefone_Ativo</td>\n",
       "      <td>object</td>\n",
       "      <td>0.0</td>\n",
       "    </tr>\n",
       "    <tr>\n",
       "      <th>Multiplas_Linhas</th>\n",
       "      <td>Multiplas_Linhas</td>\n",
       "      <td>object</td>\n",
       "      <td>0.0</td>\n",
       "    </tr>\n",
       "    <tr>\n",
       "      <th>Tipo_Internet</th>\n",
       "      <td>Tipo_Internet</td>\n",
       "      <td>object</td>\n",
       "      <td>0.0</td>\n",
       "    </tr>\n",
       "    <tr>\n",
       "      <th>Seguranca_Online</th>\n",
       "      <td>Seguranca_Online</td>\n",
       "      <td>object</td>\n",
       "      <td>0.0</td>\n",
       "    </tr>\n",
       "    <tr>\n",
       "      <th>Backup_Online</th>\n",
       "      <td>Backup_Online</td>\n",
       "      <td>object</td>\n",
       "      <td>0.0</td>\n",
       "    </tr>\n",
       "    <tr>\n",
       "      <th>Protecao_Dispositivo</th>\n",
       "      <td>Protecao_Dispositivo</td>\n",
       "      <td>object</td>\n",
       "      <td>0.0</td>\n",
       "    </tr>\n",
       "    <tr>\n",
       "      <th>Suporte_Tecnico</th>\n",
       "      <td>Suporte_Tecnico</td>\n",
       "      <td>object</td>\n",
       "      <td>0.0</td>\n",
       "    </tr>\n",
       "    <tr>\n",
       "      <th>Streaming_TV</th>\n",
       "      <td>Streaming_TV</td>\n",
       "      <td>object</td>\n",
       "      <td>0.0</td>\n",
       "    </tr>\n",
       "    <tr>\n",
       "      <th>Streaming_Filmes</th>\n",
       "      <td>Streaming_Filmes</td>\n",
       "      <td>object</td>\n",
       "      <td>0.0</td>\n",
       "    </tr>\n",
       "    <tr>\n",
       "      <th>Tipo_Contrato</th>\n",
       "      <td>Tipo_Contrato</td>\n",
       "      <td>object</td>\n",
       "      <td>0.0</td>\n",
       "    </tr>\n",
       "    <tr>\n",
       "      <th>Fatura_Digital</th>\n",
       "      <td>Fatura_Digital</td>\n",
       "      <td>object</td>\n",
       "      <td>0.0</td>\n",
       "    </tr>\n",
       "    <tr>\n",
       "      <th>Forma_Pagamento</th>\n",
       "      <td>Forma_Pagamento</td>\n",
       "      <td>object</td>\n",
       "      <td>0.0</td>\n",
       "    </tr>\n",
       "    <tr>\n",
       "      <th>Valor_Mensal</th>\n",
       "      <td>Valor_Mensal</td>\n",
       "      <td>float64</td>\n",
       "      <td>0.0</td>\n",
       "    </tr>\n",
       "    <tr>\n",
       "      <th>Valor_Total</th>\n",
       "      <td>Valor_Total</td>\n",
       "      <td>float64</td>\n",
       "      <td>0.0</td>\n",
       "    </tr>\n",
       "    <tr>\n",
       "      <th>tempo_estimado_meses</th>\n",
       "      <td>tempo_estimado_meses</td>\n",
       "      <td>float64</td>\n",
       "      <td>0.0</td>\n",
       "    </tr>\n",
       "    <tr>\n",
       "      <th>Conta_Diarias</th>\n",
       "      <td>Conta_Diarias</td>\n",
       "      <td>float64</td>\n",
       "      <td>0.0</td>\n",
       "    </tr>\n",
       "  </tbody>\n",
       "</table>\n",
       "</div>"
      ],
      "text/plain": [
       "                                  Variável Tipo de Dado  Porcentagem Nulos (%)\n",
       "ID_Cliente                      ID_Cliente       object                    0.0\n",
       "Cancelamento                  Cancelamento       object                    0.0\n",
       "Gênero                              Gênero       object                    0.0\n",
       "Idoso                                Idoso        int64                    0.0\n",
       "Possui_Companheiro      Possui_Companheiro       object                    0.0\n",
       "Possui_Dependentes      Possui_Dependentes       object                    0.0\n",
       "Meses_de_Contrato        Meses_de_Contrato        int64                    0.0\n",
       "Telefone_Ativo              Telefone_Ativo       object                    0.0\n",
       "Multiplas_Linhas          Multiplas_Linhas       object                    0.0\n",
       "Tipo_Internet                Tipo_Internet       object                    0.0\n",
       "Seguranca_Online          Seguranca_Online       object                    0.0\n",
       "Backup_Online                Backup_Online       object                    0.0\n",
       "Protecao_Dispositivo  Protecao_Dispositivo       object                    0.0\n",
       "Suporte_Tecnico            Suporte_Tecnico       object                    0.0\n",
       "Streaming_TV                  Streaming_TV       object                    0.0\n",
       "Streaming_Filmes          Streaming_Filmes       object                    0.0\n",
       "Tipo_Contrato                Tipo_Contrato       object                    0.0\n",
       "Fatura_Digital              Fatura_Digital       object                    0.0\n",
       "Forma_Pagamento            Forma_Pagamento       object                    0.0\n",
       "Valor_Mensal                  Valor_Mensal      float64                    0.0\n",
       "Valor_Total                    Valor_Total      float64                    0.0\n",
       "tempo_estimado_meses  tempo_estimado_meses      float64                    0.0\n",
       "Conta_Diarias                Conta_Diarias      float64                    0.0"
      ]
     },
     "execution_count": 5,
     "metadata": {},
     "output_type": "execute_result"
    }
   ],
   "source": [
    "# Relatório de características gerais do dataset\n",
    "def relatorio_estrutura_dataframe(df: pd.DataFrame) -> pd.DataFrame:\n",
    "    \"\"\"Gera relatório descritivo com nome das variáveis, tipos e percentual de valores ausentes.\"\"\"\n",
    "    estrutura = pd.DataFrame({\n",
    "        \"Variável\": df.columns,\n",
    "        \"Tipo de Dado\": df.dtypes.values,\n",
    "        \"Porcentagem Nulos (%)\": df.isnull().mean().round(4) * 100\n",
    "    })\n",
    "    return estrutura\n",
    "\n",
    "relatorio_estrutura_dataframe(dados)\n"
   ]
  },
  {
   "cell_type": "markdown",
   "metadata": {
    "id": "1lSZP8zmmGZu"
   },
   "source": [
    "#🔧 <b><font color=\"salmon\" size=\"6\">PREPARAÇÃO DOS DADOS</font></b>\n",
    "\n",
    "\n",
    "---\n",
    "\n"
   ]
  },
  {
   "cell_type": "markdown",
   "metadata": {
    "id": "p7-YF9qOfGLj"
   },
   "source": [
    "## 🎯<b><font color=\"salmon\">Remoção de Colunas Irrelevantes</font></b>\n",
    "\n",
    "Removido coluna com IDs, estimativas e valores duplicados em outras colunas. Essas colunas não ajudam na previsão da evasão e podem até prejudicar o desempenho dos modelos."
   ]
  },
  {
   "cell_type": "code",
   "execution_count": 6,
   "metadata": {
    "colab": {
     "base_uri": "https://localhost:8080/"
    },
    "id": "oZYH-WUbaNKo",
    "outputId": "f7f46587-800b-4d84-8077-ebc9a1172b27"
   },
   "outputs": [
    {
     "data": {
      "application/vnd.microsoft.datawrangler.viewer.v0+json": {
       "columns": [
        {
         "name": "index",
         "rawType": "int64",
         "type": "integer"
        },
        {
         "name": "Cancelamento",
         "rawType": "object",
         "type": "string"
        },
        {
         "name": "Gênero",
         "rawType": "object",
         "type": "string"
        },
        {
         "name": "Idoso",
         "rawType": "int64",
         "type": "integer"
        },
        {
         "name": "Possui_Companheiro",
         "rawType": "object",
         "type": "string"
        },
        {
         "name": "Possui_Dependentes",
         "rawType": "object",
         "type": "string"
        },
        {
         "name": "Meses_de_Contrato",
         "rawType": "int64",
         "type": "integer"
        },
        {
         "name": "Telefone_Ativo",
         "rawType": "object",
         "type": "string"
        },
        {
         "name": "Multiplas_Linhas",
         "rawType": "object",
         "type": "string"
        },
        {
         "name": "Tipo_Internet",
         "rawType": "object",
         "type": "string"
        },
        {
         "name": "Seguranca_Online",
         "rawType": "object",
         "type": "string"
        },
        {
         "name": "Backup_Online",
         "rawType": "object",
         "type": "string"
        },
        {
         "name": "Protecao_Dispositivo",
         "rawType": "object",
         "type": "string"
        },
        {
         "name": "Suporte_Tecnico",
         "rawType": "object",
         "type": "string"
        },
        {
         "name": "Streaming_TV",
         "rawType": "object",
         "type": "string"
        },
        {
         "name": "Streaming_Filmes",
         "rawType": "object",
         "type": "string"
        },
        {
         "name": "Tipo_Contrato",
         "rawType": "object",
         "type": "string"
        },
        {
         "name": "Fatura_Digital",
         "rawType": "object",
         "type": "string"
        },
        {
         "name": "Forma_Pagamento",
         "rawType": "object",
         "type": "string"
        },
        {
         "name": "Valor_Mensal",
         "rawType": "float64",
         "type": "float"
        }
       ],
       "ref": "b0086d50-863c-4caa-8657-400379e72494",
       "rows": [
        [
         "0",
         "No",
         "Female",
         "0",
         "Yes",
         "Yes",
         "9",
         "Yes",
         "No",
         "DSL",
         "No",
         "Yes",
         "No",
         "Yes",
         "Yes",
         "No",
         "One year",
         "Yes",
         "Mailed check",
         "65.6"
        ],
        [
         "1",
         "No",
         "Male",
         "0",
         "No",
         "No",
         "9",
         "Yes",
         "Yes",
         "DSL",
         "No",
         "No",
         "No",
         "No",
         "No",
         "Yes",
         "Month-to-month",
         "No",
         "Mailed check",
         "59.9"
        ],
        [
         "2",
         "Yes",
         "Male",
         "0",
         "No",
         "No",
         "4",
         "Yes",
         "No",
         "Fiber optic",
         "No",
         "No",
         "Yes",
         "No",
         "No",
         "No",
         "Month-to-month",
         "Yes",
         "Electronic check",
         "73.9"
        ],
        [
         "3",
         "Yes",
         "Male",
         "1",
         "Yes",
         "No",
         "13",
         "Yes",
         "No",
         "Fiber optic",
         "No",
         "Yes",
         "Yes",
         "No",
         "Yes",
         "Yes",
         "Month-to-month",
         "Yes",
         "Electronic check",
         "98.0"
        ],
        [
         "4",
         "Yes",
         "Female",
         "1",
         "Yes",
         "No",
         "3",
         "Yes",
         "No",
         "Fiber optic",
         "No",
         "No",
         "No",
         "Yes",
         "Yes",
         "No",
         "Month-to-month",
         "Yes",
         "Mailed check",
         "83.9"
        ]
       ],
       "shape": {
        "columns": 19,
        "rows": 5
       }
      },
      "text/html": [
       "<div>\n",
       "<style scoped>\n",
       "    .dataframe tbody tr th:only-of-type {\n",
       "        vertical-align: middle;\n",
       "    }\n",
       "\n",
       "    .dataframe tbody tr th {\n",
       "        vertical-align: top;\n",
       "    }\n",
       "\n",
       "    .dataframe thead th {\n",
       "        text-align: right;\n",
       "    }\n",
       "</style>\n",
       "<table border=\"1\" class=\"dataframe\">\n",
       "  <thead>\n",
       "    <tr style=\"text-align: right;\">\n",
       "      <th></th>\n",
       "      <th>Cancelamento</th>\n",
       "      <th>Gênero</th>\n",
       "      <th>Idoso</th>\n",
       "      <th>Possui_Companheiro</th>\n",
       "      <th>Possui_Dependentes</th>\n",
       "      <th>Meses_de_Contrato</th>\n",
       "      <th>Telefone_Ativo</th>\n",
       "      <th>Multiplas_Linhas</th>\n",
       "      <th>Tipo_Internet</th>\n",
       "      <th>Seguranca_Online</th>\n",
       "      <th>Backup_Online</th>\n",
       "      <th>Protecao_Dispositivo</th>\n",
       "      <th>Suporte_Tecnico</th>\n",
       "      <th>Streaming_TV</th>\n",
       "      <th>Streaming_Filmes</th>\n",
       "      <th>Tipo_Contrato</th>\n",
       "      <th>Fatura_Digital</th>\n",
       "      <th>Forma_Pagamento</th>\n",
       "      <th>Valor_Mensal</th>\n",
       "    </tr>\n",
       "  </thead>\n",
       "  <tbody>\n",
       "    <tr>\n",
       "      <th>0</th>\n",
       "      <td>No</td>\n",
       "      <td>Female</td>\n",
       "      <td>0</td>\n",
       "      <td>Yes</td>\n",
       "      <td>Yes</td>\n",
       "      <td>9</td>\n",
       "      <td>Yes</td>\n",
       "      <td>No</td>\n",
       "      <td>DSL</td>\n",
       "      <td>No</td>\n",
       "      <td>Yes</td>\n",
       "      <td>No</td>\n",
       "      <td>Yes</td>\n",
       "      <td>Yes</td>\n",
       "      <td>No</td>\n",
       "      <td>One year</td>\n",
       "      <td>Yes</td>\n",
       "      <td>Mailed check</td>\n",
       "      <td>65.6</td>\n",
       "    </tr>\n",
       "    <tr>\n",
       "      <th>1</th>\n",
       "      <td>No</td>\n",
       "      <td>Male</td>\n",
       "      <td>0</td>\n",
       "      <td>No</td>\n",
       "      <td>No</td>\n",
       "      <td>9</td>\n",
       "      <td>Yes</td>\n",
       "      <td>Yes</td>\n",
       "      <td>DSL</td>\n",
       "      <td>No</td>\n",
       "      <td>No</td>\n",
       "      <td>No</td>\n",
       "      <td>No</td>\n",
       "      <td>No</td>\n",
       "      <td>Yes</td>\n",
       "      <td>Month-to-month</td>\n",
       "      <td>No</td>\n",
       "      <td>Mailed check</td>\n",
       "      <td>59.9</td>\n",
       "    </tr>\n",
       "    <tr>\n",
       "      <th>2</th>\n",
       "      <td>Yes</td>\n",
       "      <td>Male</td>\n",
       "      <td>0</td>\n",
       "      <td>No</td>\n",
       "      <td>No</td>\n",
       "      <td>4</td>\n",
       "      <td>Yes</td>\n",
       "      <td>No</td>\n",
       "      <td>Fiber optic</td>\n",
       "      <td>No</td>\n",
       "      <td>No</td>\n",
       "      <td>Yes</td>\n",
       "      <td>No</td>\n",
       "      <td>No</td>\n",
       "      <td>No</td>\n",
       "      <td>Month-to-month</td>\n",
       "      <td>Yes</td>\n",
       "      <td>Electronic check</td>\n",
       "      <td>73.9</td>\n",
       "    </tr>\n",
       "    <tr>\n",
       "      <th>3</th>\n",
       "      <td>Yes</td>\n",
       "      <td>Male</td>\n",
       "      <td>1</td>\n",
       "      <td>Yes</td>\n",
       "      <td>No</td>\n",
       "      <td>13</td>\n",
       "      <td>Yes</td>\n",
       "      <td>No</td>\n",
       "      <td>Fiber optic</td>\n",
       "      <td>No</td>\n",
       "      <td>Yes</td>\n",
       "      <td>Yes</td>\n",
       "      <td>No</td>\n",
       "      <td>Yes</td>\n",
       "      <td>Yes</td>\n",
       "      <td>Month-to-month</td>\n",
       "      <td>Yes</td>\n",
       "      <td>Electronic check</td>\n",
       "      <td>98.0</td>\n",
       "    </tr>\n",
       "    <tr>\n",
       "      <th>4</th>\n",
       "      <td>Yes</td>\n",
       "      <td>Female</td>\n",
       "      <td>1</td>\n",
       "      <td>Yes</td>\n",
       "      <td>No</td>\n",
       "      <td>3</td>\n",
       "      <td>Yes</td>\n",
       "      <td>No</td>\n",
       "      <td>Fiber optic</td>\n",
       "      <td>No</td>\n",
       "      <td>No</td>\n",
       "      <td>No</td>\n",
       "      <td>Yes</td>\n",
       "      <td>Yes</td>\n",
       "      <td>No</td>\n",
       "      <td>Month-to-month</td>\n",
       "      <td>Yes</td>\n",
       "      <td>Mailed check</td>\n",
       "      <td>83.9</td>\n",
       "    </tr>\n",
       "  </tbody>\n",
       "</table>\n",
       "</div>"
      ],
      "text/plain": [
       "  Cancelamento  Gênero  Idoso Possui_Companheiro Possui_Dependentes  \\\n",
       "0           No  Female      0                Yes                Yes   \n",
       "1           No    Male      0                 No                 No   \n",
       "2          Yes    Male      0                 No                 No   \n",
       "3          Yes    Male      1                Yes                 No   \n",
       "4          Yes  Female      1                Yes                 No   \n",
       "\n",
       "   Meses_de_Contrato Telefone_Ativo Multiplas_Linhas Tipo_Internet  \\\n",
       "0                  9            Yes               No           DSL   \n",
       "1                  9            Yes              Yes           DSL   \n",
       "2                  4            Yes               No   Fiber optic   \n",
       "3                 13            Yes               No   Fiber optic   \n",
       "4                  3            Yes               No   Fiber optic   \n",
       "\n",
       "  Seguranca_Online Backup_Online Protecao_Dispositivo Suporte_Tecnico  \\\n",
       "0               No           Yes                   No             Yes   \n",
       "1               No            No                   No              No   \n",
       "2               No            No                  Yes              No   \n",
       "3               No           Yes                  Yes              No   \n",
       "4               No            No                   No             Yes   \n",
       "\n",
       "  Streaming_TV Streaming_Filmes   Tipo_Contrato Fatura_Digital  \\\n",
       "0          Yes               No        One year            Yes   \n",
       "1           No              Yes  Month-to-month             No   \n",
       "2           No               No  Month-to-month            Yes   \n",
       "3          Yes              Yes  Month-to-month            Yes   \n",
       "4          Yes               No  Month-to-month            Yes   \n",
       "\n",
       "    Forma_Pagamento  Valor_Mensal  \n",
       "0      Mailed check          65.6  \n",
       "1      Mailed check          59.9  \n",
       "2  Electronic check          73.9  \n",
       "3  Electronic check          98.0  \n",
       "4      Mailed check          83.9  "
      ]
     },
     "execution_count": 6,
     "metadata": {},
     "output_type": "execute_result"
    }
   ],
   "source": [
    "def limpar_dataset(df: pd.DataFrame, colunas_excluir: list, coluna_filtragem: str, valor_excluido: str) -> pd.DataFrame:\n",
    "    \"\"\"Remove colunas específicas e filtra registros com valores indesejados.\"\"\"\n",
    "    df_reduzido = df.drop(columns=colunas_excluir)\n",
    "    df_filtrado = df_reduzido[df_reduzido[coluna_filtragem] != valor_excluido]\n",
    "    return df_filtrado\n",
    "\n",
    "# Aplicar a limpeza\n",
    "colunas_para_remover = [\"ID_Cliente\", \"tempo_estimado_meses\", \"Conta_Diarias\", \"Valor_Total\"]\n",
    "dados = limpar_dataset(dados, colunas_para_remover, \"Cancelamento\", \"Não informado\")\n",
    "dados.head()\n",
    "\n"
   ]
  },
  {
   "cell_type": "code",
   "execution_count": null,
   "metadata": {
    "colab": {
     "base_uri": "https://localhost:8080/",
     "height": 295
    },
    "id": "VHNXATcs2His",
    "outputId": "2f203e43-78aa-4295-cf4e-1a0acd4f4154"
   },
   "outputs": [],
   "source": [
    "\n"
   ]
  },
  {
   "cell_type": "markdown",
   "metadata": {
    "id": "5CVLV6l_dmwP"
   },
   "source": [
    "## 🎯 <b><font color=\"salmon\">Encoding</font></b>\n",
    "\n",
    "Inicialmente foi identificado os valores únicos de cada coluna e posteriormente transformado as variáveis categóricas em formato numérico para torná-las compatíveis com algoritmos de machine learning. Utilizou-se um método de codificação adequado, como o **one-hot encoding**."
   ]
  },
  {
   "cell_type": "code",
   "execution_count": 7,
   "metadata": {
    "colab": {
     "base_uri": "https://localhost:8080/",
     "height": 1000
    },
    "id": "gbqmhgvvM6gX",
    "outputId": "a8e52e91-a8e1-4f2d-f3e1-4a835d7dbff9"
   },
   "outputs": [
    {
     "data": {
      "text/html": [
       "<strong style='font-size: 15px;'> CANCELAMENTO</strong>"
      ],
      "text/plain": [
       "<IPython.core.display.HTML object>"
      ]
     },
     "metadata": {},
     "output_type": "display_data"
    },
    {
     "data": {
      "application/vnd.microsoft.datawrangler.viewer.v0+json": {
       "columns": [
        {
         "name": "Cancelamento",
         "rawType": "object",
         "type": "string"
        },
        {
         "name": "Frequência",
         "rawType": "int64",
         "type": "integer"
        }
       ],
       "ref": "04109f79-e2da-4165-8429-9eaba6395093",
       "rows": [
        [
         "No",
         "5163"
        ],
        [
         "Yes",
         "1869"
        ]
       ],
       "shape": {
        "columns": 1,
        "rows": 2
       }
      },
      "text/html": [
       "<div>\n",
       "<style scoped>\n",
       "    .dataframe tbody tr th:only-of-type {\n",
       "        vertical-align: middle;\n",
       "    }\n",
       "\n",
       "    .dataframe tbody tr th {\n",
       "        vertical-align: top;\n",
       "    }\n",
       "\n",
       "    .dataframe thead th {\n",
       "        text-align: right;\n",
       "    }\n",
       "</style>\n",
       "<table border=\"1\" class=\"dataframe\">\n",
       "  <thead>\n",
       "    <tr style=\"text-align: right;\">\n",
       "      <th></th>\n",
       "      <th>Frequência</th>\n",
       "    </tr>\n",
       "    <tr>\n",
       "      <th>Cancelamento</th>\n",
       "      <th></th>\n",
       "    </tr>\n",
       "  </thead>\n",
       "  <tbody>\n",
       "    <tr>\n",
       "      <th>No</th>\n",
       "      <td>5163</td>\n",
       "    </tr>\n",
       "    <tr>\n",
       "      <th>Yes</th>\n",
       "      <td>1869</td>\n",
       "    </tr>\n",
       "  </tbody>\n",
       "</table>\n",
       "</div>"
      ],
      "text/plain": [
       "              Frequência\n",
       "Cancelamento            \n",
       "No                  5163\n",
       "Yes                 1869"
      ]
     },
     "metadata": {},
     "output_type": "display_data"
    },
    {
     "name": "stdout",
     "output_type": "stream",
     "text": [
      "———————————————————————————————————\n"
     ]
    },
    {
     "data": {
      "text/html": [
       "<strong style='font-size: 15px;'> GÊNERO</strong>"
      ],
      "text/plain": [
       "<IPython.core.display.HTML object>"
      ]
     },
     "metadata": {},
     "output_type": "display_data"
    },
    {
     "data": {
      "application/vnd.microsoft.datawrangler.viewer.v0+json": {
       "columns": [
        {
         "name": "Gênero",
         "rawType": "object",
         "type": "string"
        },
        {
         "name": "Frequência",
         "rawType": "int64",
         "type": "integer"
        }
       ],
       "ref": "839eac1b-b908-4432-8512-deb4ede53e0c",
       "rows": [
        [
         "Male",
         "3549"
        ],
        [
         "Female",
         "3483"
        ]
       ],
       "shape": {
        "columns": 1,
        "rows": 2
       }
      },
      "text/html": [
       "<div>\n",
       "<style scoped>\n",
       "    .dataframe tbody tr th:only-of-type {\n",
       "        vertical-align: middle;\n",
       "    }\n",
       "\n",
       "    .dataframe tbody tr th {\n",
       "        vertical-align: top;\n",
       "    }\n",
       "\n",
       "    .dataframe thead th {\n",
       "        text-align: right;\n",
       "    }\n",
       "</style>\n",
       "<table border=\"1\" class=\"dataframe\">\n",
       "  <thead>\n",
       "    <tr style=\"text-align: right;\">\n",
       "      <th></th>\n",
       "      <th>Frequência</th>\n",
       "    </tr>\n",
       "    <tr>\n",
       "      <th>Gênero</th>\n",
       "      <th></th>\n",
       "    </tr>\n",
       "  </thead>\n",
       "  <tbody>\n",
       "    <tr>\n",
       "      <th>Male</th>\n",
       "      <td>3549</td>\n",
       "    </tr>\n",
       "    <tr>\n",
       "      <th>Female</th>\n",
       "      <td>3483</td>\n",
       "    </tr>\n",
       "  </tbody>\n",
       "</table>\n",
       "</div>"
      ],
      "text/plain": [
       "        Frequência\n",
       "Gênero            \n",
       "Male          3549\n",
       "Female        3483"
      ]
     },
     "metadata": {},
     "output_type": "display_data"
    },
    {
     "name": "stdout",
     "output_type": "stream",
     "text": [
      "———————————————————————————————————\n"
     ]
    },
    {
     "data": {
      "text/html": [
       "<strong style='font-size: 15px;'> POSSUI_COMPANHEIRO</strong>"
      ],
      "text/plain": [
       "<IPython.core.display.HTML object>"
      ]
     },
     "metadata": {},
     "output_type": "display_data"
    },
    {
     "data": {
      "application/vnd.microsoft.datawrangler.viewer.v0+json": {
       "columns": [
        {
         "name": "Possui_Companheiro",
         "rawType": "object",
         "type": "string"
        },
        {
         "name": "Frequência",
         "rawType": "int64",
         "type": "integer"
        }
       ],
       "ref": "d7564b73-2f8c-496b-9a64-85436defcf67",
       "rows": [
        [
         "No",
         "3639"
        ],
        [
         "Yes",
         "3393"
        ]
       ],
       "shape": {
        "columns": 1,
        "rows": 2
       }
      },
      "text/html": [
       "<div>\n",
       "<style scoped>\n",
       "    .dataframe tbody tr th:only-of-type {\n",
       "        vertical-align: middle;\n",
       "    }\n",
       "\n",
       "    .dataframe tbody tr th {\n",
       "        vertical-align: top;\n",
       "    }\n",
       "\n",
       "    .dataframe thead th {\n",
       "        text-align: right;\n",
       "    }\n",
       "</style>\n",
       "<table border=\"1\" class=\"dataframe\">\n",
       "  <thead>\n",
       "    <tr style=\"text-align: right;\">\n",
       "      <th></th>\n",
       "      <th>Frequência</th>\n",
       "    </tr>\n",
       "    <tr>\n",
       "      <th>Possui_Companheiro</th>\n",
       "      <th></th>\n",
       "    </tr>\n",
       "  </thead>\n",
       "  <tbody>\n",
       "    <tr>\n",
       "      <th>No</th>\n",
       "      <td>3639</td>\n",
       "    </tr>\n",
       "    <tr>\n",
       "      <th>Yes</th>\n",
       "      <td>3393</td>\n",
       "    </tr>\n",
       "  </tbody>\n",
       "</table>\n",
       "</div>"
      ],
      "text/plain": [
       "                    Frequência\n",
       "Possui_Companheiro            \n",
       "No                        3639\n",
       "Yes                       3393"
      ]
     },
     "metadata": {},
     "output_type": "display_data"
    },
    {
     "name": "stdout",
     "output_type": "stream",
     "text": [
      "———————————————————————————————————\n"
     ]
    },
    {
     "data": {
      "text/html": [
       "<strong style='font-size: 15px;'> POSSUI_DEPENDENTES</strong>"
      ],
      "text/plain": [
       "<IPython.core.display.HTML object>"
      ]
     },
     "metadata": {},
     "output_type": "display_data"
    },
    {
     "data": {
      "application/vnd.microsoft.datawrangler.viewer.v0+json": {
       "columns": [
        {
         "name": "Possui_Dependentes",
         "rawType": "object",
         "type": "string"
        },
        {
         "name": "Frequência",
         "rawType": "int64",
         "type": "integer"
        }
       ],
       "ref": "4380f7c6-2b7e-482f-bf45-c5d64f20605b",
       "rows": [
        [
         "No",
         "4933"
        ],
        [
         "Yes",
         "2099"
        ]
       ],
       "shape": {
        "columns": 1,
        "rows": 2
       }
      },
      "text/html": [
       "<div>\n",
       "<style scoped>\n",
       "    .dataframe tbody tr th:only-of-type {\n",
       "        vertical-align: middle;\n",
       "    }\n",
       "\n",
       "    .dataframe tbody tr th {\n",
       "        vertical-align: top;\n",
       "    }\n",
       "\n",
       "    .dataframe thead th {\n",
       "        text-align: right;\n",
       "    }\n",
       "</style>\n",
       "<table border=\"1\" class=\"dataframe\">\n",
       "  <thead>\n",
       "    <tr style=\"text-align: right;\">\n",
       "      <th></th>\n",
       "      <th>Frequência</th>\n",
       "    </tr>\n",
       "    <tr>\n",
       "      <th>Possui_Dependentes</th>\n",
       "      <th></th>\n",
       "    </tr>\n",
       "  </thead>\n",
       "  <tbody>\n",
       "    <tr>\n",
       "      <th>No</th>\n",
       "      <td>4933</td>\n",
       "    </tr>\n",
       "    <tr>\n",
       "      <th>Yes</th>\n",
       "      <td>2099</td>\n",
       "    </tr>\n",
       "  </tbody>\n",
       "</table>\n",
       "</div>"
      ],
      "text/plain": [
       "                    Frequência\n",
       "Possui_Dependentes            \n",
       "No                        4933\n",
       "Yes                       2099"
      ]
     },
     "metadata": {},
     "output_type": "display_data"
    },
    {
     "name": "stdout",
     "output_type": "stream",
     "text": [
      "———————————————————————————————————\n"
     ]
    },
    {
     "data": {
      "text/html": [
       "<strong style='font-size: 15px;'> TELEFONE_ATIVO</strong>"
      ],
      "text/plain": [
       "<IPython.core.display.HTML object>"
      ]
     },
     "metadata": {},
     "output_type": "display_data"
    },
    {
     "data": {
      "application/vnd.microsoft.datawrangler.viewer.v0+json": {
       "columns": [
        {
         "name": "Telefone_Ativo",
         "rawType": "object",
         "type": "string"
        },
        {
         "name": "Frequência",
         "rawType": "int64",
         "type": "integer"
        }
       ],
       "ref": "f442530d-f4dc-48f7-bd79-7b62fef56816",
       "rows": [
        [
         "Yes",
         "6352"
        ],
        [
         "No",
         "680"
        ]
       ],
       "shape": {
        "columns": 1,
        "rows": 2
       }
      },
      "text/html": [
       "<div>\n",
       "<style scoped>\n",
       "    .dataframe tbody tr th:only-of-type {\n",
       "        vertical-align: middle;\n",
       "    }\n",
       "\n",
       "    .dataframe tbody tr th {\n",
       "        vertical-align: top;\n",
       "    }\n",
       "\n",
       "    .dataframe thead th {\n",
       "        text-align: right;\n",
       "    }\n",
       "</style>\n",
       "<table border=\"1\" class=\"dataframe\">\n",
       "  <thead>\n",
       "    <tr style=\"text-align: right;\">\n",
       "      <th></th>\n",
       "      <th>Frequência</th>\n",
       "    </tr>\n",
       "    <tr>\n",
       "      <th>Telefone_Ativo</th>\n",
       "      <th></th>\n",
       "    </tr>\n",
       "  </thead>\n",
       "  <tbody>\n",
       "    <tr>\n",
       "      <th>Yes</th>\n",
       "      <td>6352</td>\n",
       "    </tr>\n",
       "    <tr>\n",
       "      <th>No</th>\n",
       "      <td>680</td>\n",
       "    </tr>\n",
       "  </tbody>\n",
       "</table>\n",
       "</div>"
      ],
      "text/plain": [
       "                Frequência\n",
       "Telefone_Ativo            \n",
       "Yes                   6352\n",
       "No                     680"
      ]
     },
     "metadata": {},
     "output_type": "display_data"
    },
    {
     "name": "stdout",
     "output_type": "stream",
     "text": [
      "———————————————————————————————————\n"
     ]
    },
    {
     "data": {
      "text/html": [
       "<strong style='font-size: 15px;'> MULTIPLAS_LINHAS</strong>"
      ],
      "text/plain": [
       "<IPython.core.display.HTML object>"
      ]
     },
     "metadata": {},
     "output_type": "display_data"
    },
    {
     "data": {
      "application/vnd.microsoft.datawrangler.viewer.v0+json": {
       "columns": [
        {
         "name": "Multiplas_Linhas",
         "rawType": "object",
         "type": "string"
        },
        {
         "name": "Frequência",
         "rawType": "int64",
         "type": "integer"
        }
       ],
       "ref": "77ef60f2-a4c5-4c3e-a0e8-63fda201fbe7",
       "rows": [
        [
         "No",
         "3385"
        ],
        [
         "Yes",
         "2967"
        ],
        [
         "No phone service",
         "680"
        ]
       ],
       "shape": {
        "columns": 1,
        "rows": 3
       }
      },
      "text/html": [
       "<div>\n",
       "<style scoped>\n",
       "    .dataframe tbody tr th:only-of-type {\n",
       "        vertical-align: middle;\n",
       "    }\n",
       "\n",
       "    .dataframe tbody tr th {\n",
       "        vertical-align: top;\n",
       "    }\n",
       "\n",
       "    .dataframe thead th {\n",
       "        text-align: right;\n",
       "    }\n",
       "</style>\n",
       "<table border=\"1\" class=\"dataframe\">\n",
       "  <thead>\n",
       "    <tr style=\"text-align: right;\">\n",
       "      <th></th>\n",
       "      <th>Frequência</th>\n",
       "    </tr>\n",
       "    <tr>\n",
       "      <th>Multiplas_Linhas</th>\n",
       "      <th></th>\n",
       "    </tr>\n",
       "  </thead>\n",
       "  <tbody>\n",
       "    <tr>\n",
       "      <th>No</th>\n",
       "      <td>3385</td>\n",
       "    </tr>\n",
       "    <tr>\n",
       "      <th>Yes</th>\n",
       "      <td>2967</td>\n",
       "    </tr>\n",
       "    <tr>\n",
       "      <th>No phone service</th>\n",
       "      <td>680</td>\n",
       "    </tr>\n",
       "  </tbody>\n",
       "</table>\n",
       "</div>"
      ],
      "text/plain": [
       "                  Frequência\n",
       "Multiplas_Linhas            \n",
       "No                      3385\n",
       "Yes                     2967\n",
       "No phone service         680"
      ]
     },
     "metadata": {},
     "output_type": "display_data"
    },
    {
     "name": "stdout",
     "output_type": "stream",
     "text": [
      "———————————————————————————————————\n"
     ]
    },
    {
     "data": {
      "text/html": [
       "<strong style='font-size: 15px;'> TIPO_INTERNET</strong>"
      ],
      "text/plain": [
       "<IPython.core.display.HTML object>"
      ]
     },
     "metadata": {},
     "output_type": "display_data"
    },
    {
     "data": {
      "application/vnd.microsoft.datawrangler.viewer.v0+json": {
       "columns": [
        {
         "name": "Tipo_Internet",
         "rawType": "object",
         "type": "string"
        },
        {
         "name": "Frequência",
         "rawType": "int64",
         "type": "integer"
        }
       ],
       "ref": "7ad19610-e3e6-4027-b2e6-fd526af4d780",
       "rows": [
        [
         "Fiber optic",
         "3096"
        ],
        [
         "DSL",
         "2416"
        ],
        [
         "No",
         "1520"
        ]
       ],
       "shape": {
        "columns": 1,
        "rows": 3
       }
      },
      "text/html": [
       "<div>\n",
       "<style scoped>\n",
       "    .dataframe tbody tr th:only-of-type {\n",
       "        vertical-align: middle;\n",
       "    }\n",
       "\n",
       "    .dataframe tbody tr th {\n",
       "        vertical-align: top;\n",
       "    }\n",
       "\n",
       "    .dataframe thead th {\n",
       "        text-align: right;\n",
       "    }\n",
       "</style>\n",
       "<table border=\"1\" class=\"dataframe\">\n",
       "  <thead>\n",
       "    <tr style=\"text-align: right;\">\n",
       "      <th></th>\n",
       "      <th>Frequência</th>\n",
       "    </tr>\n",
       "    <tr>\n",
       "      <th>Tipo_Internet</th>\n",
       "      <th></th>\n",
       "    </tr>\n",
       "  </thead>\n",
       "  <tbody>\n",
       "    <tr>\n",
       "      <th>Fiber optic</th>\n",
       "      <td>3096</td>\n",
       "    </tr>\n",
       "    <tr>\n",
       "      <th>DSL</th>\n",
       "      <td>2416</td>\n",
       "    </tr>\n",
       "    <tr>\n",
       "      <th>No</th>\n",
       "      <td>1520</td>\n",
       "    </tr>\n",
       "  </tbody>\n",
       "</table>\n",
       "</div>"
      ],
      "text/plain": [
       "               Frequência\n",
       "Tipo_Internet            \n",
       "Fiber optic          3096\n",
       "DSL                  2416\n",
       "No                   1520"
      ]
     },
     "metadata": {},
     "output_type": "display_data"
    },
    {
     "name": "stdout",
     "output_type": "stream",
     "text": [
      "———————————————————————————————————\n"
     ]
    },
    {
     "data": {
      "text/html": [
       "<strong style='font-size: 15px;'> SEGURANCA_ONLINE</strong>"
      ],
      "text/plain": [
       "<IPython.core.display.HTML object>"
      ]
     },
     "metadata": {},
     "output_type": "display_data"
    },
    {
     "data": {
      "application/vnd.microsoft.datawrangler.viewer.v0+json": {
       "columns": [
        {
         "name": "Seguranca_Online",
         "rawType": "object",
         "type": "string"
        },
        {
         "name": "Frequência",
         "rawType": "int64",
         "type": "integer"
        }
       ],
       "ref": "0eed50a2-36ab-4e46-a99a-998c454caa29",
       "rows": [
        [
         "No",
         "3497"
        ],
        [
         "Yes",
         "2015"
        ],
        [
         "No internet service",
         "1520"
        ]
       ],
       "shape": {
        "columns": 1,
        "rows": 3
       }
      },
      "text/html": [
       "<div>\n",
       "<style scoped>\n",
       "    .dataframe tbody tr th:only-of-type {\n",
       "        vertical-align: middle;\n",
       "    }\n",
       "\n",
       "    .dataframe tbody tr th {\n",
       "        vertical-align: top;\n",
       "    }\n",
       "\n",
       "    .dataframe thead th {\n",
       "        text-align: right;\n",
       "    }\n",
       "</style>\n",
       "<table border=\"1\" class=\"dataframe\">\n",
       "  <thead>\n",
       "    <tr style=\"text-align: right;\">\n",
       "      <th></th>\n",
       "      <th>Frequência</th>\n",
       "    </tr>\n",
       "    <tr>\n",
       "      <th>Seguranca_Online</th>\n",
       "      <th></th>\n",
       "    </tr>\n",
       "  </thead>\n",
       "  <tbody>\n",
       "    <tr>\n",
       "      <th>No</th>\n",
       "      <td>3497</td>\n",
       "    </tr>\n",
       "    <tr>\n",
       "      <th>Yes</th>\n",
       "      <td>2015</td>\n",
       "    </tr>\n",
       "    <tr>\n",
       "      <th>No internet service</th>\n",
       "      <td>1520</td>\n",
       "    </tr>\n",
       "  </tbody>\n",
       "</table>\n",
       "</div>"
      ],
      "text/plain": [
       "                     Frequência\n",
       "Seguranca_Online               \n",
       "No                         3497\n",
       "Yes                        2015\n",
       "No internet service        1520"
      ]
     },
     "metadata": {},
     "output_type": "display_data"
    },
    {
     "name": "stdout",
     "output_type": "stream",
     "text": [
      "———————————————————————————————————\n"
     ]
    },
    {
     "data": {
      "text/html": [
       "<strong style='font-size: 15px;'> BACKUP_ONLINE</strong>"
      ],
      "text/plain": [
       "<IPython.core.display.HTML object>"
      ]
     },
     "metadata": {},
     "output_type": "display_data"
    },
    {
     "data": {
      "application/vnd.microsoft.datawrangler.viewer.v0+json": {
       "columns": [
        {
         "name": "Backup_Online",
         "rawType": "object",
         "type": "string"
        },
        {
         "name": "Frequência",
         "rawType": "int64",
         "type": "integer"
        }
       ],
       "ref": "83f6dc8e-8982-44a0-bd6e-cba3d8a130cd",
       "rows": [
        [
         "No",
         "3087"
        ],
        [
         "Yes",
         "2425"
        ],
        [
         "No internet service",
         "1520"
        ]
       ],
       "shape": {
        "columns": 1,
        "rows": 3
       }
      },
      "text/html": [
       "<div>\n",
       "<style scoped>\n",
       "    .dataframe tbody tr th:only-of-type {\n",
       "        vertical-align: middle;\n",
       "    }\n",
       "\n",
       "    .dataframe tbody tr th {\n",
       "        vertical-align: top;\n",
       "    }\n",
       "\n",
       "    .dataframe thead th {\n",
       "        text-align: right;\n",
       "    }\n",
       "</style>\n",
       "<table border=\"1\" class=\"dataframe\">\n",
       "  <thead>\n",
       "    <tr style=\"text-align: right;\">\n",
       "      <th></th>\n",
       "      <th>Frequência</th>\n",
       "    </tr>\n",
       "    <tr>\n",
       "      <th>Backup_Online</th>\n",
       "      <th></th>\n",
       "    </tr>\n",
       "  </thead>\n",
       "  <tbody>\n",
       "    <tr>\n",
       "      <th>No</th>\n",
       "      <td>3087</td>\n",
       "    </tr>\n",
       "    <tr>\n",
       "      <th>Yes</th>\n",
       "      <td>2425</td>\n",
       "    </tr>\n",
       "    <tr>\n",
       "      <th>No internet service</th>\n",
       "      <td>1520</td>\n",
       "    </tr>\n",
       "  </tbody>\n",
       "</table>\n",
       "</div>"
      ],
      "text/plain": [
       "                     Frequência\n",
       "Backup_Online                  \n",
       "No                         3087\n",
       "Yes                        2425\n",
       "No internet service        1520"
      ]
     },
     "metadata": {},
     "output_type": "display_data"
    },
    {
     "name": "stdout",
     "output_type": "stream",
     "text": [
      "———————————————————————————————————\n"
     ]
    },
    {
     "data": {
      "text/html": [
       "<strong style='font-size: 15px;'> PROTECAO_DISPOSITIVO</strong>"
      ],
      "text/plain": [
       "<IPython.core.display.HTML object>"
      ]
     },
     "metadata": {},
     "output_type": "display_data"
    },
    {
     "data": {
      "application/vnd.microsoft.datawrangler.viewer.v0+json": {
       "columns": [
        {
         "name": "Protecao_Dispositivo",
         "rawType": "object",
         "type": "string"
        },
        {
         "name": "Frequência",
         "rawType": "int64",
         "type": "integer"
        }
       ],
       "ref": "ed1b1095-ef13-4e2a-b52d-5d3ca42c5a84",
       "rows": [
        [
         "No",
         "3094"
        ],
        [
         "Yes",
         "2418"
        ],
        [
         "No internet service",
         "1520"
        ]
       ],
       "shape": {
        "columns": 1,
        "rows": 3
       }
      },
      "text/html": [
       "<div>\n",
       "<style scoped>\n",
       "    .dataframe tbody tr th:only-of-type {\n",
       "        vertical-align: middle;\n",
       "    }\n",
       "\n",
       "    .dataframe tbody tr th {\n",
       "        vertical-align: top;\n",
       "    }\n",
       "\n",
       "    .dataframe thead th {\n",
       "        text-align: right;\n",
       "    }\n",
       "</style>\n",
       "<table border=\"1\" class=\"dataframe\">\n",
       "  <thead>\n",
       "    <tr style=\"text-align: right;\">\n",
       "      <th></th>\n",
       "      <th>Frequência</th>\n",
       "    </tr>\n",
       "    <tr>\n",
       "      <th>Protecao_Dispositivo</th>\n",
       "      <th></th>\n",
       "    </tr>\n",
       "  </thead>\n",
       "  <tbody>\n",
       "    <tr>\n",
       "      <th>No</th>\n",
       "      <td>3094</td>\n",
       "    </tr>\n",
       "    <tr>\n",
       "      <th>Yes</th>\n",
       "      <td>2418</td>\n",
       "    </tr>\n",
       "    <tr>\n",
       "      <th>No internet service</th>\n",
       "      <td>1520</td>\n",
       "    </tr>\n",
       "  </tbody>\n",
       "</table>\n",
       "</div>"
      ],
      "text/plain": [
       "                      Frequência\n",
       "Protecao_Dispositivo            \n",
       "No                          3094\n",
       "Yes                         2418\n",
       "No internet service         1520"
      ]
     },
     "metadata": {},
     "output_type": "display_data"
    },
    {
     "name": "stdout",
     "output_type": "stream",
     "text": [
      "———————————————————————————————————\n"
     ]
    },
    {
     "data": {
      "text/html": [
       "<strong style='font-size: 15px;'> SUPORTE_TECNICO</strong>"
      ],
      "text/plain": [
       "<IPython.core.display.HTML object>"
      ]
     },
     "metadata": {},
     "output_type": "display_data"
    },
    {
     "data": {
      "application/vnd.microsoft.datawrangler.viewer.v0+json": {
       "columns": [
        {
         "name": "Suporte_Tecnico",
         "rawType": "object",
         "type": "string"
        },
        {
         "name": "Frequência",
         "rawType": "int64",
         "type": "integer"
        }
       ],
       "ref": "32c78f4b-cc4a-47ce-a63d-4d27081c4f6c",
       "rows": [
        [
         "No",
         "3472"
        ],
        [
         "Yes",
         "2040"
        ],
        [
         "No internet service",
         "1520"
        ]
       ],
       "shape": {
        "columns": 1,
        "rows": 3
       }
      },
      "text/html": [
       "<div>\n",
       "<style scoped>\n",
       "    .dataframe tbody tr th:only-of-type {\n",
       "        vertical-align: middle;\n",
       "    }\n",
       "\n",
       "    .dataframe tbody tr th {\n",
       "        vertical-align: top;\n",
       "    }\n",
       "\n",
       "    .dataframe thead th {\n",
       "        text-align: right;\n",
       "    }\n",
       "</style>\n",
       "<table border=\"1\" class=\"dataframe\">\n",
       "  <thead>\n",
       "    <tr style=\"text-align: right;\">\n",
       "      <th></th>\n",
       "      <th>Frequência</th>\n",
       "    </tr>\n",
       "    <tr>\n",
       "      <th>Suporte_Tecnico</th>\n",
       "      <th></th>\n",
       "    </tr>\n",
       "  </thead>\n",
       "  <tbody>\n",
       "    <tr>\n",
       "      <th>No</th>\n",
       "      <td>3472</td>\n",
       "    </tr>\n",
       "    <tr>\n",
       "      <th>Yes</th>\n",
       "      <td>2040</td>\n",
       "    </tr>\n",
       "    <tr>\n",
       "      <th>No internet service</th>\n",
       "      <td>1520</td>\n",
       "    </tr>\n",
       "  </tbody>\n",
       "</table>\n",
       "</div>"
      ],
      "text/plain": [
       "                     Frequência\n",
       "Suporte_Tecnico                \n",
       "No                         3472\n",
       "Yes                        2040\n",
       "No internet service        1520"
      ]
     },
     "metadata": {},
     "output_type": "display_data"
    },
    {
     "name": "stdout",
     "output_type": "stream",
     "text": [
      "———————————————————————————————————\n"
     ]
    },
    {
     "data": {
      "text/html": [
       "<strong style='font-size: 15px;'> STREAMING_TV</strong>"
      ],
      "text/plain": [
       "<IPython.core.display.HTML object>"
      ]
     },
     "metadata": {},
     "output_type": "display_data"
    },
    {
     "data": {
      "application/vnd.microsoft.datawrangler.viewer.v0+json": {
       "columns": [
        {
         "name": "Streaming_TV",
         "rawType": "object",
         "type": "string"
        },
        {
         "name": "Frequência",
         "rawType": "int64",
         "type": "integer"
        }
       ],
       "ref": "c9650fa2-7e59-4454-b8c4-f780357b8dde",
       "rows": [
        [
         "No",
         "2809"
        ],
        [
         "Yes",
         "2703"
        ],
        [
         "No internet service",
         "1520"
        ]
       ],
       "shape": {
        "columns": 1,
        "rows": 3
       }
      },
      "text/html": [
       "<div>\n",
       "<style scoped>\n",
       "    .dataframe tbody tr th:only-of-type {\n",
       "        vertical-align: middle;\n",
       "    }\n",
       "\n",
       "    .dataframe tbody tr th {\n",
       "        vertical-align: top;\n",
       "    }\n",
       "\n",
       "    .dataframe thead th {\n",
       "        text-align: right;\n",
       "    }\n",
       "</style>\n",
       "<table border=\"1\" class=\"dataframe\">\n",
       "  <thead>\n",
       "    <tr style=\"text-align: right;\">\n",
       "      <th></th>\n",
       "      <th>Frequência</th>\n",
       "    </tr>\n",
       "    <tr>\n",
       "      <th>Streaming_TV</th>\n",
       "      <th></th>\n",
       "    </tr>\n",
       "  </thead>\n",
       "  <tbody>\n",
       "    <tr>\n",
       "      <th>No</th>\n",
       "      <td>2809</td>\n",
       "    </tr>\n",
       "    <tr>\n",
       "      <th>Yes</th>\n",
       "      <td>2703</td>\n",
       "    </tr>\n",
       "    <tr>\n",
       "      <th>No internet service</th>\n",
       "      <td>1520</td>\n",
       "    </tr>\n",
       "  </tbody>\n",
       "</table>\n",
       "</div>"
      ],
      "text/plain": [
       "                     Frequência\n",
       "Streaming_TV                   \n",
       "No                         2809\n",
       "Yes                        2703\n",
       "No internet service        1520"
      ]
     },
     "metadata": {},
     "output_type": "display_data"
    },
    {
     "name": "stdout",
     "output_type": "stream",
     "text": [
      "———————————————————————————————————\n"
     ]
    },
    {
     "data": {
      "text/html": [
       "<strong style='font-size: 15px;'> STREAMING_FILMES</strong>"
      ],
      "text/plain": [
       "<IPython.core.display.HTML object>"
      ]
     },
     "metadata": {},
     "output_type": "display_data"
    },
    {
     "data": {
      "application/vnd.microsoft.datawrangler.viewer.v0+json": {
       "columns": [
        {
         "name": "Streaming_Filmes",
         "rawType": "object",
         "type": "string"
        },
        {
         "name": "Frequência",
         "rawType": "int64",
         "type": "integer"
        }
       ],
       "ref": "745c3c7e-7e32-468f-b8a6-0917738793e1",
       "rows": [
        [
         "No",
         "2781"
        ],
        [
         "Yes",
         "2731"
        ],
        [
         "No internet service",
         "1520"
        ]
       ],
       "shape": {
        "columns": 1,
        "rows": 3
       }
      },
      "text/html": [
       "<div>\n",
       "<style scoped>\n",
       "    .dataframe tbody tr th:only-of-type {\n",
       "        vertical-align: middle;\n",
       "    }\n",
       "\n",
       "    .dataframe tbody tr th {\n",
       "        vertical-align: top;\n",
       "    }\n",
       "\n",
       "    .dataframe thead th {\n",
       "        text-align: right;\n",
       "    }\n",
       "</style>\n",
       "<table border=\"1\" class=\"dataframe\">\n",
       "  <thead>\n",
       "    <tr style=\"text-align: right;\">\n",
       "      <th></th>\n",
       "      <th>Frequência</th>\n",
       "    </tr>\n",
       "    <tr>\n",
       "      <th>Streaming_Filmes</th>\n",
       "      <th></th>\n",
       "    </tr>\n",
       "  </thead>\n",
       "  <tbody>\n",
       "    <tr>\n",
       "      <th>No</th>\n",
       "      <td>2781</td>\n",
       "    </tr>\n",
       "    <tr>\n",
       "      <th>Yes</th>\n",
       "      <td>2731</td>\n",
       "    </tr>\n",
       "    <tr>\n",
       "      <th>No internet service</th>\n",
       "      <td>1520</td>\n",
       "    </tr>\n",
       "  </tbody>\n",
       "</table>\n",
       "</div>"
      ],
      "text/plain": [
       "                     Frequência\n",
       "Streaming_Filmes               \n",
       "No                         2781\n",
       "Yes                        2731\n",
       "No internet service        1520"
      ]
     },
     "metadata": {},
     "output_type": "display_data"
    },
    {
     "name": "stdout",
     "output_type": "stream",
     "text": [
      "———————————————————————————————————\n"
     ]
    },
    {
     "data": {
      "text/html": [
       "<strong style='font-size: 15px;'> TIPO_CONTRATO</strong>"
      ],
      "text/plain": [
       "<IPython.core.display.HTML object>"
      ]
     },
     "metadata": {},
     "output_type": "display_data"
    },
    {
     "data": {
      "application/vnd.microsoft.datawrangler.viewer.v0+json": {
       "columns": [
        {
         "name": "Tipo_Contrato",
         "rawType": "object",
         "type": "string"
        },
        {
         "name": "Frequência",
         "rawType": "int64",
         "type": "integer"
        }
       ],
       "ref": "52fb8346-a6ed-42e2-b62f-ce4d812ef0da",
       "rows": [
        [
         "Month-to-month",
         "3875"
        ],
        [
         "Two year",
         "1685"
        ],
        [
         "One year",
         "1472"
        ]
       ],
       "shape": {
        "columns": 1,
        "rows": 3
       }
      },
      "text/html": [
       "<div>\n",
       "<style scoped>\n",
       "    .dataframe tbody tr th:only-of-type {\n",
       "        vertical-align: middle;\n",
       "    }\n",
       "\n",
       "    .dataframe tbody tr th {\n",
       "        vertical-align: top;\n",
       "    }\n",
       "\n",
       "    .dataframe thead th {\n",
       "        text-align: right;\n",
       "    }\n",
       "</style>\n",
       "<table border=\"1\" class=\"dataframe\">\n",
       "  <thead>\n",
       "    <tr style=\"text-align: right;\">\n",
       "      <th></th>\n",
       "      <th>Frequência</th>\n",
       "    </tr>\n",
       "    <tr>\n",
       "      <th>Tipo_Contrato</th>\n",
       "      <th></th>\n",
       "    </tr>\n",
       "  </thead>\n",
       "  <tbody>\n",
       "    <tr>\n",
       "      <th>Month-to-month</th>\n",
       "      <td>3875</td>\n",
       "    </tr>\n",
       "    <tr>\n",
       "      <th>Two year</th>\n",
       "      <td>1685</td>\n",
       "    </tr>\n",
       "    <tr>\n",
       "      <th>One year</th>\n",
       "      <td>1472</td>\n",
       "    </tr>\n",
       "  </tbody>\n",
       "</table>\n",
       "</div>"
      ],
      "text/plain": [
       "                Frequência\n",
       "Tipo_Contrato             \n",
       "Month-to-month        3875\n",
       "Two year              1685\n",
       "One year              1472"
      ]
     },
     "metadata": {},
     "output_type": "display_data"
    },
    {
     "name": "stdout",
     "output_type": "stream",
     "text": [
      "———————————————————————————————————\n"
     ]
    },
    {
     "data": {
      "text/html": [
       "<strong style='font-size: 15px;'> FATURA_DIGITAL</strong>"
      ],
      "text/plain": [
       "<IPython.core.display.HTML object>"
      ]
     },
     "metadata": {},
     "output_type": "display_data"
    },
    {
     "data": {
      "application/vnd.microsoft.datawrangler.viewer.v0+json": {
       "columns": [
        {
         "name": "Fatura_Digital",
         "rawType": "object",
         "type": "string"
        },
        {
         "name": "Frequência",
         "rawType": "int64",
         "type": "integer"
        }
       ],
       "ref": "7d01d18a-1cfc-4d64-8297-f38b07213155",
       "rows": [
        [
         "Yes",
         "4168"
        ],
        [
         "No",
         "2864"
        ]
       ],
       "shape": {
        "columns": 1,
        "rows": 2
       }
      },
      "text/html": [
       "<div>\n",
       "<style scoped>\n",
       "    .dataframe tbody tr th:only-of-type {\n",
       "        vertical-align: middle;\n",
       "    }\n",
       "\n",
       "    .dataframe tbody tr th {\n",
       "        vertical-align: top;\n",
       "    }\n",
       "\n",
       "    .dataframe thead th {\n",
       "        text-align: right;\n",
       "    }\n",
       "</style>\n",
       "<table border=\"1\" class=\"dataframe\">\n",
       "  <thead>\n",
       "    <tr style=\"text-align: right;\">\n",
       "      <th></th>\n",
       "      <th>Frequência</th>\n",
       "    </tr>\n",
       "    <tr>\n",
       "      <th>Fatura_Digital</th>\n",
       "      <th></th>\n",
       "    </tr>\n",
       "  </thead>\n",
       "  <tbody>\n",
       "    <tr>\n",
       "      <th>Yes</th>\n",
       "      <td>4168</td>\n",
       "    </tr>\n",
       "    <tr>\n",
       "      <th>No</th>\n",
       "      <td>2864</td>\n",
       "    </tr>\n",
       "  </tbody>\n",
       "</table>\n",
       "</div>"
      ],
      "text/plain": [
       "                Frequência\n",
       "Fatura_Digital            \n",
       "Yes                   4168\n",
       "No                    2864"
      ]
     },
     "metadata": {},
     "output_type": "display_data"
    },
    {
     "name": "stdout",
     "output_type": "stream",
     "text": [
      "———————————————————————————————————\n"
     ]
    },
    {
     "data": {
      "text/html": [
       "<strong style='font-size: 15px;'> FORMA_PAGAMENTO</strong>"
      ],
      "text/plain": [
       "<IPython.core.display.HTML object>"
      ]
     },
     "metadata": {},
     "output_type": "display_data"
    },
    {
     "data": {
      "application/vnd.microsoft.datawrangler.viewer.v0+json": {
       "columns": [
        {
         "name": "Forma_Pagamento",
         "rawType": "object",
         "type": "string"
        },
        {
         "name": "Frequência",
         "rawType": "int64",
         "type": "integer"
        }
       ],
       "ref": "5638c4aa-0dc3-4312-889b-e89478d4fd55",
       "rows": [
        [
         "Electronic check",
         "2365"
        ],
        [
         "Mailed check",
         "1604"
        ],
        [
         "Bank transfer (automatic)",
         "1542"
        ]
       ],
       "shape": {
        "columns": 1,
        "rows": 3
       }
      },
      "text/html": [
       "<div>\n",
       "<style scoped>\n",
       "    .dataframe tbody tr th:only-of-type {\n",
       "        vertical-align: middle;\n",
       "    }\n",
       "\n",
       "    .dataframe tbody tr th {\n",
       "        vertical-align: top;\n",
       "    }\n",
       "\n",
       "    .dataframe thead th {\n",
       "        text-align: right;\n",
       "    }\n",
       "</style>\n",
       "<table border=\"1\" class=\"dataframe\">\n",
       "  <thead>\n",
       "    <tr style=\"text-align: right;\">\n",
       "      <th></th>\n",
       "      <th>Frequência</th>\n",
       "    </tr>\n",
       "    <tr>\n",
       "      <th>Forma_Pagamento</th>\n",
       "      <th></th>\n",
       "    </tr>\n",
       "  </thead>\n",
       "  <tbody>\n",
       "    <tr>\n",
       "      <th>Electronic check</th>\n",
       "      <td>2365</td>\n",
       "    </tr>\n",
       "    <tr>\n",
       "      <th>Mailed check</th>\n",
       "      <td>1604</td>\n",
       "    </tr>\n",
       "    <tr>\n",
       "      <th>Bank transfer (automatic)</th>\n",
       "      <td>1542</td>\n",
       "    </tr>\n",
       "  </tbody>\n",
       "</table>\n",
       "</div>"
      ],
      "text/plain": [
       "                           Frequência\n",
       "Forma_Pagamento                      \n",
       "Electronic check                 2365\n",
       "Mailed check                     1604\n",
       "Bank transfer (automatic)        1542"
      ]
     },
     "metadata": {},
     "output_type": "display_data"
    },
    {
     "name": "stdout",
     "output_type": "stream",
     "text": [
      "———————————————————————————————————\n"
     ]
    }
   ],
   "source": [
    "from IPython.display import display, HTML\n",
    "\n",
    "def exibir_frequencias_categoricas(df: pd.DataFrame, limite_superior: int = 3) -> None:\n",
    "    \"\"\"Exibe as categorias mais frequentes das variáveis qualitativas.\"\"\"\n",
    "    colunas_categoricas = df.select_dtypes(include=\"object\").columns\n",
    "    for coluna in colunas_categoricas:\n",
    "        titulo_html = f\"<strong style='font-size: 15px;'> {coluna.upper()}</strong>\"\n",
    "        display(HTML(titulo_html))\n",
    "        frequencias = df[coluna].value_counts(dropna=False).head(limite_superior).to_frame(name=\"Frequência\")\n",
    "        display(frequencias)\n",
    "        print(\"—\" * 35)\n",
    "\n",
    "exibir_frequencias_categoricas(dados)"
   ]
  },
  {
   "cell_type": "code",
   "execution_count": 8,
   "metadata": {
    "colab": {
     "base_uri": "https://localhost:8080/"
    },
    "id": "y8VQrd4H2tBd",
    "outputId": "39b8c8f4-1f4d-4a07-c60e-2881cdc6530c"
   },
   "outputs": [
    {
     "name": "stdout",
     "output_type": "stream",
     "text": [
      "<class 'pandas.core.frame.DataFrame'>\n",
      "Index: 7032 entries, 0 to 7255\n",
      "Data columns (total 19 columns):\n",
      " #   Column                Non-Null Count  Dtype  \n",
      "---  ------                --------------  -----  \n",
      " 0   Cancelamento          7032 non-null   int64  \n",
      " 1   Gênero                7032 non-null   int64  \n",
      " 2   Idoso                 7032 non-null   int64  \n",
      " 3   Possui_Companheiro    7032 non-null   int64  \n",
      " 4   Possui_Dependentes    7032 non-null   int64  \n",
      " 5   Meses_de_Contrato     7032 non-null   int64  \n",
      " 6   Telefone_Ativo        7032 non-null   int64  \n",
      " 7   Multiplas_Linhas      7032 non-null   object \n",
      " 8   Tipo_Internet         7032 non-null   object \n",
      " 9   Seguranca_Online      7032 non-null   object \n",
      " 10  Backup_Online         7032 non-null   object \n",
      " 11  Protecao_Dispositivo  7032 non-null   object \n",
      " 12  Suporte_Tecnico       7032 non-null   object \n",
      " 13  Streaming_TV          7032 non-null   object \n",
      " 14  Streaming_Filmes      7032 non-null   object \n",
      " 15  Tipo_Contrato         7032 non-null   object \n",
      " 16  Fatura_Digital        7032 non-null   int64  \n",
      " 17  Forma_Pagamento       7032 non-null   object \n",
      " 18  Valor_Mensal          7032 non-null   float64\n",
      "dtypes: float64(1), int64(8), object(10)\n",
      "memory usage: 1.1+ MB\n"
     ]
    }
   ],
   "source": [
    "import warnings\n",
    "\n",
    "def aplicar_binarizacao_valores(df: pd.DataFrame) -> pd.DataFrame:\n",
    "    \"\"\"\n",
    "    Converte valores categóricos comuns em representações binárias numéricas no DataFrame.\n",
    "\n",
    "    Substituições realizadas:\n",
    "    - 'Yes' → 1 ; 'No' → 0\n",
    "    - 'Female' → 1 ; 'Male' → 0\n",
    "    - 'True' → 1 ; 'False' → 0\n",
    "\n",
    "    Parâmetro:\n",
    "    - df: DataFrame com variáveis categóricas\n",
    "\n",
    "    Retorna:\n",
    "    - DataFrame transformado\n",
    "    \"\"\"\n",
    "    with warnings.catch_warnings():\n",
    "        warnings.simplefilter(\"ignore\", category=FutureWarning)\n",
    "        df = df.replace({\n",
    "            \"Yes\": 1, \"No\": 0,\n",
    "            \"Female\": 1, \"Male\": 0,\n",
    "            \"True\": 1, \"False\": 0\n",
    "        })\n",
    "    return df\n",
    "\n",
    "# Aplicar transformação\n",
    "dados = aplicar_binarizacao_valores(dados)\n",
    "\n",
    "# Inspeção da nova estrutura dos dados\n",
    "dados.info()\n"
   ]
  },
  {
   "cell_type": "code",
   "execution_count": 9,
   "metadata": {
    "colab": {
     "base_uri": "https://localhost:8080/"
    },
    "id": "pJPQpS_jPV3O",
    "outputId": "310d31fd-bbba-475e-d5fa-d9a9458ecd43"
   },
   "outputs": [
    {
     "name": "stdout",
     "output_type": "stream",
     "text": [
      "<class 'pandas.core.frame.DataFrame'>\n",
      "Index: 7032 entries, 0 to 7255\n",
      "Data columns (total 19 columns):\n",
      " #   Column                Non-Null Count  Dtype  \n",
      "---  ------                --------------  -----  \n",
      " 0   Cancelamento          7032 non-null   bool   \n",
      " 1   Gênero                7032 non-null   bool   \n",
      " 2   Idoso                 7032 non-null   bool   \n",
      " 3   Possui_Companheiro    7032 non-null   bool   \n",
      " 4   Possui_Dependentes    7032 non-null   bool   \n",
      " 5   Meses_de_Contrato     7032 non-null   int64  \n",
      " 6   Telefone_Ativo        7032 non-null   bool   \n",
      " 7   Multiplas_Linhas      7032 non-null   object \n",
      " 8   Tipo_Internet         7032 non-null   object \n",
      " 9   Seguranca_Online      7032 non-null   object \n",
      " 10  Backup_Online         7032 non-null   object \n",
      " 11  Protecao_Dispositivo  7032 non-null   object \n",
      " 12  Suporte_Tecnico       7032 non-null   object \n",
      " 13  Streaming_TV          7032 non-null   object \n",
      " 14  Streaming_Filmes      7032 non-null   object \n",
      " 15  Tipo_Contrato         7032 non-null   object \n",
      " 16  Fatura_Digital        7032 non-null   bool   \n",
      " 17  Forma_Pagamento       7032 non-null   object \n",
      " 18  Valor_Mensal          7032 non-null   float64\n",
      "dtypes: bool(7), float64(1), int64(1), object(10)\n",
      "memory usage: 762.3+ KB\n"
     ]
    }
   ],
   "source": [
    "def converter_binarias_para_booleano(df: pd.DataFrame) -> pd.DataFrame:\n",
    "    \"\"\"\n",
    "    Identifica e converte colunas numéricas binárias (0 e 1) em tipo booleano.\n",
    "\n",
    "    Parâmetro:\n",
    "    - df: DataFrame original\n",
    "\n",
    "    Retorna:\n",
    "    - DataFrame com colunas binárias convertidas para booleano\n",
    "    \"\"\"\n",
    "    colunas_binarias = [col for col in df.columns if set(df[col].dropna().unique()).issubset({0, 1})]\n",
    "    df[colunas_binarias] = df[colunas_binarias].astype(bool)\n",
    "    return df\n",
    "\n",
    "# Aplicar conversão\n",
    "dados = converter_binarias_para_booleano(dados)\n",
    "\n",
    "# Verificar estrutura atual\n",
    "dados.info()\n"
   ]
  },
  {
   "cell_type": "code",
   "execution_count": 10,
   "metadata": {
    "colab": {
     "base_uri": "https://localhost:8080/"
    },
    "id": "EgLXe9xFaAvM",
    "outputId": "11d8c7dc-014a-4dcb-8033-28d3f1dab169"
   },
   "outputs": [
    {
     "name": "stdout",
     "output_type": "stream",
     "text": [
      "<class 'pandas.core.frame.DataFrame'>\n",
      "Index: 7032 entries, 0 to 7255\n",
      "Data columns (total 30 columns):\n",
      " #   Column                                    Non-Null Count  Dtype  \n",
      "---  ------                                    --------------  -----  \n",
      " 0   Cancelamento                              7032 non-null   bool   \n",
      " 1   Gênero                                    7032 non-null   bool   \n",
      " 2   Idoso                                     7032 non-null   bool   \n",
      " 3   Possui_Companheiro                        7032 non-null   bool   \n",
      " 4   Possui_Dependentes                        7032 non-null   bool   \n",
      " 5   Meses_de_Contrato                         7032 non-null   int64  \n",
      " 6   Telefone_Ativo                            7032 non-null   bool   \n",
      " 7   Fatura_Digital                            7032 non-null   bool   \n",
      " 8   Valor_Mensal                              7032 non-null   float64\n",
      " 9   Multiplas_Linhas_1                        7032 non-null   bool   \n",
      " 10  Multiplas_Linhas_No phone service         7032 non-null   bool   \n",
      " 11  Tipo_Internet_DSL                         7032 non-null   bool   \n",
      " 12  Tipo_Internet_Fiber optic                 7032 non-null   bool   \n",
      " 13  Seguranca_Online_1                        7032 non-null   bool   \n",
      " 14  Seguranca_Online_No internet service      7032 non-null   bool   \n",
      " 15  Backup_Online_1                           7032 non-null   bool   \n",
      " 16  Backup_Online_No internet service         7032 non-null   bool   \n",
      " 17  Protecao_Dispositivo_1                    7032 non-null   bool   \n",
      " 18  Protecao_Dispositivo_No internet service  7032 non-null   bool   \n",
      " 19  Suporte_Tecnico_1                         7032 non-null   bool   \n",
      " 20  Suporte_Tecnico_No internet service       7032 non-null   bool   \n",
      " 21  Streaming_TV_1                            7032 non-null   bool   \n",
      " 22  Streaming_TV_No internet service          7032 non-null   bool   \n",
      " 23  Streaming_Filmes_1                        7032 non-null   bool   \n",
      " 24  Streaming_Filmes_No internet service      7032 non-null   bool   \n",
      " 25  Tipo_Contrato_One year                    7032 non-null   bool   \n",
      " 26  Tipo_Contrato_Two year                    7032 non-null   bool   \n",
      " 27  Forma_Pagamento_Credit card (automatic)   7032 non-null   bool   \n",
      " 28  Forma_Pagamento_Electronic check          7032 non-null   bool   \n",
      " 29  Forma_Pagamento_Mailed check              7032 non-null   bool   \n",
      "dtypes: bool(28), float64(1), int64(1)\n",
      "memory usage: 357.1 KB\n"
     ]
    }
   ],
   "source": [
    "def codificar_variaveis_categoricas(df: pd.DataFrame) -> pd.DataFrame:\n",
    "    \"\"\"\n",
    "    Realiza codificação one-hot para variáveis categóricas com múltiplas categorias.\n",
    "\n",
    "    Parâmetro:\n",
    "    - df: DataFrame com colunas categóricas\n",
    "\n",
    "    Retorna:\n",
    "    - DataFrame com variáveis categóricas convertidas para dummies binárias\n",
    "    \"\"\"\n",
    "    return pd.get_dummies(df, drop_first=True)\n",
    "\n",
    "# Aplicar transformação\n",
    "dados = codificar_variaveis_categoricas(dados)\n",
    "\n",
    "# Verificar estrutura final\n",
    "dados.info()\n"
   ]
  },
  {
   "cell_type": "code",
   "execution_count": 11,
   "metadata": {
    "colab": {
     "base_uri": "https://localhost:8080/"
    },
    "id": "iv1ap8fLc-o9",
    "outputId": "7c6932d9-eee7-48cb-f273-be08a74c79b0"
   },
   "outputs": [
    {
     "name": "stdout",
     "output_type": "stream",
     "text": [
      "🔁 PARES DE VARIÁVEIS ALTAMENTE CORRELACIONADAS:\n",
      "——————————————————————————————————————————————————\n",
      "Telefone_Ativo  <--->  Multiplas_Linhas_No phone service\n",
      "Multiplas_Linhas_No phone service  <--->  Telefone_Ativo\n",
      "Seguranca_Online_No internet service  <--->  Backup_Online_No internet service\n",
      "Seguranca_Online_No internet service  <--->  Protecao_Dispositivo_No internet service\n",
      "Seguranca_Online_No internet service  <--->  Suporte_Tecnico_No internet service\n",
      "Seguranca_Online_No internet service  <--->  Streaming_TV_No internet service\n",
      "Seguranca_Online_No internet service  <--->  Streaming_Filmes_No internet service\n",
      "Backup_Online_No internet service  <--->  Seguranca_Online_No internet service\n",
      "Backup_Online_No internet service  <--->  Protecao_Dispositivo_No internet service\n",
      "Backup_Online_No internet service  <--->  Suporte_Tecnico_No internet service\n",
      "Backup_Online_No internet service  <--->  Streaming_TV_No internet service\n",
      "Backup_Online_No internet service  <--->  Streaming_Filmes_No internet service\n",
      "Protecao_Dispositivo_No internet service  <--->  Seguranca_Online_No internet service\n",
      "Protecao_Dispositivo_No internet service  <--->  Backup_Online_No internet service\n",
      "Protecao_Dispositivo_No internet service  <--->  Suporte_Tecnico_No internet service\n",
      "Protecao_Dispositivo_No internet service  <--->  Streaming_TV_No internet service\n",
      "Protecao_Dispositivo_No internet service  <--->  Streaming_Filmes_No internet service\n",
      "Suporte_Tecnico_No internet service  <--->  Seguranca_Online_No internet service\n",
      "Suporte_Tecnico_No internet service  <--->  Backup_Online_No internet service\n",
      "Suporte_Tecnico_No internet service  <--->  Protecao_Dispositivo_No internet service\n",
      "Suporte_Tecnico_No internet service  <--->  Streaming_TV_No internet service\n",
      "Suporte_Tecnico_No internet service  <--->  Streaming_Filmes_No internet service\n",
      "Streaming_TV_No internet service  <--->  Seguranca_Online_No internet service\n",
      "Streaming_TV_No internet service  <--->  Backup_Online_No internet service\n",
      "Streaming_TV_No internet service  <--->  Protecao_Dispositivo_No internet service\n",
      "Streaming_TV_No internet service  <--->  Suporte_Tecnico_No internet service\n",
      "Streaming_TV_No internet service  <--->  Streaming_Filmes_No internet service\n",
      "Streaming_Filmes_No internet service  <--->  Seguranca_Online_No internet service\n",
      "Streaming_Filmes_No internet service  <--->  Backup_Online_No internet service\n",
      "Streaming_Filmes_No internet service  <--->  Protecao_Dispositivo_No internet service\n",
      "Streaming_Filmes_No internet service  <--->  Suporte_Tecnico_No internet service\n",
      "Streaming_Filmes_No internet service  <--->  Streaming_TV_No internet service\n"
     ]
    }
   ],
   "source": [
    "def identificar_pares_correlacionados(df: pd.DataFrame, limite_correlacao: float = 0.95) -> list:\n",
    "    \"\"\"\n",
    "    Detecta pares de variáveis com coeficiente de correlação linear superior a um limiar predefinido.\n",
    "\n",
    "    Parâmetros:\n",
    "    - df: DataFrame contendo variáveis numéricas\n",
    "    - limite_correlacao: Valor mínimo absoluto para considerar correlação elevada (default = 0.95)\n",
    "\n",
    "    Retorna:\n",
    "    - Lista de tuplas com pares de colunas fortemente correlacionadas\n",
    "    \"\"\"\n",
    "    df_numerico = df.select_dtypes(include=[\"number\", \"bool\"])\n",
    "    matriz_corr = df_numerico.corr().abs()\n",
    "    \n",
    "    pares_correlacionados = [\n",
    "        (var1, var2)\n",
    "        for var1 in matriz_corr.columns\n",
    "        for var2 in matriz_corr.columns\n",
    "        if var1 != var2 and matriz_corr.loc[var1, var2] > limite_correlacao\n",
    "    ]\n",
    "    \n",
    "    print(\"🔁 PARES DE VARIÁVEIS ALTAMENTE CORRELACIONADAS:\")\n",
    "    print(\"—\" * 50)\n",
    "    for par in pares_correlacionados:\n",
    "        print(f\"{par[0]}  <--->  {par[1]}\")\n",
    "    \n",
    "    return pares_correlacionados\n",
    "\n",
    "# Aplicar identificação\n",
    "pares_correlacionados = identificar_pares_correlacionados(dados)\n",
    "\n"
   ]
  },
  {
   "cell_type": "code",
   "execution_count": 12,
   "metadata": {
    "colab": {
     "base_uri": "https://localhost:8080/",
     "height": 273
    },
    "id": "KEggGRXodMXY",
    "outputId": "61c96905-3368-4f39-816d-5c9fbfeebe6a"
   },
   "outputs": [
    {
     "data": {
      "application/vnd.microsoft.datawrangler.viewer.v0+json": {
       "columns": [
        {
         "name": "index",
         "rawType": "int64",
         "type": "integer"
        },
        {
         "name": "Cancelamento",
         "rawType": "bool",
         "type": "boolean"
        },
        {
         "name": "Gênero",
         "rawType": "bool",
         "type": "boolean"
        },
        {
         "name": "Idoso",
         "rawType": "bool",
         "type": "boolean"
        },
        {
         "name": "Possui_Companheiro",
         "rawType": "bool",
         "type": "boolean"
        },
        {
         "name": "Possui_Dependentes",
         "rawType": "bool",
         "type": "boolean"
        },
        {
         "name": "Meses_de_Contrato",
         "rawType": "int64",
         "type": "integer"
        },
        {
         "name": "Telefone_Ativo",
         "rawType": "bool",
         "type": "boolean"
        },
        {
         "name": "Fatura_Digital",
         "rawType": "bool",
         "type": "boolean"
        },
        {
         "name": "Valor_Mensal",
         "rawType": "float64",
         "type": "float"
        },
        {
         "name": "Multiplas_Linhas_1",
         "rawType": "bool",
         "type": "boolean"
        },
        {
         "name": "Tipo_Internet_DSL",
         "rawType": "bool",
         "type": "boolean"
        },
        {
         "name": "Tipo_Internet_Fiber optic",
         "rawType": "bool",
         "type": "boolean"
        },
        {
         "name": "Seguranca_Online_1",
         "rawType": "bool",
         "type": "boolean"
        },
        {
         "name": "Seguranca_Online_No internet service",
         "rawType": "bool",
         "type": "boolean"
        },
        {
         "name": "Backup_Online_1",
         "rawType": "bool",
         "type": "boolean"
        },
        {
         "name": "Protecao_Dispositivo_1",
         "rawType": "bool",
         "type": "boolean"
        },
        {
         "name": "Suporte_Tecnico_1",
         "rawType": "bool",
         "type": "boolean"
        },
        {
         "name": "Streaming_TV_1",
         "rawType": "bool",
         "type": "boolean"
        },
        {
         "name": "Streaming_Filmes_1",
         "rawType": "bool",
         "type": "boolean"
        },
        {
         "name": "Tipo_Contrato_One year",
         "rawType": "bool",
         "type": "boolean"
        },
        {
         "name": "Tipo_Contrato_Two year",
         "rawType": "bool",
         "type": "boolean"
        },
        {
         "name": "Forma_Pagamento_Credit card (automatic)",
         "rawType": "bool",
         "type": "boolean"
        },
        {
         "name": "Forma_Pagamento_Electronic check",
         "rawType": "bool",
         "type": "boolean"
        },
        {
         "name": "Forma_Pagamento_Mailed check",
         "rawType": "bool",
         "type": "boolean"
        }
       ],
       "ref": "6161a74b-0f2a-4511-a54e-60eb8fcc0ea1",
       "rows": [
        [
         "0",
         "False",
         "True",
         "False",
         "True",
         "True",
         "9",
         "True",
         "True",
         "65.6",
         "False",
         "True",
         "False",
         "False",
         "False",
         "True",
         "False",
         "True",
         "True",
         "False",
         "True",
         "False",
         "False",
         "False",
         "True"
        ],
        [
         "1",
         "False",
         "False",
         "False",
         "False",
         "False",
         "9",
         "True",
         "False",
         "59.9",
         "True",
         "True",
         "False",
         "False",
         "False",
         "False",
         "False",
         "False",
         "False",
         "True",
         "False",
         "False",
         "False",
         "False",
         "True"
        ],
        [
         "2",
         "True",
         "False",
         "False",
         "False",
         "False",
         "4",
         "True",
         "True",
         "73.9",
         "False",
         "False",
         "True",
         "False",
         "False",
         "False",
         "True",
         "False",
         "False",
         "False",
         "False",
         "False",
         "False",
         "True",
         "False"
        ],
        [
         "3",
         "True",
         "False",
         "True",
         "True",
         "False",
         "13",
         "True",
         "True",
         "98.0",
         "False",
         "False",
         "True",
         "False",
         "False",
         "True",
         "True",
         "False",
         "True",
         "True",
         "False",
         "False",
         "False",
         "True",
         "False"
        ],
        [
         "4",
         "True",
         "True",
         "True",
         "True",
         "False",
         "3",
         "True",
         "True",
         "83.9",
         "False",
         "False",
         "True",
         "False",
         "False",
         "False",
         "False",
         "True",
         "True",
         "False",
         "False",
         "False",
         "False",
         "False",
         "True"
        ]
       ],
       "shape": {
        "columns": 24,
        "rows": 5
       }
      },
      "text/html": [
       "<div>\n",
       "<style scoped>\n",
       "    .dataframe tbody tr th:only-of-type {\n",
       "        vertical-align: middle;\n",
       "    }\n",
       "\n",
       "    .dataframe tbody tr th {\n",
       "        vertical-align: top;\n",
       "    }\n",
       "\n",
       "    .dataframe thead th {\n",
       "        text-align: right;\n",
       "    }\n",
       "</style>\n",
       "<table border=\"1\" class=\"dataframe\">\n",
       "  <thead>\n",
       "    <tr style=\"text-align: right;\">\n",
       "      <th></th>\n",
       "      <th>Cancelamento</th>\n",
       "      <th>Gênero</th>\n",
       "      <th>Idoso</th>\n",
       "      <th>Possui_Companheiro</th>\n",
       "      <th>Possui_Dependentes</th>\n",
       "      <th>Meses_de_Contrato</th>\n",
       "      <th>Telefone_Ativo</th>\n",
       "      <th>Fatura_Digital</th>\n",
       "      <th>Valor_Mensal</th>\n",
       "      <th>Multiplas_Linhas_1</th>\n",
       "      <th>...</th>\n",
       "      <th>Backup_Online_1</th>\n",
       "      <th>Protecao_Dispositivo_1</th>\n",
       "      <th>Suporte_Tecnico_1</th>\n",
       "      <th>Streaming_TV_1</th>\n",
       "      <th>Streaming_Filmes_1</th>\n",
       "      <th>Tipo_Contrato_One year</th>\n",
       "      <th>Tipo_Contrato_Two year</th>\n",
       "      <th>Forma_Pagamento_Credit card (automatic)</th>\n",
       "      <th>Forma_Pagamento_Electronic check</th>\n",
       "      <th>Forma_Pagamento_Mailed check</th>\n",
       "    </tr>\n",
       "  </thead>\n",
       "  <tbody>\n",
       "    <tr>\n",
       "      <th>0</th>\n",
       "      <td>False</td>\n",
       "      <td>True</td>\n",
       "      <td>False</td>\n",
       "      <td>True</td>\n",
       "      <td>True</td>\n",
       "      <td>9</td>\n",
       "      <td>True</td>\n",
       "      <td>True</td>\n",
       "      <td>65.6</td>\n",
       "      <td>False</td>\n",
       "      <td>...</td>\n",
       "      <td>True</td>\n",
       "      <td>False</td>\n",
       "      <td>True</td>\n",
       "      <td>True</td>\n",
       "      <td>False</td>\n",
       "      <td>True</td>\n",
       "      <td>False</td>\n",
       "      <td>False</td>\n",
       "      <td>False</td>\n",
       "      <td>True</td>\n",
       "    </tr>\n",
       "    <tr>\n",
       "      <th>1</th>\n",
       "      <td>False</td>\n",
       "      <td>False</td>\n",
       "      <td>False</td>\n",
       "      <td>False</td>\n",
       "      <td>False</td>\n",
       "      <td>9</td>\n",
       "      <td>True</td>\n",
       "      <td>False</td>\n",
       "      <td>59.9</td>\n",
       "      <td>True</td>\n",
       "      <td>...</td>\n",
       "      <td>False</td>\n",
       "      <td>False</td>\n",
       "      <td>False</td>\n",
       "      <td>False</td>\n",
       "      <td>True</td>\n",
       "      <td>False</td>\n",
       "      <td>False</td>\n",
       "      <td>False</td>\n",
       "      <td>False</td>\n",
       "      <td>True</td>\n",
       "    </tr>\n",
       "    <tr>\n",
       "      <th>2</th>\n",
       "      <td>True</td>\n",
       "      <td>False</td>\n",
       "      <td>False</td>\n",
       "      <td>False</td>\n",
       "      <td>False</td>\n",
       "      <td>4</td>\n",
       "      <td>True</td>\n",
       "      <td>True</td>\n",
       "      <td>73.9</td>\n",
       "      <td>False</td>\n",
       "      <td>...</td>\n",
       "      <td>False</td>\n",
       "      <td>True</td>\n",
       "      <td>False</td>\n",
       "      <td>False</td>\n",
       "      <td>False</td>\n",
       "      <td>False</td>\n",
       "      <td>False</td>\n",
       "      <td>False</td>\n",
       "      <td>True</td>\n",
       "      <td>False</td>\n",
       "    </tr>\n",
       "    <tr>\n",
       "      <th>3</th>\n",
       "      <td>True</td>\n",
       "      <td>False</td>\n",
       "      <td>True</td>\n",
       "      <td>True</td>\n",
       "      <td>False</td>\n",
       "      <td>13</td>\n",
       "      <td>True</td>\n",
       "      <td>True</td>\n",
       "      <td>98.0</td>\n",
       "      <td>False</td>\n",
       "      <td>...</td>\n",
       "      <td>True</td>\n",
       "      <td>True</td>\n",
       "      <td>False</td>\n",
       "      <td>True</td>\n",
       "      <td>True</td>\n",
       "      <td>False</td>\n",
       "      <td>False</td>\n",
       "      <td>False</td>\n",
       "      <td>True</td>\n",
       "      <td>False</td>\n",
       "    </tr>\n",
       "    <tr>\n",
       "      <th>4</th>\n",
       "      <td>True</td>\n",
       "      <td>True</td>\n",
       "      <td>True</td>\n",
       "      <td>True</td>\n",
       "      <td>False</td>\n",
       "      <td>3</td>\n",
       "      <td>True</td>\n",
       "      <td>True</td>\n",
       "      <td>83.9</td>\n",
       "      <td>False</td>\n",
       "      <td>...</td>\n",
       "      <td>False</td>\n",
       "      <td>False</td>\n",
       "      <td>True</td>\n",
       "      <td>True</td>\n",
       "      <td>False</td>\n",
       "      <td>False</td>\n",
       "      <td>False</td>\n",
       "      <td>False</td>\n",
       "      <td>False</td>\n",
       "      <td>True</td>\n",
       "    </tr>\n",
       "  </tbody>\n",
       "</table>\n",
       "<p>5 rows × 24 columns</p>\n",
       "</div>"
      ],
      "text/plain": [
       "   Cancelamento  Gênero  Idoso  Possui_Companheiro  Possui_Dependentes  \\\n",
       "0         False    True  False                True                True   \n",
       "1         False   False  False               False               False   \n",
       "2          True   False  False               False               False   \n",
       "3          True   False   True                True               False   \n",
       "4          True    True   True                True               False   \n",
       "\n",
       "   Meses_de_Contrato  Telefone_Ativo  Fatura_Digital  Valor_Mensal  \\\n",
       "0                  9            True            True          65.6   \n",
       "1                  9            True           False          59.9   \n",
       "2                  4            True            True          73.9   \n",
       "3                 13            True            True          98.0   \n",
       "4                  3            True            True          83.9   \n",
       "\n",
       "   Multiplas_Linhas_1  ...  Backup_Online_1  Protecao_Dispositivo_1  \\\n",
       "0               False  ...             True                   False   \n",
       "1                True  ...            False                   False   \n",
       "2               False  ...            False                    True   \n",
       "3               False  ...             True                    True   \n",
       "4               False  ...            False                   False   \n",
       "\n",
       "   Suporte_Tecnico_1  Streaming_TV_1  Streaming_Filmes_1  \\\n",
       "0               True            True               False   \n",
       "1              False           False                True   \n",
       "2              False           False               False   \n",
       "3              False            True                True   \n",
       "4               True            True               False   \n",
       "\n",
       "   Tipo_Contrato_One year  Tipo_Contrato_Two year  \\\n",
       "0                    True                   False   \n",
       "1                   False                   False   \n",
       "2                   False                   False   \n",
       "3                   False                   False   \n",
       "4                   False                   False   \n",
       "\n",
       "   Forma_Pagamento_Credit card (automatic)  Forma_Pagamento_Electronic check  \\\n",
       "0                                    False                             False   \n",
       "1                                    False                             False   \n",
       "2                                    False                              True   \n",
       "3                                    False                              True   \n",
       "4                                    False                             False   \n",
       "\n",
       "   Forma_Pagamento_Mailed check  \n",
       "0                          True  \n",
       "1                          True  \n",
       "2                         False  \n",
       "3                         False  \n",
       "4                          True  \n",
       "\n",
       "[5 rows x 24 columns]"
      ]
     },
     "execution_count": 12,
     "metadata": {},
     "output_type": "execute_result"
    }
   ],
   "source": [
    "def eliminar_colunas_redundantes(df: pd.DataFrame, colunas_remover: list, coluna_filtro: str, valor_indesejado: str) -> pd.DataFrame:\n",
    "    \"\"\"\n",
    "    Remove variáveis redundantes e registros com valores não informados.\n",
    "\n",
    "    Parâmetros:\n",
    "    - df: DataFrame de entrada\n",
    "    - colunas_remover: Lista de colunas a serem eliminadas por multicolinearidade\n",
    "    - coluna_filtro: Nome da variável usada como critério de exclusão\n",
    "    - valor_indesejado: Valor da variável que será filtrado\n",
    "\n",
    "    Retorna:\n",
    "    - DataFrame limpo e sem redundâncias\n",
    "    \"\"\"\n",
    "    df = df.drop(columns=colunas_remover, errors=\"ignore\")\n",
    "    df = df[df[coluna_filtro] != valor_indesejado]\n",
    "    return df\n",
    "\n",
    "# Aplicar limpeza\n",
    "colunas_correlacionadas = [\n",
    "    'Multiplas_Linhas_No phone service',\n",
    "    'Backup_Online_No internet service',\n",
    "    'Protecao_Dispositivo_No internet service',\n",
    "    'Suporte_Tecnico_No internet service',\n",
    "    'Streaming_TV_No internet service',\n",
    "    'Streaming_Filmes_No internet service'\n",
    "]\n",
    "\n",
    "dados = eliminar_colunas_redundantes(\n",
    "    df=dados,\n",
    "    colunas_remover=colunas_correlacionadas,\n",
    "    coluna_filtro=\"Cancelamento\",\n",
    "    valor_indesejado=\"Não informado\"\n",
    ")\n",
    "\n",
    "# Visualização da amostra dos dados limpos\n",
    "dados.head()\n"
   ]
  },
  {
   "cell_type": "code",
   "execution_count": 13,
   "metadata": {},
   "outputs": [],
   "source": [
    "from sklearn.model_selection import train_test_split\n",
    "\n",
    "def particionar_base(df: pd.DataFrame, alvo: str, proporcao_teste: float = 0.2, semente: int = 42):\n",
    "    \"\"\"\n",
    "    Realiza a separação da base em conjuntos de treino e teste.\n",
    "\n",
    "    Parâmetros:\n",
    "    - df: DataFrame com as variáveis\n",
    "    - alvo: nome da variável alvo (dependente)\n",
    "    - proporcao_teste: proporção de amostras para o conjunto de teste (default: 20%)\n",
    "    - semente: valor para reprodutibilidade da amostragem\n",
    "\n",
    "    Retorna:\n",
    "    - Tupla contendo (X_treino, X_teste, y_treino, y_teste)\n",
    "    \"\"\"\n",
    "    X = df.drop(columns=[alvo])\n",
    "    y = df[alvo]\n",
    "    return train_test_split(X, y, test_size=proporcao_teste, random_state=semente)\n",
    "\n",
    "# Aplicar divisão\n",
    "X_treino, X_teste, y_treino, y_teste = particionar_base(dados, alvo=\"Cancelamento\")\n"
   ]
  },
  {
   "cell_type": "code",
   "execution_count": 14,
   "metadata": {},
   "outputs": [],
   "source": [
    "from imblearn.over_sampling import RandomOverSampler\n",
    "\n",
    "def aplicar_oversampling(X: pd.DataFrame, y: pd.Series, semente: int = 42):\n",
    "    \"\"\"\n",
    "    Aplica sobremostragem aleatória para balancear as classes no conjunto de treino.\n",
    "\n",
    "    Parâmetros:\n",
    "    - X: DataFrame de variáveis preditoras\n",
    "    - y: Série da variável alvo\n",
    "    - semente: random_state para reprodutibilidade\n",
    "\n",
    "    Retorna:\n",
    "    - Tupla (X_balanceado, y_balanceado)\n",
    "    \"\"\"\n",
    "    ros = RandomOverSampler(random_state=semente)\n",
    "    return ros.fit_resample(X, y)\n",
    "\n",
    "# Aplicar técnica de oversampling\n",
    "X_treino_res, y_treino_res = aplicar_oversampling(X_treino, y_treino)\n"
   ]
  },
  {
   "cell_type": "markdown",
   "metadata": {
    "id": "H2IRq5FdfViJ"
   },
   "source": [
    "## 🎯 <b><font color=\"salmon\">Análise Univariada da Variável Alvo</font></b>\n",
    "\n",
    "A variável `Cancelamento` representa a classe alvo da modelagem preditiva, indicando se o cliente encerrou ou não os serviços contratados. A análise de sua distribuição é essencial para a compreensão da proporção de evasão na base de dados, bem como para orientar estratégias de balanceamento de classes.\n"
   ]
  },
  {
   "cell_type": "code",
   "execution_count": 15,
   "metadata": {
    "colab": {
     "base_uri": "https://localhost:8080/",
     "height": 859
    },
    "id": "7Qkd89jW2bDr",
    "outputId": "aa74d4fc-da54-4f69-d5e9-989011bf203f"
   },
   "outputs": [
    {
     "data": {
      "image/png": "[encoded data removed]",
      "text/plain": [
       "<Figure size 1000x600 with 1 Axes>"
      ]
     },
     "metadata": {},
     "output_type": "display_data"
    },
    {
     "name": "stdout",
     "output_type": "stream",
     "text": [
      "\n",
      "FREQUÊNCIA ABSOLUTA:\n",
      "------------------------------\n",
      "Cancelamento\n",
      "False    5163\n",
      "True     1869\n",
      "Name: count, dtype: int64\n",
      "\n",
      "PROPORÇÃO RELATIVA (%):\n",
      "------------------------------\n",
      "Cancelamento\n",
      "False    73.421502\n",
      "True     26.578498\n",
      "Name: proportion, dtype: float64\n"
     ]
    }
   ],
   "source": [
    "# Cálculo da frequência absoluta e da proporção percentual da variável alvo (Cancelamento)\n",
    "frequencia = dados['Cancelamento'].value_counts()\n",
    "proporcao = dados['Cancelamento'].value_counts(normalize=True) * 100\n",
    "\n",
    "# Visualização da distribuição por meio de gráfico de barras\n",
    "plt.figure(figsize=(10, 6))\n",
    "sns.barplot(\n",
    "    x=proporcao.index,\n",
    "    y=proporcao.values,\n",
    "    hue=proporcao.index,\n",
    "    palette='colorblind',\n",
    "    legend=False\n",
    ")\n",
    "plt.ylabel('Proporção (%)')\n",
    "plt.title('Distribuição Proporcional da Evasão de Clientes')\n",
    "plt.show()\n",
    "\n",
    "# Impressão estruturada dos resultados numéricos\n",
    "print(\"\\nFREQUÊNCIA ABSOLUTA:\")\n",
    "print(\"-\" * 30)\n",
    "print(frequencia)\n",
    "\n",
    "print(\"\\nPROPORÇÃO RELATIVA (%):\")\n",
    "print(\"-\" * 30)\n",
    "print(proporcao)\n",
    "\n",
    "\n"
   ]
  },
  {
   "cell_type": "markdown",
   "metadata": {
    "id": "5S4AIwb5G0yC"
   },
   "source": [
    "###📌 Após rodar seu código, veja:\n",
    "\n",
    "\n",
    " - **Equilíbrio**: Quando as classes estão próximas de 50% / 50%.\n",
    "\n",
    " - **Gerenciável quando próximo de 70% / 30%** .Se 70% dos clientes permaneceram e 30% cancelaram, ainda é possível treinar bons modelos com técnicas de balanceamento\n",
    "\n",
    " - **Desequilíbrio forte**: Quando uma classe tem 80% ou mais dos registros (ex: 80% \"Não\" e 20% \"Sim\"), o modelo pode ignorar a classe minoritária, e será importante:\n",
    "\n",
    "  - Aplicar técnicas de balanceamento (como oversampling com SMOTE, undersampling, etc.);\n",
    "\n",
    "  - Escolher métricas apropriadas (como f1-score, recall, AUC) — e não apenas acurácia."
   ]
  },
  {
   "cell_type": "markdown",
   "metadata": {
    "id": "aNx6UeO55h0a"
   },
   "source": [
    "## 🎯 <b><font color=\"salmon\">Balanceamento de Classes</font></b>\n",
    "\n",
    "Para aprofundar a análise, foi aplicado técnicas de balanceamento como **undersampling** , **oversampling** e **SMOTE**. Em situações de forte desbalanceamento, ferramentas como o **SMOTE** podem ser úteis para gerar exemplos sintéticos da classe minoritária."
   ]
  },
  {
   "cell_type": "markdown",
   "metadata": {},
   "source": [
    "## Separação das Variáveis Explicativas e da Variável Alvo\n",
    "\n",
    "Nesta etapa, realiza-se a distinção entre as variáveis preditoras (`X`) e a variável de resposta (`y`). Essa separação é imprescindível para o treinamento supervisionado dos modelos, onde `X` representa os atributos independentes e `y` representa a variável dependente (cancelamento).\n"
   ]
  },
  {
   "cell_type": "code",
   "execution_count": 16,
   "metadata": {
    "id": "atkfOjqb26xM"
   },
   "outputs": [],
   "source": [
    "# Definição das variáveis independentes (X) e da variável dependente (y)\n",
    "X = dados.drop(columns=['Cancelamento'])\n",
    "y = dados['Cancelamento']\n"
   ]
  },
  {
   "cell_type": "markdown",
   "metadata": {},
   "source": [
    "## Balanceamento de Classes com Sobreamostragem Aleatória\n",
    "\n",
    "Para mitigar o viés de classificação resultante da desproporção entre as classes da variável alvo, foi aplicado o método de *Random OverSampling*. Essa técnica consiste na duplicação aleatória de registros da classe minoritária, promovendo o balanceamento do conjunto de dados antes do treinamento do modelo.\n"
   ]
  },
  {
   "cell_type": "code",
   "execution_count": 17,
   "metadata": {
    "colab": {
     "base_uri": "https://localhost:8080/"
    },
    "id": "sejMzLLdmh77",
    "outputId": "5384c348-5d0b-4d76-c8a6-7e109c66368b"
   },
   "outputs": [
    {
     "name": "stdout",
     "output_type": "stream",
     "text": [
      "📊 DISTRIBUIÇÃO DA VARIÁVEL ALVO APÓS OVERSAMPLING:\n",
      "---------------------------------------------\n",
      "Cancelamento\n",
      "False    5163\n",
      "True     5163\n",
      "Name: count, dtype: int64\n"
     ]
    }
   ],
   "source": [
    "from imblearn.over_sampling import RandomOverSampler\n",
    "\n",
    "# Instanciação do balanceador para correção da desproporção entre as classes\n",
    "ros = RandomOverSampler(random_state=42)\n",
    "\n",
    "# Aplicação do oversampling ao conjunto original\n",
    "X_res, y_res = ros.fit_resample(X, y)\n",
    "\n",
    "# Verificação da nova distribuição da variável resposta após balanceamento\n",
    "print(\"📊 DISTRIBUIÇÃO DA VARIÁVEL ALVO APÓS OVERSAMPLING:\")\n",
    "print(\"-\" * 45)\n",
    "print(pd.Series(y_res).value_counts())\n",
    "\n"
   ]
  },
  {
   "cell_type": "markdown",
   "metadata": {},
   "source": [
    "## Redução da Classe Majoritária com Undersampling Aleatório\n",
    "\n",
    "O método de *Random UnderSampling* foi utilizado para reduzir o número de amostras da classe majoritária, promovendo o balanceamento da variável resposta. Esta abordagem consiste na remoção aleatória de observações da classe dominante, com o objetivo de equilibrar a distribuição das classes sem a ger\n"
   ]
  },
  {
   "cell_type": "code",
   "execution_count": 18,
   "metadata": {
    "colab": {
     "base_uri": "https://localhost:8080/"
    },
    "id": "cPHoW7_6mhwe",
    "outputId": "175fb975-b313-4322-f94b-6a69d403d1a6"
   },
   "outputs": [
    {
     "name": "stdout",
     "output_type": "stream",
     "text": [
      "📉 DISTRIBUIÇÃO DA VARIÁVEL ALVO APÓS UNDERSAMPLING:\n",
      "---------------------------------------------\n",
      "Cancelamento\n",
      "False    1869\n",
      "True     1869\n",
      "Name: count, dtype: int64\n"
     ]
    }
   ],
   "source": [
    "from imblearn.under_sampling import RandomUnderSampler\n",
    "\n",
    "# Instanciação do algoritmo de undersampling\n",
    "rus = RandomUnderSampler(random_state=42)\n",
    "\n",
    "# Aplicação da técnica ao conjunto original\n",
    "X_res, y_res = rus.fit_resample(X, y)\n",
    "\n",
    "# Exibição da distribuição da variável alvo após balanceamento\n",
    "print(\"📉 DISTRIBUIÇÃO DA VARIÁVEL ALVO APÓS UNDERSAMPLING:\")\n",
    "print(\"-\" * 45)\n",
    "print(pd.Series(y_res).value_counts())\n",
    "\n"
   ]
  },
  {
   "cell_type": "markdown",
   "metadata": {},
   "source": [
    "## Balanceamento com Geração de Exemplos Sintéticos (SMOTE)\n",
    "\n",
    "A técnica *Synthetic Minority Over-sampling Technique (SMOTE)* foi aplicada para balancear a variável resposta. Ao contrário do *oversampling* aleatório, o\n"
   ]
  },
  {
   "cell_type": "code",
   "execution_count": 19,
   "metadata": {
    "colab": {
     "base_uri": "https://localhost:8080/"
    },
    "id": "Kg4ss4pOj5P9",
    "outputId": "1a1fde43-b279-449f-8944-f9479fd99902"
   },
   "outputs": [
    {
     "name": "stdout",
     "output_type": "stream",
     "text": [
      "🧬 DISTRIBUIÇÃO APÓS APLICAÇÃO DO SMOTE:\n",
      "---------------------------------------------\n",
      "Cancelamento\n",
      "False    5163\n",
      "True     5163\n",
      "Name: count, dtype: int64\n"
     ]
    }
   ],
   "source": [
    "from imblearn.over_sampling import SMOTE\n",
    "\n",
    "# Instanciação do gerador de amostras sintéticas\n",
    "smote = SMOTE(random_state=42)\n",
    "\n",
    "# Aplicação do SMOTE ao conjunto original\n",
    "X_res, y_res = smote.fit_resample(X, y)\n",
    "\n",
    "# Exibição da nova distribuição da variável alvo\n",
    "print(\"🧬 DISTRIBUIÇÃO APÓS APLICAÇÃO DO SMOTE:\")\n",
    "print(\"-\" * 45)\n",
    "print(pd.Series(y_res).value_counts())\n",
    "\n",
    "\n"
   ]
  },
  {
   "cell_type": "markdown",
   "metadata": {
    "id": "NQYexuCTOf1P"
   },
   "source": [
    "### 🧪 Balanceamento da Variável Alvo\n",
    "\n",
    "Antes da etapa de modelagem, foi realizada a inspeção da distribuição da variável alvo `Cancelamento`, que indica se um cliente **encerrou** (1) ou **manteve** (0) seu vínculo contratual com a operadora. Observou-se um desbalanceamento entre as classes, o que comprometeria a capacidade discriminativa dos algoritmos supervisionados, sobretudo na identificação de eventos de evasão, que constituem a classe minoritária.\n",
    "\n",
    "Com o intuito de mitigar tal viés amostral, foram aplicadas e avaliadas três técnicas clássicas de balanceamento:\n",
    "\n",
    "- **Random OverSampling (`RandomOverSampler`)**: Replica instâncias da classe minoritária para equilibrar a frequência entre as classes.\n",
    "- **Random UnderSampling (`RandomUnderSampler`)**: Reduz aleatoriamente o número de amostras da classe majoritária, removendo observações.\n",
    "- **SMOTE (Synthetic Minority Over-sampling Technique)**: Gera amostras sintéticas da classe minoritária por interpolação entre vizinhos mais próximos, promovendo diversidade amostral sem perda de dados.\n",
    "\n",
    "Após a análise da nova distribuição das classes e considerando o compromisso entre complexidade computacional e preservação informacional, optou-se pelo uso do **SMOTE**. Essa abordagem foi considerada mais apropriada por manter o conjunto original intacto e reduzir o risco de *overfitting*, comum em métodos de duplicação direta.\n",
    "\n",
    "As amostras balanceadas obtidas por SMOTE foram utilizadas para o treinamento dos modelos preditivos, cuja avaliação será conduzida por meio de métricas específicas de classificação, como **precisão**, **sensibilidade (recall)**, **pontuação F1** e **matriz de confusão**, detalhadas nas seções subsequentes.\n",
    "\n"
   ]
  },
  {
   "cell_type": "markdown",
   "metadata": {
    "id": "4JEQNT-tG1WC"
   },
   "source": [
    "## 🎯 Normalização e Padronização das Variáveis (Quando Aplicável)\n",
    "\n",
    "A necessidade de normalização ou padronização das variáveis foi considerada com base nos algoritmos preditivos a serem empregados. Modelos que utilizam distância euclidiana como critério de decisão — tais como **K-Nearest Neighbors (KNN)**, **Support Vector Machines (SVM)**, **Regressão Logística** e **Redes Neurais Artificiais** — demandam que os atributos estejam em escalas comparáveis para garantir desempenho e estabilidade numérica.\n",
    "\n",
    "Em contrapartida, algoritmos baseados em particionamento por regras de decisão, como **Árvores de Decisão (Decision Trees)**, **Random Forests** e **XGBoost**, são invariantes à escala das variáveis e, portanto, não exigem tal pré-processamento.\n",
    "\n",
    "A aplicação da transformação de escala será executada de forma seletiva, conforme o modelo em uso. Técnicas como **StandardScaler** (padronização com média zero e desvio padrão unitário) ou **MinMaxScaler** (normalização para um intervalo [0,1]) serão adotadas quando apropriado.\n"
   ]
  },
  {
   "cell_type": "markdown",
   "metadata": {},
   "source": [
    "## 🔄 Padronização das Variáveis Numéricas\n",
    "\n",
    "Com base na avaliação da sensibilidade dos modelos em relação à escala das variáveis, procedeu-se à **padronização (standardization)** das variáveis contínuas `Meses_de_Contrato` e `Valor_Mensal`. Essa transformação consiste em reescalar os dados para uma distribuição com **média zero** e **desvio padrão unitário**, utilizando o algoritmo `StandardScaler`, do módulo `sklearn.preprocessing`.\n",
    "\n",
    "Esse procedimento é essencial para garantir o adequado funcionamento de algoritmos baseados em distância, tais como Regressão Logística, KNN, SVM e Redes Neurais, evitando que atributos com magnitudes distintas influenciem de forma desproporcional o modelo.\n"
   ]
  },
  {
   "cell_type": "code",
   "execution_count": 20,
   "metadata": {
    "id": "jl18F09lpKOl"
   },
   "outputs": [],
   "source": [
    "from sklearn.model_selection import train_test_split\n",
    "from sklearn.preprocessing import StandardScaler\n",
    "\n",
    "# Separação entre preditores (X) e variável alvo (y)\n",
    "X = dados.drop(columns=['Cancelamento'])\n",
    "y = dados['Cancelamento']\n",
    "\n",
    "# Particionamento estratificado entre treino e teste (80/20)\n",
    "X_train, X_test, y_train, y_test = train_test_split(\n",
    "    X, y, test_size=0.2, random_state=42, stratify=y\n",
    ")\n",
    "\n",
    "# Identificação das variáveis contínuas que requerem padronização\n",
    "colunas_numericas = ['Meses_de_Contrato', 'Valor_Mensal']\n",
    "\n",
    "# Cópias dos conjuntos de treino e teste para aplicação do scaler\n",
    "X_train_scaled = X_train.copy()\n",
    "X_test_scaled = X_test.copy()\n",
    "\n",
    "# Aplicação do StandardScaler exclusivamente nas colunas numéricas\n",
    "scaler = StandardScaler()\n",
    "X_train_scaled[colunas_numericas] = scaler.fit_transform(X_train[colunas_numericas])\n",
    "X_test_scaled[colunas_numericas] = scaler.transform(X_test[colunas_numericas])\n",
    "\n",
    "# Os conjuntos X_train_scaled e X_test_scaled estão prontos para modelos sensíveis à escala\n",
    "\n"
   ]
  },
  {
   "cell_type": "markdown",
   "metadata": {
    "id": "5AHJ9BRqPwnz"
   },
   "source": [
    "### ⚙️ Padronização Estatística das Variáveis Numéricas\n",
    "\n",
    "Como etapa integrante do pré-processamento dos dados, procedeu-se à **padronização estatística** dos atributos contínuos mediante a aplicação do algoritmo `StandardScaler`, o qual transforma as variáveis para uma distribuição com **média zero** e **desvio padrão unitário**.\n",
    "\n",
    "Esta transformação é essencial para algoritmos de aprendizado supervisionado cuja performance é influenciada pela escala das variáveis, notadamente:\n",
    "\n",
    "- **K-Nearest Neighbors (KNN)**\n",
    "- **Support Vector Machines (SVM)**\n",
    "- **Regressão Logística**\n",
    "- **Redes Neurais Artificiais (RNA)**\n",
    "\n",
    "A padronização foi aplicada **exclusivamente após o balanceamento das classes e a divisão dos dados em treino e teste**, assegurando que os parâmetros estatísticos utilizados (média e desvio padrão) fossem extraídos unicamente do conjunto de treinamento. Esta prática evita o fen\n",
    "\n"
   ]
  },
  {
   "cell_type": "markdown",
   "metadata": {
    "id": "6XnTC2NTmMRL"
   },
   "source": [
    "# 📊 <b><font color=\"salmon\" size=\"6\">CORRELAÇÃO E SELEÇÃO DE VARIÁVEIS</font></b>\n",
    "\n"
   ]
  },
  {
   "cell_type": "markdown",
   "metadata": {
    "id": "L2M7m6l-3lPT"
   },
   "source": [
    "## 🎯 Análise de Correlação entre Variáveis Numéricas\n",
    "\n",
    "A matriz de correlação de Pearson foi utilizada para quantificar o grau de associação linear entre as variáveis numéricas do conjunto de dados. Essa análise permite identificar atributos que apresentam colinearidade elevada entre si, o que pode impactar negativamente algoritmos sensíveis à redundância de informações.\n",
    "\n",
    "Além disso, a correlação entre as variáveis preditoras e a variável alvo `Cancelamento` fornece uma estimativa preliminar do potencial informativo de cada atributo em relação à evasão de clientes. Variáveis com correlação absoluta elevada com a classe alvo tendem a ser bons candidatos para inclusão nos modelos preditivos supervisionados.\n",
    "\n",
    "É importante ressaltar que a correlação não implica causalidade, sendo apenas um indicativo de dependência linear entre os atributos.\n"
   ]
  },
  {
   "cell_type": "markdown",
   "metadata": {},
   "source": [
    "## 🔗 Matriz de Correlação e Relação com a Evasão de Clientes\n",
    "\n",
    "Foi conduzida uma análise de correlação entre as variáveis numéricas do conjunto de dados por meio do coeficiente de correlação de Pearson, que quantifica a força e a direção da associação linear entre os atributos.\n",
    "\n",
    "A matriz de correlação fornece subsídios para:\n",
    "- Detectar **colinearidade** entre preditores, o que pode afetar algoritmos como regressão logística.\n",
    "- Identificar variáveis com **forte associação à variável alvo (`Cancelamento`)**, sugerindo seu potencial preditivo.\n",
    "\n",
    "A visualização gráfica foi realizada com `heatmap` de alta resolução, destacando os coeficientes de correlação. Posteriormente, os atributos mais correlacionados com a evasão foram ranqueados de forma decrescente.\n"
   ]
  },
  {
   "cell_type": "code",
   "execution_count": 21,
   "metadata": {
    "colab": {
     "base_uri": "https://localhost:8080/",
     "height": 699
    },
    "id": "50gTdgwl38MI",
    "outputId": "eff2b35e-79be-4ed3-a443-8d302b71eda6"
   },
   "outputs": [
    {
     "data": {
      "image/png": "[encoded data removed]",
      "text/plain": [
       "<Figure size 1000x800 with 2 Axes>"
      ]
     },
     "metadata": {},
     "output_type": "display_data"
    }
   ],
   "source": [
    "# Identificação automática das variáveis numéricas\n",
    "colunas_numericas = dados.select_dtypes(include=['int64', 'float64']).columns.tolist()\n",
    "\n",
    "# Inclusão explícita da variável alvo, caso tenha sido convertida anteriormente\n",
    "if 'Cancelamento' not in colunas_numericas:\n",
    "    colunas_numericas.append('Cancelamento')\n",
    "\n",
    "# Subconjunto com apenas variáveis numéricas\n",
    "dados_numericos = dados[colunas_numericas]\n",
    "\n",
    "# Cálculo da matriz de correlação de Pearson\n",
    "matriz_correlacao = dados_numericos.corr()\n",
    "\n",
    "# Visualização gráfica da matriz de correlação\n",
    "plt.figure(figsize=(10, 8))\n",
    "sns.heatmap(matriz_correlacao, annot=True, cmap='coolwarm', fmt=\".2f\", square=True)\n",
    "plt.title('Matriz de Correlação entre Variáveis Numéricas')\n",
    "plt.show()\n",
    "\n",
    "# Extração da correlação entre os atributos e a variável alvo (Cancelamento)\n",
    "correlacao_com_alvo = matriz_correlacao['Cancelamento'].drop('Cancelamento').sort_values(ascending=False)\n",
    "\n"
   ]
  },
  {
   "cell_type": "markdown",
   "metadata": {
    "id": "kSepgLNcRsy0"
   },
   "source": [
    "### 🔍 Análise de Correlação com a Variável Alvo\n",
    "\n",
    "Foi aplicada a matriz de correlação de Pearson com o objetivo de identificar relações lineares entre as variáveis numéricas contínuas e a variável-alvo `Cancelamento`. Essa análise auxilia na detecção de atributos com potencial informativo para os modelos preditivos.\n",
    "\n",
    "O conjunto de dados apresenta majoritariamente variáveis binárias (dummies), oriundas da transformação de atributos categóricos por codificação *one-hot encoding*. Dessa forma, a matriz de correlação tradicional destacou apenas duas variáveis numéricas contínuas: `Meses_de_Contrato` e `Valor_Mensal`.\n",
    "\n",
    "Para complementar a análise, foram extraídos os coeficientes de correlação entre essas variáveis e a variável-alvo. Os principais resultados foram:\n",
    "\n",
    "- A **correlação entre `Meses_de_Contrato` e `Valor_Mensal` é fraca (r ≈ 0.25)**, indicando baixa associação linear entre o tempo de permanência e o valor pago mensalmente.\n",
    "- A **correlação entre `Meses_de_Contrato` e `Cancelamento` também é fraca (r ≈ 0.35)**, sugerindo que o tempo de contrato tem influência limitada sobre a evasão.\n",
    "- A **correlação entre `Valor_Mensal` e `Cancelamento` é ainda mais fraca (r ≈ 0.19)**, o que pode indicar que o valor da mensalidade isoladamente não é um preditor decisivo de cancelamento.\n",
    "\n",
    "🔎 *Tais resultados indicam a ausência de uma dependência linear forte entre essas variáveis e a evasão, o que reforça a necessidade do uso de modelos não-lineares ou técnicas multivariadas para melhor captura de padrões.*\n"
   ]
  },
  {
   "cell_type": "markdown",
   "metadata": {
    "id": "a-R6cVkTYdh8"
   },
   "source": [
    "## 🎯 Análises Direcionadas por Variável Numérica\n",
    "\n",
    "Nesta etapa, foram conduzidas análises exploratórias direcionadas com foco em duas variáveis contínuas de relevância: **`Meses_de_Contrato`** e **`Valor_Mensal`**. O objetivo foi investigar padrões diferenciais de distribuição dessas variáveis em função da variável-alvo **`Cancelamento`**, que representa a evasão dos clientes.\n",
    "\n",
    "Tais análises permitem identificar variações no comportamento dos atributos conforme a classe de saída, fornecendo indícios iniciais de possíveis relações não-lineares ou interações relevantes para a modelagem preditiva supervisionada.\n"
   ]
  },
  {
   "cell_type": "markdown",
   "metadata": {},
   "source": [
    "## 📊 Análise Comparativa Direcionada: Tempo de Contrato e Valor Mensal\n",
    "\n",
    "Nesta etapa, foram geradas visualizações comparativas entre as variáveis contínuas `Meses_de_Contrato` e `Valor_Mensal` em relação à variável alvo `Cancelamento`. Os gráficos utilizados foram:\n",
    "\n",
    "- **Boxplot** para análise da distribuição do tempo de permanência contratual por classe de evasão;\n",
    "- **Stripplot** para visualização da dispersão dos valores mensais pagos por clientes que cancelaram ou permaneceram.\n",
    "\n",
    "Tais representações gráficas permitem identificar padrões de concentração, presença de outliers e possíveis diferenciais entre os grupos, contribuindo para a compreensão do comportamento de evasão em função dessas variáveis quantitativas.\n"
   ]
  },
  {
   "cell_type": "code",
   "execution_count": 22,
   "metadata": {
    "colab": {
     "base_uri": "https://localhost:8080/",
     "height": 607
    },
    "id": "OCh1OypZuPRk",
    "outputId": "43385830-5cda-412c-9ff1-dc95765e67d7"
   },
   "outputs": [
    {
     "data": {
      "image/png": "[encoded data removed]",
      "text/plain": [
       "<Figure size 1400x600 with 2 Axes>"
      ]
     },
     "metadata": {},
     "output_type": "display_data"
    }
   ],
   "source": [
    "\n",
    "fig, axes = plt.subplots(1, 2, figsize=(14, 6))  # Criação da grade de subplots\n",
    "\n",
    "# Gráfico de boxplot: comparação da mediana e dispersão do tempo de contrato entre as classes de cancelamento\n",
    "sns.boxplot(\n",
    "    ax=axes[0],\n",
    "    x='Cancelamento',\n",
    "    y='Meses_de_Contrato',\n",
    "    hue='Cancelamento',\n",
    "    palette='coolwarm',\n",
    "    data=dados,\n",
    "    legend=False\n",
    ")\n",
    "axes[0].set_title('Distribuição do Tempo de Contrato por Evasão', fontsize=12)\n",
    "axes[0].set_ylabel('Meses de Contrato')\n",
    "\n",
    "# Gráfico de stripplot: visualização da dispersão do valor mensal por classe de cancelamento\n",
    "sns.stripplot(\n",
    "    ax=axes[1],\n",
    "    x='Cancelamento',\n",
    "    y='Valor_Mensal',\n",
    "    hue='Cancelamento',\n",
    "    jitter=True,\n",
    "    alpha=0.5,\n",
    "    data=dados,\n",
    "    legend=False\n",
    ")\n",
    "axes[1].set_title('Dispersão do Valor Mensal por Evasão', fontsize=12)\n",
    "axes[1].set_ylabel('Valor Mensal')\n",
    "\n",
    "# Ajustes estéticos de layout\n",
    "plt.tight_layout()\n",
    "plt.subplots_adjust(hspace=0.5, wspace=0.3)\n",
    "plt.show()\n"
   ]
  },
  {
   "cell_type": "markdown",
   "metadata": {
    "id": "4APQrI7Waui4"
   },
   "source": [
    "### 🎯 Análise Direcionada: Associação entre Variáveis Quantitativas e Evasão\n",
    "\n",
    "Nesta seção, são apresentadas análises direcionadas com base em duas variáveis contínuas — `Meses_de_Contrato` e `Valor_Mensal` — em relação à variável de interesse `Cancelamento`. As visualizações gráficas permitem observar padrões de comportamento diferenciados entre os clientes que permaneceram ativos e os que cancelaram seus contratos.\n",
    "\n",
    "---\n",
    "\n",
    "#### 📊 Gráfico 1 — Boxplot: Tempo de Contrato por Classe de Cancelamento\n",
    "\n",
    "O boxplot exibe a distribuição do número de meses de contrato para os dois grupos de clientes (ativos e evadidos):\n",
    "\n",
    "- A linha central de cada caixa representa a mediana do tempo de contrato;\n",
    "- Os limites das caixas correspondem ao intervalo interquartil (IQR), ou seja, 50% central dos dados;\n",
    "- Os pontos isolados representam outliers — contratos com duração atípica.\n",
    "\n",
    "**📌 Interpretação técnica:**  \n",
    "Verifica-se que clientes evadidos apresentam, em média, menor tempo de contrato quando comparados aos clientes que permaneceram. Essa evidência sugere que a evasão ocorre com maior frequência nos estágios iniciais do vínculo contratual.\n",
    "\n",
    "---\n",
    "\n",
    "#### 📊 Gráfico 2 — Stripplot: Valor Mensal por Classe de Cancelamento\n",
    "\n",
    "O stripplot apresenta a dispersão individual do valor da mensalidade paga por cliente, estratificada por classe da variável `Cancelamento`:\n",
    "\n",
    "- Cada ponto representa um indivíduo da amostra;\n",
    "- A dispersão horizontal (via `jitter`) é utilizada para mitigar sobreposição visual e destacar densidades locais.\n",
    "\n",
    "**📌 Interpretação técnica:**  \n",
    "Observa-se uma maior concentração de valores mensais elevados entre os clientes que optaram pelo cancelamento, sugerindo uma possível associação entre preços mais altos e propensão à evasão. Embora a sobreposição seja significativa, o padrão visual reforça essa hipótese.\n",
    "\n",
    "---\n",
    "\n",
    "As análises acima reforçam a importância do tempo de contrato e do valor mensal como potenciais preditores da evasão de clientes, contribuindo para o entendimento de padrões comportamentais que podem subsidiar estratégias de retenção.\n"
   ]
  },
  {
   "cell_type": "markdown",
   "metadata": {
    "id": "qgazSmjdcTQv"
   },
   "source": [
    "# 🤖 <b><font color=\"salmon\" size=\"6\">MODELAGEM PREVENTIVA</font></b>"
   ]
  },
  {
   "cell_type": "markdown",
   "metadata": {
    "id": "Mg2-go5O4HpK"
   },
   "source": [
    "## 🎯 Particionamento do Conjunto de Dados\n",
    "\n",
    "Para a construção e validação dos modelos preditivos, foi adotada a estratégia de particionamento do conjunto de dados em dois subconjuntos:\n",
    "\n",
    "- **Conjunto de Treinamento (80%)**: Utilizado para o ajuste dos parâmetros dos algoritmos supervisionados.\n",
    "- **Conjunto de Teste (20%)**: Reservado exclusivamente para a avaliação do desempenho dos modelos em dados não vistos durante o treinamento.\n",
    "\n",
    "A proporção 80/20 é amplamente utilizada em cenários com amostras de tamanho moderado, pois oferece um bom equilíbrio entre capacidade de aprendizado e robustez na validação. O particionamento foi realizado de forma **estratificada** com base na variável-alvo `Cancelamento`, garantindo que a proporção entre as classes seja preservada em ambos os subconjuntos.\n"
   ]
  },
  {
   "cell_type": "code",
   "execution_count": 23,
   "metadata": {
    "id": "GyOUmV7T4QNm"
   },
   "outputs": [],
   "source": [
    "from sklearn.model_selection import train_test_split\n",
    "\n",
    "# Particionamento estratificado dos dados em treinamento (80%) e teste (20%)\n",
    "# A estratificação garante a preservação da proporção das classes da variável-alvo em ambos os subconjuntos\n",
    "\n",
    "X_train, X_test, y_train, y_test = train_test_split(\n",
    "    X,\n",
    "    y,\n",
    "    test_size=0.2,\n",
    "    random_state=42,\n",
    "    stratify=y  # Mantém proporção das classes de 'Cancelamento'\n",
    ")\n"
   ]
  },
  {
   "cell_type": "markdown",
   "metadata": {
    "id": "qVbRZa7yGW7U"
   },
   "source": [
    "## 🎯 Construção e Treinamento dos Modelos Preditivos\n",
    "\n",
    "Foram desenvolvidos e avaliados quatro algoritmos de aprendizado supervisionado com o objetivo de prever a evasão de clientes com base nas variáveis preditoras disponíveis:\n",
    "\n",
    "- **Regressão Logística**  \n",
    "- **K-Nearest Neighbors (KNN)**  \n",
    "- **Árvore de Decisão (Decision Tree Classifier)**  \n",
    "- **Random Forest Classifier**\n",
    "\n",
    "Os dois primeiros modelos — *Regressão Logística* e *KNN* — são sensíveis à escala dos dados e, portanto, foram treinados utilizando o conjunto de variáveis previamente **padronizado** (`X_train_scaled` e `X_test_scaled`).\n",
    "\n",
    "Os modelos baseados em árvores — *Árvore de Decisão* e *Random Forest* — são invariantes à escala das variáveis, sendo assim treinados diretamente com os dados **não padronizados** (`X_train` e `X_test`).\n",
    "\n",
    "A aplicação de diferentes paradigmas de modelagem permite uma comparação abrangente de desempenho e robustez, contemplando tanto modelos lineares quanto não lineares.\n"
   ]
  },
  {
   "cell_type": "markdown",
   "metadata": {},
   "source": [
    "## 🤖 Modelo 1: Regressão Logística\n",
    "\n",
    "A Regressão Logística foi utilizada como modelo linear de classificação binária, apropriada para prever a probabilidade de evasão com base em variáveis independentes. Devido à sensibilidade deste algoritmo à escala dos dados, aplicou-se a padronização (`StandardScaler`) previamente à modelagem.\n",
    "\n",
    "O modelo foi ajustado com o conjunto de treinamento padronizado e avaliado com base em métricas clássicas de desempenho, incluindo **acurácia**, **precisão**, **revocação (recall)**, **pontuação F1** e **matriz de confusão**.\n"
   ]
  },
  {
   "cell_type": "code",
   "execution_count": 24,
   "metadata": {
    "colab": {
     "base_uri": "https://localhost:8080/"
    },
    "id": "YAeH_2hV4grD",
    "outputId": "79c55e98-f0d8-4224-e165-8ac695304ef2"
   },
   "outputs": [
    {
     "name": "stdout",
     "output_type": "stream",
     "text": [
      "🔍 REGRESSÃO LOGÍSTICA\n",
      "-----------------------\n",
      "[[930 103]\n",
      " [179 195]]\n",
      "              precision    recall  f1-score   support\n",
      "\n",
      "       False       0.84      0.90      0.87      1033\n",
      "        True       0.65      0.52      0.58       374\n",
      "\n",
      "    accuracy                           0.80      1407\n",
      "   macro avg       0.75      0.71      0.72      1407\n",
      "weighted avg       0.79      0.80      0.79      1407\n",
      "\n"
     ]
    }
   ],
   "source": [
    "from sklearn.linear_model import LogisticRegression\n",
    "from sklearn.metrics import classification_report, confusion_matrix\n",
    "from sklearn.preprocessing import StandardScaler\n",
    "\n",
    "# Padronização dos dados exclusivamente para o modelo de Regressão Logística\n",
    "scaler = StandardScaler()\n",
    "X_train_norm = scaler.fit_transform(X_train)\n",
    "X_test_norm = scaler.transform(X_test)\n",
    "\n",
    "# Instanciação e treinamento do modelo\n",
    "modelo_log = LogisticRegression()\n",
    "modelo_log.fit(X_train_norm, y_train)\n",
    "\n",
    "# Geração de previsões\n",
    "y_pred_log = modelo_log.predict(X_test_norm)\n",
    "\n",
    "# Avaliação do desempenho preditivo\n",
    "print(\"🔍 REGRESSÃO LOGÍSTICA\")\n",
    "print(\"-\" * 23)\n",
    "print(confusion_matrix(y_test, y_pred_log))               # Matriz de confusão\n",
    "print(classification_report(y_test, y_pred_log))          # Métricas de classificação\n",
    "\n"
   ]
  },
  {
   "cell_type": "markdown",
   "metadata": {},
   "source": [
    "## 🌳 Modelo 2: Random Forest Classifier\n",
    "\n",
    "O segundo modelo empregado foi o **Random Forest**, um algoritmo de aprendizado supervisionado do tipo *ensemble*, baseado na construção de múltiplas árvores de decisão.\n",
    "\n",
    "Por não ser sensível à escala dos dados, o modelo foi treinado com os dados originais (não padronizados). O `RandomForestClassifier` oferece vantagens como robustez a outliers, resistência a overfitting (devido à agregação de árvores) e capacidade de modelar relações não-lineares entre os atributos e a variável alvo.\n",
    "\n",
    "A avaliação do desempenho foi realizada com as principais métricas de classificação, além da matriz de confusão.\n"
   ]
  },
  {
   "cell_type": "code",
   "execution_count": 25,
   "metadata": {
    "colab": {
     "base_uri": "https://localhost:8080/"
    },
    "id": "cEIdwQN1d5Dx",
    "outputId": "eac52b8b-5e86-4edf-ab8f-fe077af8461e"
   },
   "outputs": [
    {
     "name": "stdout",
     "output_type": "stream",
     "text": [
      "🌳 RANDOM FOREST\n",
      "-----------------\n",
      "[[936  97]\n",
      " [199 175]]\n",
      "              precision    recall  f1-score   support\n",
      "\n",
      "       False       0.82      0.91      0.86      1033\n",
      "        True       0.64      0.47      0.54       374\n",
      "\n",
      "    accuracy                           0.79      1407\n",
      "   macro avg       0.73      0.69      0.70      1407\n",
      "weighted avg       0.78      0.79      0.78      1407\n",
      "\n"
     ]
    }
   ],
   "source": [
    "from sklearn.ensemble import RandomForestClassifier\n",
    "from sklearn.metrics import classification_report, confusion_matrix\n",
    "\n",
    "# Instanciação e treinamento do modelo Random Forest com dados originais\n",
    "modelo_rf = RandomForestClassifier(random_state=42)\n",
    "modelo_rf.fit(X_train, y_train)\n",
    "\n",
    "# Geração de previsões\n",
    "y_pred_rf = modelo_rf.predict(X_test)\n",
    "\n",
    "# Avaliação do desempenho do modelo\n",
    "print(\"🌳 RANDOM FOREST\")\n",
    "print(\"-\" * 17)\n",
    "print(confusion_matrix(y_test, y_pred_rf))               # Matriz de confusão\n",
    "print(classification_report(y_test, y_pred_rf))          # Métricas de desempenho (precision, recall, f1-score)\n"
   ]
  },
  {
   "cell_type": "markdown",
   "metadata": {},
   "source": [
    "## 🤖 Modelo 3: K-Nearest Neighbors (KNN)\n",
    "\n",
    "O algoritmo **K-Nearest Neighbors (KNN)** foi utilizado como método de classificação baseado em proximidade. Esse modelo estima a classe de uma amostra com base nas `k` observações mais próximas no espaço amostral, sendo o valor de `k` definido como 5 nesta análise.\n",
    "\n",
    "Devido à sua natureza baseada em distância euclidiana, o KNN requer que os atributos numéricos estejam na **mesma escala**. Assim, os dados foram previamente **padronizados** utilizando `StandardScaler`.\n",
    "\n",
    "O modelo foi treinado com os dados normalizados (`X_train_norm`) e avaliado com base nas principais métricas de classificação.\n"
   ]
  },
  {
   "cell_type": "code",
   "execution_count": 26,
   "metadata": {
    "colab": {
     "base_uri": "https://localhost:8080/"
    },
    "id": "yvZ0kAdRgFOu",
    "outputId": "0d0f0105-f697-4391-9dc3-d4e6517ccab1"
   },
   "outputs": [
    {
     "name": "stdout",
     "output_type": "stream",
     "text": [
      "🔍 KNN\n",
      "----------\n",
      "[[880 153]\n",
      " [189 185]]\n",
      "              precision    recall  f1-score   support\n",
      "\n",
      "       False       0.82      0.85      0.84      1033\n",
      "        True       0.55      0.49      0.52       374\n",
      "\n",
      "    accuracy                           0.76      1407\n",
      "   macro avg       0.69      0.67      0.68      1407\n",
      "weighted avg       0.75      0.76      0.75      1407\n",
      "\n"
     ]
    }
   ],
   "source": [
    "from sklearn.neighbors import KNeighborsClassifier\n",
    "from sklearn.metrics import classification_report, confusion_matrix\n",
    "\n",
    "# Instanciação do modelo KNN com k=5\n",
    "modelo_knn = KNeighborsClassifier(n_neighbors=5)\n",
    "\n",
    "# Treinamento com dados normalizados\n",
    "modelo_knn.fit(X_train_norm, y_train)\n",
    "\n",
    "# Geração de previsões com dados normalizados\n",
    "y_pred_knn = modelo_knn.predict(X_test_norm)\n",
    "\n",
    "# Avaliação do desempenho preditivo\n",
    "print(\"🔍 KNN\")\n",
    "print(\"-\" * 10)\n",
    "print(confusion_matrix(y_test, y_pred_knn))               # Matriz de confusão\n",
    "print(classification_report(y_test, y_pred_knn))          # Métricas: precisão, recall, F1-score\n"
   ]
  },
  {
   "cell_type": "markdown",
   "metadata": {},
   "source": [
    "## 🌳 Modelo 4: Árvore de Decisão\n",
    "\n",
    "A **Árvore de Decisão (Decision Tree Classifier)** foi empregada como modelo de classificação baseado em regras hierárquicas. Trata-se de um algoritmo interpretável, que realiza partições recursivas nos dados a partir de critérios de impureza (ex. Gini ou entropia).\n",
    "\n",
    "Por ser insensível à escala dos dados, o modelo foi treinado com os dados originais (sem normalização). Sua principal vantagem reside na capacidade de capturar interações não lineares entre variáveis e gerar representações lógicas interpretáveis.\n",
    "\n",
    "A avaliação de desempenho foi conduzida por meio de métricas clássicas de classificação, incluindo **precisão**, **revocação**, **F1-score** e a **matriz de confusão**.\n"
   ]
  },
  {
   "cell_type": "code",
   "execution_count": 27,
   "metadata": {
    "colab": {
     "base_uri": "https://localhost:8080/"
    },
    "id": "0g_CLpCUgE7-",
    "outputId": "edde7bd6-8375-4cc8-8b8e-bc4d65009b40"
   },
   "outputs": [
    {
     "name": "stdout",
     "output_type": "stream",
     "text": [
      "🌳 ÁRVORE DE DECISÃO\n",
      "---------------------\n",
      "[[833 200]\n",
      " [185 189]]\n",
      "              precision    recall  f1-score   support\n",
      "\n",
      "       False       0.82      0.81      0.81      1033\n",
      "        True       0.49      0.51      0.50       374\n",
      "\n",
      "    accuracy                           0.73      1407\n",
      "   macro avg       0.65      0.66      0.65      1407\n",
      "weighted avg       0.73      0.73      0.73      1407\n",
      "\n"
     ]
    }
   ],
   "source": [
    "\n",
    "from sklearn.tree import DecisionTreeClassifier\n",
    "from sklearn.metrics import classification_report, confusion_matrix\n",
    "\n",
    "# Instanciação e treinamento do modelo de Árvore de Decisão com dados não normalizados\n",
    "modelo_dt = DecisionTreeClassifier(random_state=42)\n",
    "modelo_dt.fit(X_train, y_train)\n",
    "\n",
    "# Geração de previsões\n",
    "y_pred_dt = modelo_dt.predict(X_test)\n",
    "\n",
    "# Avaliação do desempenho preditivo\n",
    "print(\"🌳 ÁRVORE DE DECISÃO\")\n",
    "print(\"-\" * 21)\n",
    "print(confusion_matrix(y_test, y_pred_dt))               # Matriz de confusão\n",
    "print(classification_report(y_test, y_pred_dt))          # Métricas de avaliação: precisão, recall, F1-score\n"
   ]
  },
  {
   "cell_type": "markdown",
   "metadata": {},
   "source": [
    "## 📊 Comparação de Desempenho entre Modelos Preditivos\n",
    "\n",
    "Com o objetivo de selecionar o modelo mais adequado para a predição da evasão de clientes, foi realizada uma análise comparativa entre os quatro algoritmos implementados. As métricas utilizadas na avaliação foram:\n",
    "\n",
    "- **Acurácia**: proporção de predições corretas sobre o total de amostras;\n",
    "- **Precisão**: proporção de predições positivas corretas em relação ao total de predições positivas;\n",
    "- **Revocação (Recall)**: proporção de verdadeiros positivos corretamente identificados;\n",
    "- **F1-Score**: média harmônica entre precisão e recall;\n",
    "- **Matriz de Confusão**: representação da performance do classificador nas classes positivas e negativas.\n",
    "\n",
    "Os resultados foram organizados em uma tabela ordenada pelo valor do F1-Score, métrica mais adequada para cenários com classes desbalanceadas.\n"
   ]
  },
  {
   "cell_type": "code",
   "execution_count": 28,
   "metadata": {
    "colab": {
     "base_uri": "https://localhost:8080/",
     "height": 209
    },
    "id": "QJ5xNE6Ch2ae",
    "outputId": "b665d0ca-657b-43bf-f500-18e68c9b116b"
   },
   "outputs": [
    {
     "name": "stdout",
     "output_type": "stream",
     "text": [
      "📊 COMPARATIVO DE MODELOS\n",
      "--------------------------\n"
     ]
    },
    {
     "data": {
      "application/vnd.microsoft.datawrangler.viewer.v0+json": {
       "columns": [
        {
         "name": "index",
         "rawType": "int64",
         "type": "integer"
        },
        {
         "name": "Modelo",
         "rawType": "object",
         "type": "string"
        },
        {
         "name": "Acurácia",
         "rawType": "float64",
         "type": "float"
        },
        {
         "name": "Precisão",
         "rawType": "float64",
         "type": "float"
        },
        {
         "name": "Recall",
         "rawType": "float64",
         "type": "float"
        },
        {
         "name": "F1-Score",
         "rawType": "float64",
         "type": "float"
        },
        {
         "name": "Matriz de Confusão",
         "rawType": "object",
         "type": "string"
        }
       ],
       "ref": "70075075-bfe4-431c-859b-95a0edfe0074",
       "rows": [
        [
         "0",
         "Regressão Logística",
         "0.7996",
         "0.6544",
         "0.5214",
         "0.5804",
         "[[930, 103], [179, 195]]"
        ],
        [
         "1",
         "Random Forest",
         "0.7896",
         "0.6434",
         "0.4679",
         "0.5418",
         "[[936, 97], [199, 175]]"
        ],
        [
         "2",
         "KNN",
         "0.7569",
         "0.5473",
         "0.4947",
         "0.5197",
         "[[880, 153], [189, 185]]"
        ],
        [
         "3",
         "Árvore de Decisão",
         "0.7264",
         "0.4859",
         "0.5053",
         "0.4954",
         "[[833, 200], [185, 189]]"
        ]
       ],
       "shape": {
        "columns": 6,
        "rows": 4
       }
      },
      "text/html": [
       "<div>\n",
       "<style scoped>\n",
       "    .dataframe tbody tr th:only-of-type {\n",
       "        vertical-align: middle;\n",
       "    }\n",
       "\n",
       "    .dataframe tbody tr th {\n",
       "        vertical-align: top;\n",
       "    }\n",
       "\n",
       "    .dataframe thead th {\n",
       "        text-align: right;\n",
       "    }\n",
       "</style>\n",
       "<table border=\"1\" class=\"dataframe\">\n",
       "  <thead>\n",
       "    <tr style=\"text-align: right;\">\n",
       "      <th></th>\n",
       "      <th>Modelo</th>\n",
       "      <th>Acurácia</th>\n",
       "      <th>Precisão</th>\n",
       "      <th>Recall</th>\n",
       "      <th>F1-Score</th>\n",
       "      <th>Matriz de Confusão</th>\n",
       "    </tr>\n",
       "  </thead>\n",
       "  <tbody>\n",
       "    <tr>\n",
       "      <th>0</th>\n",
       "      <td>Regressão Logística</td>\n",
       "      <td>0.7996</td>\n",
       "      <td>0.6544</td>\n",
       "      <td>0.5214</td>\n",
       "      <td>0.5804</td>\n",
       "      <td>[[930, 103], [179, 195]]</td>\n",
       "    </tr>\n",
       "    <tr>\n",
       "      <th>1</th>\n",
       "      <td>Random Forest</td>\n",
       "      <td>0.7896</td>\n",
       "      <td>0.6434</td>\n",
       "      <td>0.4679</td>\n",
       "      <td>0.5418</td>\n",
       "      <td>[[936, 97], [199, 175]]</td>\n",
       "    </tr>\n",
       "    <tr>\n",
       "      <th>2</th>\n",
       "      <td>KNN</td>\n",
       "      <td>0.7569</td>\n",
       "      <td>0.5473</td>\n",
       "      <td>0.4947</td>\n",
       "      <td>0.5197</td>\n",
       "      <td>[[880, 153], [189, 185]]</td>\n",
       "    </tr>\n",
       "    <tr>\n",
       "      <th>3</th>\n",
       "      <td>Árvore de Decisão</td>\n",
       "      <td>0.7264</td>\n",
       "      <td>0.4859</td>\n",
       "      <td>0.5053</td>\n",
       "      <td>0.4954</td>\n",
       "      <td>[[833, 200], [185, 189]]</td>\n",
       "    </tr>\n",
       "  </tbody>\n",
       "</table>\n",
       "</div>"
      ],
      "text/plain": [
       "                Modelo  Acurácia  Precisão  Recall  F1-Score  \\\n",
       "0  Regressão Logística    0.7996    0.6544  0.5214    0.5804   \n",
       "1        Random Forest    0.7896    0.6434  0.4679    0.5418   \n",
       "2                  KNN    0.7569    0.5473  0.4947    0.5197   \n",
       "3    Árvore de Decisão    0.7264    0.4859  0.5053    0.4954   \n",
       "\n",
       "         Matriz de Confusão  \n",
       "0  [[930, 103], [179, 195]]  \n",
       "1   [[936, 97], [199, 175]]  \n",
       "2  [[880, 153], [189, 185]]  \n",
       "3  [[833, 200], [185, 189]]  "
      ]
     },
     "metadata": {},
     "output_type": "display_data"
    }
   ],
   "source": [
    "import pandas as pd\n",
    "from sklearn.metrics import accuracy_score, precision_score, recall_score, f1_score, confusion_matrix\n",
    "\n",
    "# Função para calcular e formatar as principais métricas de avaliação de cada modelo\n",
    "def gerar_metricas(nome, modelo, X_test, y_test, y_pred):\n",
    "    cm = confusion_matrix(y_test, y_pred)\n",
    "    cm_str = f\"[[{cm[0][0]}, {cm[0][1]}], [{cm[1][0]}, {cm[1][1]}]]\"\n",
    "\n",
    "    return {\n",
    "        'Modelo': nome,\n",
    "        'Acurácia': accuracy_score(y_test, y_pred),\n",
    "        'Precisão': precision_score(y_test, y_pred),\n",
    "        'Recall': recall_score(y_test, y_pred),\n",
    "        'F1-Score': f1_score(y_test, y_pred),\n",
    "        'Matriz de Confusão': cm_str\n",
    "    }\n",
    "\n",
    "# Coleta das métricas para cada modelo testado\n",
    "resultados = [\n",
    "    gerar_metricas(\"Regressão Logística\", modelo_log, X_test_norm, y_test, y_pred_log),\n",
    "    gerar_metricas(\"Random Forest\", modelo_rf, X_test, y_test, y_pred_rf),\n",
    "    gerar_metricas(\"KNN\", modelo_knn, X_test_norm, y_test, y_pred_knn),\n",
    "    gerar_metricas(\"Árvore de Decisão\", modelo_dt, X_test, y_test, y_pred_dt)\n",
    "]\n",
    "\n",
    "# Organização dos resultados em DataFrame e ordenação pelo F1-Score\n",
    "df_resultados = pd.DataFrame(resultados)\n",
    "df_resultados = df_resultados.sort_values(by='F1-Score', ascending=False)\n",
    "\n",
    "# Exibição final da tabela comparativa\n",
    "print(\"📊 COMPARATIVO DE MODELOS\")\n",
    "print(\"-\" * 26)\n",
    "display(df_resultados.round(4))\n",
    "\n",
    "\n"
   ]
  },
  {
   "cell_type": "code",
   "execution_count": 29,
   "metadata": {
    "colab": {
     "base_uri": "https://localhost:8080/",
     "height": 607
    },
    "id": "5n3x9Lib862f",
    "outputId": "0f13f336-6cd6-44ee-c89f-cb8b79bf8be8"
   },
   "outputs": [
    {
     "data": {
      "image/png": "[encoded data removed]",
      "text/plain": [
       "<Figure size 1200x600 with 1 Axes>"
      ]
     },
     "metadata": {},
     "output_type": "display_data"
    }
   ],
   "source": [
    "import pandas as pd\n",
    "import matplotlib.pyplot as plt\n",
    "\n",
    "# Criar DataFrame com as métricas de desempenho dos modelos\n",
    "dados_modelos = pd.DataFrame({\n",
    "    'Modelo': ['Regressão Logística', 'Random Forest', 'KNN', 'Árvore de Decisão'],\n",
    "    'Acurácia': [0.7996, 0.7896, 0.7569, 0.7264],\n",
    "    'Precisão': [0.6544, 0.6434, 0.5473, 0.4859],\n",
    "    'Recall': [0.5214, 0.4679, 0.4947, 0.5053],\n",
    "    'F1-Score': [0.5804, 0.5418, 0.5197, 0.4954]\n",
    "})\n",
    "\n",
    "# Gerar gráfico de barras com colormap amigável para daltônicos (tab10)\n",
    "ax = dados_modelos.set_index('Modelo').plot(\n",
    "    kind='bar',\n",
    "    figsize=(12, 6),\n",
    "    colormap='tab10'\n",
    ")\n",
    "\n",
    "# Configurações do gráfico\n",
    "plt.title('Comparativo de Desempenho dos Modelos')\n",
    "plt.ylabel('Pontuação')\n",
    "plt.ylim(0, 1)\n",
    "plt.xticks(rotation=0)\n",
    "plt.grid(axis='y')\n",
    "plt.legend(title='Métricas')\n",
    "plt.tight_layout()\n",
    "plt.show()\n",
    "\n"
   ]
  },
  {
   "cell_type": "markdown",
   "metadata": {
    "id": "3eYSy4NheS5x"
   },
   "source": [
    "## 🤖  <b><font color=\"salmon\">Avaliação Comparativa dos Modelos Preditivos</font></b>\n",
    "\n",
    "Com o objetivo de prever a evasão de clientes, foram avaliados **quatro algoritmos de aprendizado supervisionado**, aplicando diferentes abordagens quanto à necessidade de normalização dos dados. A análise de desempenho foi realizada com base nas seguintes métricas:\n",
    "\n",
    "- **Acurácia**: proporção total de acertos do modelo;  \n",
    "- **Precisão**: proporção de predições positivas corretas;  \n",
    "- **Recall** (*sensibilidade*): capacidade de identificar corretamente os casos positivos;  \n",
    "- **F1-score**: média harmônica entre precisão e recall, útil em contextos de classes desbalanceadas;  \n",
    "- **Matriz de Confusão**: análise detalhada de acertos e erros por classe.\n",
    "\n",
    "<br>\n",
    "\n",
    "### 📌 **Modelo 1 — Regressão Logística** *(com normalização)*\n",
    "\n",
    "- Classificador linear indicado para problemas de **classificação binária**.  \n",
    "- Sensível à escala das variáveis, requerendo **normalização prévia**.  \n",
    "- Altamente interpretável, permitindo inferência estatística sobre a importância dos atributos.  \n",
    "- Apresentou **o melhor desempenho global**, sendo utilizado como **modelo de referência (baseline)**.\n",
    "\n",
    "---\n",
    "\n",
    "### 📌 **Modelo 2 — Random Forest** *(sem normalização)*\n",
    "\n",
    "- Método de aprendizado do tipo **ensemble**, baseado em múltiplas árvores de decisão.  \n",
    "- Robusto a outliers e ruído, **não requer normalização** dos dados.  \n",
    "- Capaz de modelar interações não lineares entre variáveis.  \n",
    "- Apresentou desempenho consistente, mas com recall inferior ao da Regressão Logística.\n",
    "\n",
    "---\n",
    "\n",
    "### 📌 **Modelo 3 — KNN (K-Nearest Neighbors)** *(com normalização)*\n",
    "\n",
    "- Algoritmo baseado em **proximidade entre amostras**, altamente sensível à escala dos dados.  \n",
    "- Simples e intuitivo, porém sujeito a degradação de desempenho em bases desbalanceadas ou ruidosas.  \n",
    "- Apresentou **resultados medianos**, sugerindo **underfitting** e limitação na generalização.\n",
    "\n",
    "---\n",
    "\n",
    "### 📌 **Modelo 4 — Árvore de Decisão** *(sem normalização)*\n",
    "\n",
    "- Modelo hierárquico interpretável, construído com base em divisões sucessivas dos dados.  \n",
    "- **Não requer normalização**, mas é sensível ao overfitting caso não sejam aplicadas técnicas de poda.  \n",
    "- Desempenho global inferior aos demais, com o **menor F1-score**, indicando **capacidade limitada de generalização**.\n",
    "\n",
    "---\n",
    "\n",
    "### 🏆 <b><font color=\"salmon\">Conclusão: Modelo Recomendado — Regressão Logística</font></b>\n",
    "\n",
    "Com base nos resultados obtidos e conforme evidenciado na tabela e no gráfico comparativo:\n",
    "\n",
    "- ✅ A **Regressão Logística** obteve:  \n",
    "  - **Maior acurácia (0.7996)** e **F1-score (0.5804)**.  \n",
    "  - Bom equilíbrio entre **precisão (0.6544)** e **recall (0.5214)**.  \n",
    "  - Simplicidade, eficiência e interpretabilidade — qualidades desejáveis em contextos de decisão estratégica.\n",
    "\n",
    "- 🔍 A **Random Forest** demonstrou desempenho robusto, porém com recall inferior, o que pode comprometer a identificação de clientes propensos à evasão.\n",
    "\n",
    "- ⚠️ Os modelos **KNN** e **Árvore de Decisão** apresentaram **desempenho aquém do esperado**, sugerindo necessidade de ajustes de hiperparâmetros ou técnicas adicionais para ganho de generalização.\n",
    "\n",
    "---\n",
    "\n",
    "Em síntese, a **Regressão Logística** revelou-se como a abordagem mais eficiente, estável e interpretável para o problema proposto, sendo recomendada como **modelo preditivo principal para aplicações práticas e diagnósticos de retenção de clientes**.\n"
   ]
  },
  {
   "cell_type": "markdown",
   "metadata": {
    "id": "4YlK7CwK7kNA"
   },
   "source": [
    "#🚀 <b><font color=\"salmon\" size=\"6\">INTERPRETAÇÃO & CONCLUSÃO</font></b>"
   ]
  },
  {
   "cell_type": "markdown",
   "metadata": {
    "id": "UPPlc0-MlXWu"
   },
   "source": [
    "## 🔍 <b><font color=\"salmon\">Análise da Importância das Variáveis</font></b>\n",
    "\n",
    "O gráfico apresentado a seguir ilustra a **contribuição relativa das variáveis explicativas** no modelo de **Regressão Logística**, treinado com os dados previamente **normalizados**.\n",
    "\n",
    "A relevância das variáveis foi inferida com base na **magnitude dos coeficientes estimados**, os quais representam o peso de cada preditor na função logística. Variáveis com coeficientes de maior valor absoluto exercem maior influência na probabilidade estimada de evasão.\n",
    "\n",
    "As variáveis posicionadas no topo do gráfico são aquelas com **maior impacto sobre a predição da evasão de clientes**, indicando que **pequenas variações nesses atributos podem alterar substancialmente a probabilidade de cancelamento** dos serviços por parte dos usuários.\n",
    "\n",
    "Esta análise permite **interpretabilidade do modelo** e pode orientar ações estratégicas para **retenção de clientes**, com foco em variáveis sensíveis ao comportamento de evasão.\n",
    "\n",
    "\n",
    "\n",
    "\n",
    "\n"
   ]
  },
  {
   "cell_type": "code",
   "execution_count": 30,
   "metadata": {
    "colab": {
     "base_uri": "https://localhost:8080/",
     "height": 607
    },
    "id": "xx0M_JyH3-gT",
    "outputId": "03f550fc-3409-4859-ee84-98dc202d49e0"
   },
   "outputs": [
    {
     "data": {
      "image/png": "[encoded data removed]",
      "text/plain": [
       "<Figure size 1000x600 with 1 Axes>"
      ]
     },
     "metadata": {},
     "output_type": "display_data"
    }
   ],
   "source": [
    "# 🔍 Extração e visualização da importância das variáveis segundo a Regressão Logística\n",
    "\n",
    "import numpy as np\n",
    "import pandas as pd\n",
    "import matplotlib.pyplot as plt\n",
    "import seaborn as sns\n",
    "\n",
    "# Extração dos coeficientes do modelo treinado\n",
    "coeficientes = modelo_log.coef_[0]\n",
    "\n",
    "# A importância é determinada pela magnitude absoluta dos coeficientes\n",
    "importancias = np.abs(coeficientes)\n",
    "\n",
    "# Construção de DataFrame com os nomes das variáveis e suas respectivas importâncias\n",
    "df_importancias = pd.DataFrame({\n",
    "    'Variável': X_train.columns,\n",
    "    'Importância': importancias\n",
    "}).sort_values(by='Importância', ascending=False)\n",
    "\n",
    "# Plotagem da importância das variáveis (com cor única e estilo claro)\n",
    "plt.figure(figsize=(10, 6))\n",
    "sns.barplot(\n",
    "    x='Importância',\n",
    "    y='Variável',\n",
    "    data=df_importancias,\n",
    "    color='skyblue'  # Cor suave e única para facilitar a leitura\n",
    ")\n",
    "\n",
    "# Ajustes estéticos e informativos do gráfico\n",
    "plt.title('Importância das Variáveis no Modelo de Regressão Logística')\n",
    "plt.xlabel('Magnitude do Coeficiente (Importância Relativa)')\n",
    "plt.ylabel('Variáveis')\n",
    "plt.tight_layout()\n",
    "plt.show()\n"
   ]
  },
  {
   "cell_type": "markdown",
   "metadata": {
    "id": "2SvpqgIdfX1K"
   },
   "source": [
    "# <b><font color=\"salmon\">Considerações Finais da Análise Preditiva</font></b>\n",
    "\n",
    "A presente análise preditiva teve como objetivo identificar os principais determinantes da **evasão de clientes** e avaliar o desempenho de diferentes algoritmos de classificação aplicados ao conjunto de dados. A abordagem adotada permitiu extrair **insights estratégicos** com base em técnicas de **aprendizado supervisionado** e estatística multivariada.\n",
    "\n",
    "<br/>\n",
    "\n",
    "## <b><font color=\"salmon\">Principais Resultados:</font></b>\n",
    "\n",
    "- O modelo de **Regressão Logística** apresentou o melhor desempenho global entre os modelos testados, atingindo:\n",
    "  - **Acurácia** de aproximadamente **79,96%**;\n",
    "  - **Precisão** de **65,44%**;\n",
    "  - **Recall** de **52,14%**;\n",
    "  - **F1-Score** de **58,04%**, o que indica bom equilíbrio entre identificação de casos positivos e negativos em um cenário de classes desbalanceadas.\n",
    "\n",
    "- O **Random Forest** apresentou **acurácia competitiva (78,96%)**, porém com menor sensibilidade (recall), reduzindo sua eficácia na identificação de clientes com alta propensão ao cancelamento.\n",
    "\n",
    "- As variáveis com **maior impacto preditivo** no modelo incluem:\n",
    "  - **Tempo de Contrato**: clientes com contratos mais curtos demonstram maior propensão à evasão.\n",
    "  - **Valor Mensal**: valores mais elevados correlacionam-se com maior taxa de cancelamento.\n",
    "  - **Serviços adicionais** (como proteção online, backup e suporte técnico) contribuíram de forma significativa na segmentação dos perfis de evasão.\n",
    "\n",
    "<br/>\n",
    "\n",
    "## <b><font color=\"salmon\">Implicações Estratégicas e Recomendações:</font></b>\n",
    "\n",
    "- Implementar **estratégias de retenção direcionadas** para clientes com menor tempo de contrato e alto valor mensal, uma vez que estes representam grupos de maior risco.\n",
    "\n",
    "- Avaliar a viabilidade de **políticas de fidelização**, como descontos escalonados ou pacotes personalizados, visando aumentar o ciclo de vida do cliente.\n",
    "\n",
    "- Integrar o modelo de **Regressão Logística como ferramenta preditiva operacional**, possibilitando o **monitoramento contínuo** de clientes e **intervenções proativas**, reduzindo a taxa de churn.\n",
    "\n",
    "<br/>\n",
    "\n",
    "> Este estudo evidencia o potencial da **Ciência de Dados aplicada ao contexto empresarial**, fornecendo subsídios analíticos para **antecipação de comportamentos de cancelamento** e elaboração de **estratégias inteligentes de retenção de clientes**, com base em dados reais e modelagem preditiva robusta.\n"
   ]
  },
  {
   "cell_type": "code",
   "execution_count": 32,
   "id": "a8a63b9f",
   "metadata": {},
   "outputs": [
    {
     "data": {
      "image/png": "[encoded data removed]",
      "text/plain": [
       "<Figure size 800x600 with 1 Axes>"
      ]
     },
     "metadata": {},
     "output_type": "display_data"
    }
   ],
   "source": [
    "\n",
    "from sklearn.metrics import roc_curve, auc\n",
    "import matplotlib.pyplot as plt\n",
    "\n",
    "# Gerar probabilidades do modelo treinado\n",
    "y_probs = modelo_log.predict_proba(X_test_norm)[:, 1]\n",
    "\n",
    "# Calcular valores para a curva ROC\n",
    "fpr, tpr, thresholds = roc_curve(y_test, y_probs)\n",
    "roc_auc = auc(fpr, tpr)\n",
    "\n",
    "# Plotar curva ROC\n",
    "plt.figure(figsize=(8, 6))\n",
    "plt.plot(fpr, tpr, color='darkorange', lw=2, label=f'Curva ROC (área = {roc_auc:.2f})')\n",
    "plt.plot([0, 1], [0, 1], color='navy', lw=2, linestyle='--')\n",
    "plt.xlim([-0.01, 1.01])\n",
    "plt.ylim([-0.01, 1.01])\n",
    "plt.xlabel('Falso Positivo')\n",
    "plt.ylabel('Verdadeiro Positivo')\n",
    "plt.title('Curva ROC - Regressão Logística')\n",
    "plt.legend(loc=\"lower right\")\n",
    "plt.grid(True)\n",
    "plt.show()\n"
   ]
  },
  {
   "cell_type": "code",
   "execution_count": 33,
   "id": "da08687c",
   "metadata": {},
   "outputs": [
    {
     "name": "stdout",
     "output_type": "stream",
     "text": [
      "Melhores parâmetros encontrados:\n",
      "{'max_depth': 10, 'min_samples_split': 5, 'n_estimators': 100}\n",
      "Melhor F1-score na validação cruzada:\n",
      "0.5791455307553548\n"
     ]
    }
   ],
   "source": [
    "\n",
    "from sklearn.model_selection import GridSearchCV\n",
    "\n",
    "# Parâmetros a testar para o RandomForest\n",
    "param_grid = {\n",
    "    'n_estimators': [100, 200],\n",
    "    'max_depth': [None, 10, 20],\n",
    "    'min_samples_split': [2, 5]\n",
    "}\n",
    "\n",
    "grid_search = GridSearchCV(RandomForestClassifier(random_state=42), param_grid, cv=5, scoring='f1', n_jobs=-1)\n",
    "grid_search.fit(X_treino, y_treino)\n",
    "\n",
    "print(\"Melhores parâmetros encontrados:\")\n",
    "print(grid_search.best_params_)\n",
    "print(\"Melhor F1-score na validação cruzada:\")\n",
    "print(grid_search.best_score_)\n"
   ]
  },
  {
   "cell_type": "code",
   "execution_count": 34,
   "id": "22f7b353",
   "metadata": {},
   "outputs": [
    {
     "name": "stdout",
     "output_type": "stream",
     "text": [
      "Relatório de Classificação (Pipeline):\n",
      "              precision    recall  f1-score   support\n",
      "\n",
      "       False       0.84      0.89      0.86      1033\n",
      "        True       0.64      0.54      0.58       374\n",
      "\n",
      "    accuracy                           0.80      1407\n",
      "   macro avg       0.74      0.71      0.72      1407\n",
      "weighted avg       0.79      0.80      0.79      1407\n",
      "\n"
     ]
    }
   ],
   "source": [
    "\n",
    "from sklearn.pipeline import Pipeline\n",
    "from sklearn.preprocessing import StandardScaler\n",
    "\n",
    "# Pipeline com normalização e regressão logística\n",
    "pipeline = Pipeline([\n",
    "    ('scaler', StandardScaler()),\n",
    "    ('modelo', LogisticRegression(random_state=42))\n",
    "])\n",
    "\n",
    "pipeline.fit(X_treino, y_treino)\n",
    "y_pred_pipe = pipeline.predict(X_teste)\n",
    "\n",
    "from sklearn.metrics import classification_report\n",
    "print(\"Relatório de Classificação (Pipeline):\")\n",
    "print(classification_report(y_teste, y_pred_pipe))\n"
   ]
  },
  {
   "cell_type": "markdown",
   "id": "7e0c2852",
   "metadata": {},
   "source": [
    "\n",
    "# 🧠 <font color=\"#FA8072\">Conclusão Geral da Análise</font>\n",
    "\n",
    "A análise preditiva de evasão de clientes permitiu identificar fatores-chave e selecionar o melhor modelo para a tarefa.\n",
    "\n",
    "### ✅ Principais Conclusões:\n",
    "\n",
    "- **Modelos treinados**: Regressão Logística, Random Forest e Pipeline com normalização.\n",
    "- **Melhor desempenho**: A Regressão Logística se destacou no F1-score e interpretabilidade.\n",
    "- **Variáveis mais relevantes**: tempo de contrato, valor mensal, suporte técnico e fidelidade.\n",
    "- **Técnicas complementares**:\n",
    "  - Utilização de **SMOTE** para balanceamento de classes.\n",
    "  - Avaliação com **curva ROC**.\n",
    "  - Otimização de hiperparâmetros com **GridSearchCV**.\n",
    "\n",
    "Essa abordagem pode ser aplicada diretamente em contextos reais de negócios para **redução da evasão e fidelização de clientes**.\n",
    "\n",
    "---\n"
   ]
  }
 ],
 "metadata": {
  "accelerator": "GPU",
  "colab": {
   "collapsed_sections": [
    "4foVEKhrlqcH",
    "1lSZP8zmmGZu",
    "6XnTC2NTmMRL"
   ],
   "gpuType": "T4",
   "provenance": []
  },
  "kernelspec": {
   "display_name": "Python 3",
   "name": "python3"
  },
  "language_info": {
   "codemirror_mode": {
    "name": "ipython",
    "version": 3
   },
   "file_extension": ".py",
   "mimetype": "text/x-python",
   "name": "python",
   "nbconvert_exporter": "python",
   "pygments_lexer": "ipython3",
   "version": "3.13.5"
  }
 },
 "nbformat": 4,
 "nbformat_minor": 0
}
